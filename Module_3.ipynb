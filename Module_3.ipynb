{
  "nbformat": 4,
  "nbformat_minor": 0,
  "metadata": {
    "colab": {
      "name": "Module_3.ipynb",
      "provenance": [],
      "toc_visible": true
    },
    "kernelspec": {
      "name": "python3",
      "display_name": "Python 3"
    },
    "language_info": {
      "name": "python"
    }
  },
  "cells": [
    {
      "cell_type": "markdown",
      "metadata": {
        "id": "_apgSueWno8v"
      },
      "source": [
        "# Module 3: Ciphers\n",
        "---\n",
        "## Introduction\n",
        "In this module, we will revisit some of the ciphers we saw in module 1. However, now armed with CUDA, we'll see how we can parallelize our programs to make them even faster.\n",
        "\n",
        "Before moving on, please watch lecture videos Parts 1 - 3 to complete this section. \n",
        "\n",
        "This assignment will cover:\n",
        "\n",
        "* Parallelizing the Caesar Cipher\n",
        "* The Affine Cipher\n",
        "---\n",
        "## Materials\n",
        "* Lecture Videos\n",
        "    * [Part 1](https://drive.google.com/file/d/1q4Hi9dKXhtOD0rDh3VvzoUn2OhqHXGJ-/view)\n",
        "    * [Part 2](https://drive.google.com/file/d/14F1MAbD69esFYLT2dIYDniVKex9ol4U7/view?usp=sharing)\n",
        "    * [Part 3](https://drive.google.com/file/d/1N8Ps0L7tL1B2sJx9XMHuw9H_CQMdCxLX/view?usp=sharing)\n",
        "    * Optional material: [Part 4](https://drive.google.com/file/d/1vqdP4SEswH5gVIZ2J2Qo8rhRN04gCEx8/view?usp=sharing)\n",
        "* [Slides](https://docs.google.com/presentation/d/1SsCLm-Z3ZxQJ9F3DFjk0OKpBNGyDcVNThvxqIELRmic/edit?usp=sharing)\n",
        "---\n",
        "## Assignment\n",
        "There are two parts to this assignment:\n",
        "\n",
        "* Part 1 -- The Caesar Cipher Revisited\n",
        "* Part 2 -- The Affine Cipher\n",
        "---\n",
        "## Module Learning Objectives\n",
        "* Recognize types of practical problems that can be parallelized using CUDA\n",
        "* Understand how many threads are needed to solve a given problem\n",
        "* Write kernels that decode messages (using brute force and a formula)"
      ]
    },
    {
      "cell_type": "markdown",
      "metadata": {
        "id": "LNO5yqUqQtMR"
      },
      "source": [
        "Before you dive in to Module 4, we need to:  \n",
        "* Install our CUDA plugin and load it into Colab\n",
        "* Figure out the correct compute capability for our GPU\n",
        "\n",
        "Run the following cells:"
      ]
    },
    {
      "cell_type": "code",
      "metadata": {
        "id": "334PEoRkQyse"
      },
      "source": [
        "!pip install git+git://github.com/andreinechaev/nvcc4jupyter.git"
      ],
      "execution_count": null,
      "outputs": []
    },
    {
      "cell_type": "code",
      "metadata": {
        "id": "uURukDk_Qy1M"
      },
      "source": [
        "%load_ext nvcc_plugin"
      ],
      "execution_count": null,
      "outputs": []
    },
    {
      "cell_type": "code",
      "metadata": {
        "id": "igVkgbI6Qy4_"
      },
      "source": [
        "!nvidia-smi"
      ],
      "execution_count": null,
      "outputs": []
    },
    {
      "cell_type": "markdown",
      "metadata": {
        "id": "Wvwuu_F3Q4bp"
      },
      "source": [
        "| GPU      | Compute Capability | `-arch flag` |\n",
        "| :-----------: | :-----------: | :-----------: |\n",
        "| Tesla K80 | 3.7 | `-arch=sm_37` |\n",
        "| NVIDIA T4 | 7.5 | `-arch=sm_75`   |\n",
        "| NVIDIA P4 | 6.1 | `-arch=sm_61` |\n",
        "| NVIDIA P100 | 6.0 | `-arch=sm_60`|"
      ]
    },
    {
      "cell_type": "markdown",
      "metadata": {
        "id": "-XarKwWeQ7_F"
      },
      "source": [
        "**Be sure to note down your compute capability for your GPU!**"
      ]
    },
    {
      "cell_type": "markdown",
      "metadata": {
        "id": "V_4LoPkmRAbK"
      },
      "source": [
        "Cool! Now that we have that out of the way, onwards with Module 3!"
      ]
    },
    {
      "cell_type": "markdown",
      "metadata": {
        "id": "n7ONHXKroB4G"
      },
      "source": [
        "## Part 1: The Caesar Cipher Revisited"
      ]
    },
    {
      "cell_type": "markdown",
      "metadata": {
        "id": "1Z4UGV34oCa-"
      },
      "source": [
        "### Introduction"
      ]
    },
    {
      "cell_type": "markdown",
      "metadata": {
        "id": "kVuytVCgoCen"
      },
      "source": [
        "In Part 2 of Module 1, we cracked some ciphertext encrypted using the Caesar Cipher by brute-forcing all possible combinations of the key, k. We are now going to revisit that same idea, but this time we will parallelize our implementation using CUDA."
      ]
    },
    {
      "cell_type": "markdown",
      "metadata": {
        "id": "56PUsU17oCiR"
      },
      "source": [
        "### Parallelization idea\n"
      ]
    },
    {
      "cell_type": "markdown",
      "metadata": {
        "id": "niPRYPI_oPve"
      },
      "source": [
        "Previously, we had to have two nested `for` loops in `caesar.c`. The outer for loop tried all possible values of the key while the inner for loop iterated through each character in our ciphertext. This time, we'll launch `N` separate threads--each thread will be responsible for trying a value of `k`. As soon as each thread has finished, we write its output to a buffer, and continue."
      ]
    },
    {
      "cell_type": "markdown",
      "metadata": {
        "id": "SNO2nh5soPz9"
      },
      "source": [
        "> What should the value of `N` be? (e.g., how many threads should we launch?)\\\n",
        "**TODO: Your answer here**"
      ]
    },
    {
      "cell_type": "markdown",
      "metadata": {
        "id": "1p30TYtMocl_"
      },
      "source": [
        "Some starter code has been provided for you:"
      ]
    },
    {
      "cell_type": "code",
      "metadata": {
        "id": "bIX9K-FDnmyx"
      },
      "source": [
        "%%cuda --name caesar.cu\n",
        "\n",
        "/*\n",
        " * caesar.cu \n",
        " * \n",
        " * Decrypts a message encrypted with the Caesar cipher.\n",
        " */\n",
        "\n",
        "#include <stdlib.h>\n",
        "#include <string.h>\n",
        "\n",
        "/* Number of threads to spawn */\n",
        "#define N /*...TODO ...*/\n",
        "\n",
        "/* Decrypts the ciphertext using brute-force */\n",
        "__global__ void caesar_decrypt(char* msg, char* msg_output) {\n",
        "    /* Include a bounds check here so we don't access \n",
        "       elements outside of N */\n",
        "\n",
        "    /* Each thread that we spawn tries a value of k */\n",
        "    ...\n",
        "    /* Logic for decrypting Caesar Shift */\n",
        "    ...\n",
        "    /* As soon as each thread finishes its work, it\n",
        "       writes to a unique section of msg_output */\n",
        "    ...\n",
        "}\n",
        "\n",
        "int main() {\n",
        "    char msg[] = \"kvoh wg hvs qodwhoz ct oggmfwo\";\n",
        "\n",
        "    /* Allocate memory on the GPU, copy it over,\n",
        "       and call your kernel. */\n",
        "    ...\n",
        "    /* Display the contents of msg_output */\n",
        "    ...\n",
        "    /* Don't forget to free host and device memory when done! */\n",
        "    ...\n",
        "}"
      ],
      "execution_count": null,
      "outputs": []
    },
    {
      "cell_type": "markdown",
      "metadata": {
        "id": "DGOXagifo5hm"
      },
      "source": [
        "### Tasks"
      ]
    },
    {
      "cell_type": "markdown",
      "metadata": {
        "id": "VyHh8E6ao-92"
      },
      "source": [
        "* Implement `caesar.cu`, defining a constant N which represents the number of threads to spawn in your program.\n",
        "* Finish implementing the `caesar_decrypt` kernel call. Spawn a single block of N threads.\n",
        "* Output each individual try for **k** to the console. For example:\n",
        "    * ```txt\n",
        "        dahhkTpdana\n",
        "        czggjSoczmz\n",
        "        byffiRnbyly\n",
        "        ...\n",
        "      ```"
      ]
    },
    {
      "cell_type": "markdown",
      "metadata": {
        "id": "94mH4tAhpAj2"
      },
      "source": [
        "* >What did the message decrypt to?\\\n",
        "    **TODO: Your answer here**"
      ]
    },
    {
      "cell_type": "markdown",
      "metadata": {
        "id": "6SblABnPsDMb"
      },
      "source": [
        "## Part 2: The Affine Cipher"
      ]
    },
    {
      "cell_type": "markdown",
      "metadata": {
        "id": "QJZvpAf0sN2R"
      },
      "source": [
        "### Introduction"
      ]
    },
    {
      "cell_type": "markdown",
      "metadata": {
        "id": "9Gs4Q7gtsN7P"
      },
      "source": [
        "As we wrap up our study of ciphers and CUDA, we will decrypt a message encrypted with the Affine cipher. Like the Caesar-shift, the Affine is also a monoalphabetic substitution cipher. However, each alphabet is now encrypted and decrypted using the respective mathematical function:\n",
        "\n",
        "![image.png](data:image/png;base64,iVBORw0KGgoAAAANSUhEUgAAA8YAAADPCAYAAAA3dsiUAAAgAElEQVR4Ae29i9UlPU8lfP4MmBQggyEFyABSYDKAFJgMIAXIAFKADIYUIAP41/7ed3+tVku+ylWqOqq1ul0XlyxvXSzZrvN8PrmO/+/z+WT6lwudXNhATpkOT2/++vP5/K9keuXxunP//zysj5l0B7zsYF/v/orfSbsr3fkV76w6mE1Wxc9zEIjQ6chxMRtyEfi8lUbJ6jljBHSwjgYC2Yy0weotjwofH3aNzZ99Pp9//3w+//P5fBCk6+dvukZf0c//+nw+f/mQvvqSvOfJm/Thzr5cYXf3aIjf6p14Z2/bR62eFAJtBHZ1O3pcbHN7/dNdfN78/vXSaLf4Zqwj+tZG78ufRgAcSSObOCL7FkErEz6yP3/+e5KIZPEfH5IoSv5XzjEzjv4+ZSIgk+6AlxXM652fcbvK7q7Unb//fD7//fl8/vPz+fyJ03Dpwc96IPFwIKvbhUAXAalHq+eR42KX4YsrrGLyDe9dLIpuc9+A+U4fuwB+c4UdYE+8m00WJ/q4QzMTPuwHVkyZIP7rlyU8fyf6HrmFjNhGlpl0B7xE9u0baV1pd1fpzl/9nhQjMcY/XFvHN8p7tM8WXnWvEBhBYFTHevWixsURnq+s0+v3Nz+/Ug4jbX2zLEb6PoLh19YZAfDKOtkEcWXfR9rKhA/4xZZpJsXYRj3Sh7fVwQo5MUBAkLV/mXQHvGTF6Ql8XW13V+kOVomZFKP8W6fhJ8joLh4dyOp2IdBFIFJnI8bFLsMXV4jE5220LhZFt7kRfPFbONh1hUlmjKmI3/7v5/P558/ng0UexLT4XA7x3dt2QnYB/OYKI8pzZZ1ssoDhSONgAnRXKYPG1jkCzD89DKZcsYLz+IYf3PJsAU6UOpF15fiwOkyT97Cs++1Jgzvsblq4Cy9wC7X0a//g0Ckd8XXEgaxuJ0IAeq0ngaTenzxHu//v8/n82+fzAR9/I2KFaLvaHRcTiewPrETj8yZ6T5OVnLhh7NYqkSxHyAvtMtlutWc9+4/AODtSXsg14E9WfBregQ9KdUQIOpJGKnB+n0myFPSuezMD5l8cBBOGIDHAj25E6sETafGHx4ALkpdsfTioDkuks+HzBH744za0vavsbknAEy/Bn1i+7Z8cGk+Q1V08OpDV7UQIWLp+9z0kyycmdXfGxUQi+wMrd9n0E9p9mqxmk9Mo2+DYvVpG/bBtpLyQFO/4L29nWCSPU7SyGdwU8xdUBj7YXoFZHvyTWyxGFRuzpniPNGZKvMc2MVs0o3z/+yA+GETZ/yiHkU0XZ/m5K2kZ5fOgOiyRHuW76v2YZIEPuMPulgQ88dK/OL4NA651lE780AmNhYVX3cuFAL6dxw4JrNhi8gf6PxpcYuzFO3h35h/bwfteHAHfgoQhckzfGRdzSc23OW2D33j9NFlh8YJbpxnbt5LlqEloJLbYrs08gDG+HNs5xltl1Od6UfLCaq/nT/R9+Dj4Ovov+MB0q8UAJpsBRwkrik4LH2wdbhkSnkVvL0a/8EutGFihXFrx5PWprdRsF0aLpL+F0bc9g9OiM4Ojy9T/KJuIopMJmyfwggGUunW13UXJ3KKDnS3Sb8lzBPHW8QR53cWjhVfdew4C1icFtAkElREHYggEpHrrI/1L9Ni+Oi5G9DWSxl02/YR2I3GOoLWKmRXT494qvZn3MCFFG/QSZcQBMzS9uhEYw4/AN8EvaV9Cn4XS+xHNCB6O0PBAu+v+kU5uEO3hIL+hoUKzjJrZkTzornBvv1RCnuu6Eddydgj9jE78ZV+fei63jmFWMEs/IuQfSSMLLk/gQw6Yd9hdpNw1rdYKFnyZdTxBZnfxaOFV956DAIJIjuG6PLELjBPdaIuxC0uMZVF6vDIuZpNaFBZvpPMWWVmJcVQy2pO7/P0QOZlEe0QZZZMR8kJCDL/RmtxOuSLc63xPUFc/7/F79fNe/y0johLj1+56788+9/qvt2Fh9ib60N8BRm63msUhc329dSzL98bR+rBLL7MMM/Gm9ekOu9uVtfc+vi3Swb++tv6WcSb5ZOPFw7ruPwMBbI/WNoDrE2M6EWFyzNhFllG7U7QfGxkXyV+WMputZ+Ini4zIxwo2WOiRus/zq8ZcJsPIK7S9kJeo1WvitFpyAg9juFww077LGr9X2/za91aU+eQ7LUHoRFEqxKlBzOurNqKoWSXZnlwdP0FftrVy3pLV1c9kcHNKF2b7tIJpvRM/uTWCqZQtZ2XhX7xvbmX9p5xzG5b0m9b5qU9CnoLT0/kc0fdvrqPl6+2gQPJ66oAtYpyy7A/3orZCzo6L2fTiFP5FNx6BFd2RfwaRiShKxNcr9GbfYYzNFWrJgzyfpWvV30Uc/oLxiLRr6UP4fLetr3/fEuCd91oCac2SnBrEWljQqGBANKxW/ZlneivnyGzvDP2Iui1ZXf1MB/1wHHcfERgXjWsGSOqK9jEnf2mebV5VcpUKA2krKH9Tn6/CNlM75TPaPkPKSo8bMsg8vSWx9W2z962/5H3kXPevNy5m052RPladHAis6A4+fZMJKM6jVmhH+GHbXKH2dqRGJOo7UmIizE87vMk8+JQ6AhAYUZ4r67S6ROWQgxfPT/38eKvv3IYB44r+tlUaaMbVYuCS7dD6cffKV0t36lk7eL0aH+qyTBjfNPuKAVX6SvSN17qMWq0iplVei8DVtvO09qQ0Wt/qMQiV9SPPpU1qG8R1VPsz42I2WUbiXbTOIrCiO9YPXkUvMnl84dNLJsZMfBFr854sI/5k0yr69BNMevVkl/QdNam9irJ6z1Oau+4r9n669GZJIgeRnxrsbOfQH+5HYSYTbhhnhFFG8SbpaKzuvtYO49QugtF+SqzqPFcirOUBmervb9+UIDIR5kqUXD2WAyvOT00yjtpN1dtDADuZMLGaddzQtnf1tUTXW7XFBNkVh7Y9eR1lhzPj4tWy6LV3hQyqjRgEerLUzzN9X0zerBVsxOCIyVlntVxFGWM2x23Q4LfG0lfwfLWNek8hsCrkU+8p9v54qZ07FYHlHysGn7T6KWecooIQOAu5WpztTxBJPIKhDiGnA/6oWfcV5iRWdb4/sJzEEP5FrhbLgWhF9pnekdvDOaPsJQTwp5yZztSH4mUMAciXKx1ZdxqdtOMR2hJJThgxjmAZ9WeaZFvWufQ5bJslVnqjjtFxcQS/K+tE9b/onEdgVi8QM9NXyZKrt7P0ZuvzU0i5Qq0XpchXxI7QFQlwnOa4DRp6Bwj9xZt2uK1gFfrOrDKdru91rjVLcnIQa/UXBkzDifpFbPwhctJEyW8fWnzc9cyT1Z33ue2EzuKkbvT6eZdcqt35JJwDEPXm9PeFPd2Jei4TfmkLenWc/UZ5906LqL5/Ix2Mkxw/MMFavuBXDKgXrcn2qNVatuWVrcQ40g5Hx8Vs+uLhVvfzITCrO9bq7JU+i35Sxtheso4kerZ/uv6sxPhjw9oPYNJejtc8rwntWYQb9bXw7r72WPVmSaAUJwexFh4yMY76+8JytRiGG0W31Y/VZ56s7r6vHcdd3xqv4lrv7Q9CsxjqABVB8xsO6TelHdw10fgGTDP3ARM6DPiuDDJn7e3O+pQfVmEYVOryqp1Gul15HR3ojoyLd8rFapuyqjI/Apb8Wves74sjEtBWm3wmd3vKFWp5n34UZcTOzVkJYgUYcYmMRVqTeXJVebatqq8QoKJkKRV7f7zUTl0OICcHsRYu0oha9UafyW+WYYxyi8cojSvr/VE4yU70aljklrSZrl4pi2prPZmG3Ul/omdoZ2SeqS5nnNE3HWS3kgL42jqeiUAlxn0/QMnqXSL0AQhGrzikfbJtWUbvWhkZF7ONI1fIodqIQWBGd7zviyO+5R3hg1um9eShxxfi8RG6rTozKMP24Qu0D2hNaM/Qr7odBFqCvOOZxW5rlgTKc/JoYcBtF9q4Wu+0niERlrNUGf9Ek+T/JO47tC192aG3+q7Eqs73B5ZTGMLuZED6lplXbJ1Gv6xAvxWUW/VXbaDeuxaBSoz7foYSufv7Yga/0vfI8+gJ/5Fx8ZSPXaVLWVWZH4EZGTN2lvEuzqM+SezxYn1fzHf0rk3yKFeWWXemHJUg7VR++sR35Q4w6Svq+2IiFFTOCPaKula3WrMklvJYNFbvtfrMvzUc8SMneqYqKtlu8b/7bBXTK97TOwz0zNsVPOziW+/3g9xdjGh3HGTekhRKn4lzfXDwZb91qevX9TMQqMS47zMoSa3zvD75aRbbRukl5uDjVKDbGxd3/Wn0+xKvOs+NwIzsre+LkYDO0Nipy2RXfl9Met6fbNpdqBqVHie05adPfFfbL32W3hHG+lUuIkBlyFJa3fBmSaAUEYMYlMqj08KF2zEitjyTFg02gmaL94hnlqyy3NPb5E5PoFj9jsC4aJwdLGl3HGDeso0aCT761NJ79tkqrUHZ0vG6lwuBSoz7/gISa31KEL1Sa2lIa8cG7NGazLLozN7rjYvZxpvZ/lX9+xCY0Z2M3xeTf71zkzG5lUTznZFyRDKc0LbykdZk9lt2uY1gdEmdEYFeWcfqtDdLggFkdxDjAIU2rKPVd/6CNILrVr2RZ9pR7BrhSJu7dSy8styDXuiAH47lymMX33p/3656GNLuqCt37CyI1kkZ/LYSXCbP7Lssd/1qdJ+K3hgClRj3fQaQlDYi9R7nVxxcFdJt4/rUajH61RsXe/7y6udXyKLaiEFgVDe4S4sJJ8uIOHqEB06Ge7syGdeTL5a4P0LfqzOCMsZkLxdh0mz5jBHaqet4oNX935ROC681SxIxiGFmBnRWfqAJgwwGuFbwqftjXVuD1S5Nq52339M2RIfG8urJhrfj/fT+ZbY7rcuj1/KX8nsDubdlDPaCb8BG26x6ebCCj2PglOWzgGz6Ab/lbWNu7bCI8ncywOXYJMvdbxl7eMu2cH71uNjjr56P+ZMofbyajtR/+iqUGI+vODgp5dk6JhclXzz36o/y3NNrbi/3vrPmc22/q59yjvJ9Sb0eON/+XAvBMyIo666ioi2uRqOduw4m5zTALAHNXXistqtthz+wQEcCx6LrnLxe7Ue9dw0Cme1uVS+p895suKTLurQPWVawfK2vkHLZOa/EuC83eBeOtbq0tjBGeiNMeMudGtLmcH7FhJS2+6vHxR39rnd/6HekXl5Jy/s08ioeaH+erVsT5vAT3kruKN8t3eVfuGnZIne3aZ/RmwD32h3l+5J6HpN1/zeD10LwjAiK6im2puFdY5DiwHjnCi2+ayQfKO/+zhFYYKsZJh44cQBngmvMpo1uSSYd0kDfcA46JyYitA3pLTFwLLrOyWtP7+p+DgSy2Z1EZUUv5Z97GwmwvRloDLyrg+0K31ghQ3sI2Dn4I7HHNRI9bL0boUs6pIF+4Bx0RvAYaSN7nUqM+7py1/fFGDflWIjxUAa5V+noyXERfYC9wX7xD6tZ8DPeKphnT7B50MK7oAFaxAo2je9AZ3yDbgfvgjZokTbKCNq6rd1rYIHtv+iz5BcxGfQJ49hMXCbHmd1zxHFoH3ww4cRuDNzzvnvVNgA7iFjkGumLTHq9FerWLtWRNrw6LT2gXL063vZz2MTqj4J5fN5y3+t43bcTY8uIYEj45yn2qGD5nREM+s6DDoX9gpO74wCecFDkg6XmD/eBXesgtpKGRWd3ckPyoG0IAysHU5ajQbamtXIteavzfAhofbzL7ixkVvQNgyv0fHRrlQ6QaSMoETSu8DDzDoJlBNGyXZwzUJX3e4m67gtoWHSu+o5tBofIupUY9/VWj00co1CeOhBsW9u3qe+rwe2K7pwaF+EzaLOW7Y38oCjGZ0mH9FDSv8l7OB+16RZti98Z2ity6L3DSQbdX1yDX6m3PEdCenqRB7qMuE2Pn+BB30M8ifo8vKQzMg5kW1aJdoiV9Zz3WEeXsi+sO1p68ubY1fIBls1SL1Zj2lG+L6nngVP3f02MPSOisu4ITNKGM7nrgBNjf1h6M20neURSwPYxGYFr6WCBl16992b5mFzDSYKOdiboHzBneyvfd1tYaBuCw6DzYAkHo+udurZ4rHs5EMhidx4aszrJHxSBno+uziCJol3oEgnrLA8z9WXbCHhxLb+ttIJYjycm1wgWQUcHCgg45C+NXpH0z2ARWRf9p1+F/81wRPYvgpaVoAIzbzzbxRDjnU4YKCNMYml9jehji8aJcZHJLGxZ+h8G/fQvng2DX+kTYMugCVoaH9izTmRbdDVt8ALaoKNpIz6Ypd3CeuWZxQN4ApbSR0IvMY7JZI96dSrRtNpCLKcXqaDzXNRCyRjQ+zRSv79rc977jE17tk7eiSfLHT4tXYA8oY+9SSPaF+2I5egkuNW2h9Et9y0G696PIEwKxTMiKGlPsSUd65wGAlp3rhTJhJTGRydi8X3inkx4e1hox6gnFZjwIvjwDrShHc+Ow2E7lh3pQQ4Oxqp34h75qjIfAhnsroXKjD7KQHdGvxEYcoDV5c6A2+NdDvIIhlv1ZcIPHnUAwYS3xS/a0KtNMnhvtf+0Z5UYt/UJ8uQ4q8voZALjuLc6jUQZ7d2lX5HjIlezQFMnmuifbgsJnu437Rg2PrICzIRC+i3P98nkPJq27sfONfrEST72C9h5PlKOH0iQdUylYzNZf/YcuixjZtgO2ust4vAdxoMy1pT2N8vPan1OUPVsnXxLHnG+8wmgpRsYtyBry25kfT1+UT8sW5Lvtc5XMTzyXovRevYz5J4RQUF7iv0zpR9XcCBa6XHvroOJJA3w6ll+DtxodxQH7YDpLEiLTtDCVPeX/ca7u4dlP3qggYOx6p24t9ufev8cAloPr7a7Xs9m9JFBpReYerSQHHKA1SVoee/t3GeQCvpy9aNFUwcF3PVBWq2kmNjo/u0EFC1e735WiXFbbzEZxDFHlxGTs7DrVkKMNuVYd5e+RI6LtE/ape6Tbgu2KBMBPocdj/oEtGHZtn6ftMGjfqb5lNd8T/qNk5NpsFvZFs6Bh8RJ8odzfUDvmPhRtyN241k7HloxnuaL8aK1IAI+EY9fcSC+JS49W2csy/ospe3O8qzlR5l7Ex+sDx3QusFr+DPWmy1n+T9af5b5b6svwadBUSll2VNs0oGzQF0YpU6IQe/ugFj3ccbhsI+rJVfNZpJitKUnLNAHYEz5eAl2awdAxOymZStydYrOxKp34t6qXOq98wjcaXcjvRvVR5nc9gZYTbM14MJWdP3dawYCM0kx2tQ2jCBX9tsLeLmSRbuXJYLq3f5kfB8Y0w/fPbZRzzPhhAkR4qNL8jtbMsbAZD3Gb00X17iP8VYfd2GjbWrV3mljsEmvL1Zb9FVcMUMi6r3v3Wfb0q7RFuszuT1Bm21ElHpXDPoz4p+0LuGaMZ3UQS5cWPV792RcR5oYO6HzowcSa75rlauLXKPts57Ehve8UtaVPO/EqVJXOPa2JnVZ39Jz6nxr4oTve6XX91vue0zW/d8cGoUCw5MKeep8R9HJ606p+xUxwzfCj5w9622H0fTgyDTfnKls8W9NTJDOzkwc+bNsiKtKdCQovUDaen/nHvkaLRlgQR5v+edNkoxicqoe9Y5lS29P8dCiO6p3DCxbgWmLlrQLfb4z6Oo2YXOkPzvLbQWOSK5BTwbCuk0GxmxXlrVi3NK+2GdaLndew15o87pEwD/zj2OepoNrPENsgQC7lUTchUXUuEgba21RtlZ2YbdMmFcSV+AmJ8do2/SD7F8k7RO7aIgB+Uc5yrNnpVovcb1yWEkxaLX02WtHT0RLm0E7VxywR7Q7skLtJfM7C1fS1mk3I7GopSPQE+q6pDtzfgXmw23MMP6NdQlka3VRGtXu+VWzVeyXLK3kPyJBlG1455zZXmnPm02DLFqJkHbYUnazybnVL8teuEolB57ZwNyiO3LP4tG7B11o4SOxetr5nTZm4X2n3Vn8WPdG9Evq9uo2PyaY0j54vkrT4p0J/EpCKvtJ3li2AotW367yARYWJ+8BK/qH1YDY0sedeyf7O0sbekN8TpfAH0E4/J83Ls7yH1XfsqlZm5CTXa1JNCYBtFlZjqyYeX3mqpukh3P2bSdxkH2T9Fv99Pj07lsTBjN4eDapd/RBz2fHYCspBp3VOA3te/bm9SP6PuOrESzkwpHke8enUg+4AtyaTGJdlNBjqYM8R8Is682eR+O7RW+W+W+rT3CRsEmFlOdI6mD8rX+YHcKghLo0CEmD51fNVrFfsrScD5LO0wcT21Uj95xcbyYOz4m7LKNW7S1bwWBPR8ISA6dVN/rejBy9GUqJ01PPe3oxg1NE3bvsbob3ni4iQGPiN7LtzqPnDbqwldlA2WuDgerqiou1Ygz+eisrXkC+g5fXxyz3gTX9xKp/n9HTkbpZsOFYQHxk6SWuI/1jHdCAH0dcYsUciEV0YnEXNsSCYyLK2XGRdtmzQ/op2RbPWxNbPWy85DWCtrUaDbo7/Mr+EDvyynKGPvVOl1Z8NusLrBXenTjNGnNhf1fFBjLRHY35pX+Q5xrv0WvKH/YwOmnjTf5AX5Bgk+ZKOcr3JfVWOnDynUs6PdEI+8oVBjoMWa6sZMDhWFsS2J5XTrA+XdVaFd/5HmSUATq91STcmpGE4+jxDufEtuloQCvqsGRoDZ4rq1YW7eh7CNhbQYS0gZVzYn5lCXnrYBDyjsZuhh5nbCWGPd2N0tFROr3+SF+2s4rhJY/ARgbKo3xb9WjzUf6GcusFBrB9nfjvzrL35HL3c05CAKPViYjoPlg6ccc9TrZTf1iewslLfhDbzCRA0fIAvYhxkTEa+unx2ArspX/x3m/dt5J7yrTFU4smn1ljBGivbCPWuu5Ngs/6R/KqS4/30bhZji3EEzayM854erArJ91371r6Ra+Ovq/HDmIxiqOmBz1g7DyanFs5AuO3CF3UunnbtQbr7uvbgHAaBh6eEVExdzCTRt+b6UQ7Jw9rZm/UYFb5oqHNziDK9ryVX1mndY6BAXxEzNLLdiy9sHTpzStGFga8J7G6+5w83VFaAetpu5vFu4WLDGp3AwvYAv2qLiXtWf5Z/4S/IZ8tjOQzBNAIFu9ORiRPp85lAHgq4Zvlnbpwd8nPh6g/LE+OB63krTexM4vzTP2IcZH4tezKS9Jmtgx7/ZK6Tl5Qjq7GeXRx3xojQHv3QMxj7SZYicc8/r3VbunPvXc9fd1dTPDoriaZHv/efY5zIzE/aXiTxqt2ixgDSe3MYhATaSbDLDHZ/KqDoGcps4ELXDwjgmPadajSUY84ipP4WEofnSxq/pnUzhinpmE5dgQddx+eTclBM0KHvHay379bPrL9O7GSk2PUjdN2J/s+ct7ChwN2RADIH6khDrKUq6sjPFt1Tvibb7bhll7gmUwWKjH+WSMZVEodx/lIHNDDvfVcxhy6bcQ6rXdPPtO8zMRWjNF6Omb5WrQbkRB5tGEDu7hZtOFvdw/6Q+oiy9nVYvDh9dFLjEcmgCBPrRe4bk1+eHzI+944I+ucPGe/Zmzd0gFgMUND9gnJ7OwECHdbUU9Y7sTvuzp85H0JVIbzI53cIApMPCOCUkbOXI04542udF/lr+RR2VGeDtDZ1mo7eI80ZLnyI15dgCYrePakHf1MAODRfOL9STiPVr8TP84eS71YtYdTIHn4yCA7IqjGIC9xkOcykFrtJ33EKr6WvwGPu+OAh+/T71dibGuq3L4qdRznI3HArl5gzNHt8no36Vjlje2znBkX6TeQPLTat7ajzrQzS7uXqLfoyWeWvDAhuXNIHaRfRDmbLJEHya8856QF5cqyt1pKmbI+ywh5WXhG0JX99s5hX+zLjK17ePR03uID4xVkjR1Uo4f1I6HUmxk6o+3dWs8C7c57t4JhNA4sLCOiYu8GgzKwHMHdYDHslpUYn/5uADNNO0kst0bSQFnC6d99ePKk7rCMWGnz2sp8/275yPbvxMlKjE/bnez7yLmHD2e+ZdLq1R25L/0h7YOlDFxGeLbqnPA34G93HBjB5ol1KjG2tPC3MY9jFfWb5RVy9pIV8CDt7Ape2Ab7z3JmXER/kGi1knpruzbaiprUIt+yXElaiAfLFt+2do3d9Vb/Rn4l2WqB/OpS+gCJTU++HFvkOzjHGKHbmL3WNHEdpQc9XiQevbryuWezvQkGSQPnTMyxW2Dm8GJt+LFs8cpMv8y6GrS7r00mb7wJPCwj4r1dvDgLNDoYnYTC2laTXeER6DLAkOVJnEZpe7qhHX7UrLLXXtb7ozheUe9OjDCw0Z+wzGZ3Fj4IJMhvKyC13vXueYM/2pGB1BU6YbVh+Rvw5vUn+32sWADzU//09r9T7YAu+oIkooe5Jder7/H7YoxZtCGUs0Fur6+t57JdfQ48W++eeHZ6XPQm3SL6ChoaQ1xHJHEtvlf1tpXkrO6m8XRCjhMSI+nP9bsyeZTv4HzExjU9ee3JKkIPZDveOSfCZ22dCa3GYzZ+5ELfbIxhjX3wX6/7vhhG5Qnvrvurhn7qPc+IoJyjyWwLSxrJ6GyV1U84uZ1VV9K0EmM+y1pas54Zvi8GXp7cTwcAXrvZ7mfSqTuxsRLjTNhYuuwN0nrQjr6mnO7Cx/I3EeMA+3VVieBS+6FoWd1FD5PNLRzv0h3ZrpzElTj1eG/1a/YZA2TZPs+jdoDM8KT1cTbg77WlJ2nY1957I8+95G83iUPbLb6lTs2cW35sN8nxcLLGN2DfSgyRNFM+sozwtZ6sPP6j71PPV2xdYiHPR3nkhAPK2cPTGSTMrztGAb2qXjaAPSOCUo4msy3s6ABGZ6s0Ppj14SCrn81ey1nsKJqzPMzUl30nvygjJglm+PDqenKnzFccm0fzifc93O64fyd+VoB6BwatNjU+nNCTOnzFOQPNFq+nnnn+JmIc0Pievm5N+F4hx5NttAJu4Hr3ob/tlFjMfHO4qyM9G96lP/v+6XHRoh+RaKGflg9He7MYWPUtvqnjK7ps/fnazVQAACAASURBVE4C46ed2MniHfeYCEo9x7k3+QIb0HV5vZJMar4sWUXpgW5LX8sJ5RVb97Ac2bGFsRM4sq8zuuONfdAbLMy97tCCu/s6G8CWEdFIR5PZFqagNTMzqvHhn1ja+WPnpPm0xNjbDpTh+2Jg6sldD3Qz8vdoPvE+9S5DeSd+lo/JgInkQeIjkyoEN1jRiPxH/2qVDAAkb1ede/4mYhyQ+F51juDaC7Qs7J9wD761J4+r9MVrB8kHExGUEterZI92WpP+4ImTUFfxdHJcZFIgscZ51KSWpotr+MRd7GQiJdtggujpWOs+Y0apgzzf+TOBVl893FvYo2+yr/Kc/t9qa/SepMfzKD3o8cAVW7Tbq2s9t2IF0Or5PNCCv0ddYtjSEf3MG/ugN0iaX3dY4N95LxvANByrjMAJCk1FHaGn8eGfKopIBp+2ldr75kFjdNe1J08djFZifJeEfrTryeqK+xywpI/5wVmOM4kDA1iuWshnEeekL/HgOQOAO1Dx/E1En99KQwaCWfzcHboj29QT0NTtU/bk6VYvMZ6JS7w2Zu6fHBdb3+nO8GjV9VY4I74v9pJErjZKvRo91/rHpHj116jZroUN/DX1W5fwDdY7XvIX4T88fjiuWPxE3uMujVVb97bVe1iSd+q/nACg3EZKb+zD9upXHgQuS5kJZCSb2ph5DeO9AzOJD2f+opTTSowzzwZZ3zzA6Wc5PP3QAQASAa/um+9nkRP4uBNnKzHOZnfERwZqpwJnLzCC72WweYfueP6G2FT5qx1VYvyrpjIRYcmYQgatV+gSg3S2r8urV4xPjoteQhGBs/SJEsMI/KxJQhkv/Kpd7TutLbGI/3YOC0sPd+BkjR+tFWZv67XVrnfPmwzy6kffp45DZ1Zoe7rW2p0ATNGu1Bu0PXNYYx/81yu/LwYwK8I5+c6MsE7XxZYn6ejk+dWDGDGXfeZq8cofY5d0eH7Hn2ti27Ol5+B3vpGZ5aFXnzLTpdQjnGuHpeu/9bqH35XP78TYClAzJsYyaDnp/yw8aDMMKK7UDbTV8jd36k72tisx/llT9ffFCC6p21etWlFnWhNQ4In1riqJA8vIcRG0SJdl1OKGNbEZwTsSR/IqS+l7f9au/hW2SnNCRperf6aJrVp6YuGOvnjYeyu6eKe3Kmq1r+9ZOu/xot/dvZby5Ir/LE2u/Ep9wHlrBZqTE9q/UG690hv7oD+v/L4YgMwK5pvqW0ZEhdRKdhUuVGIkw3RsvLdbWtslVn+6f5eX3vveNw8RW8p7be8+p9xYXrXKfZWOVjtzfpUDF30Lyox2R/+wu+WuZz9sh/YhS058Xa1jXkCCcSDbcTU2rfYQzFJ+p/VmVA4tfk8/81asYPOn29b0pb/hOWUVtQttVCaox7ZZRo2LXmBPXzLDo1WX/Moy4jdfwJ+kyfOdscGLm0B7N3bS+iUTQeoXS05w6nfkRBrrspxNJkdlFaUHVnvynuyb7vfotbdt35uIYX1rRVny1jpv6Uy2CfxWP6aejQrkG+vRIK3yLjwoXG5tiNzKYDninR9jIK8nSi94foKhcoBjubuFaRTfFZ3F4Ibg/w3/MEhEbG9bwbH1jhUsZ7M7udJwepaYn4jQPmTJgLOF54ln1uQFxgXoU7bjRP9XaVZi/HPC6022X7VqRTl6Ez20tauSBWk7bJtl1LjoBfa7iSB4l36RfKOM2MXHGE/S3Z2waPlWKYuVc+oWS2/bL/wm4grWk2XrHVlv5Fz3wdqtAWwj9EC3ZV1zJ1RrdbfXL7lrS+cl1rtImLGN2op7LB6te16svauLVltp7llg1r3fEgGteLy+ehCT8oDiSEe/M3uolVCuQtMZX+U0NC+9a2vQiJph7rW98xzyIrYsIyc3WrxJPeqdw5Hyexjq/VtKb7a6h8mp53ImmRhnszvYFvT1Chuz/BBthcHyKVl4dK0tgRwHWjZ3xzOvD3fcr8T45wSA9q1LuT32CjkxSNd80M4i44oRGzg5LloT/uhnxOElmrv4eQn37nZnD4uIJEfrrTcJ1EoMvQlI+lrdRutay9fru6536prx1G78QTradnXyywl3/i6Hxmq0n1asDfu5Km4d5TO0ngarrn8byKhUWvlwffUgJmUC4VNRGSRGKYQ1oxYx8xnFH+l4W6N2DBUDDlej2M6J0hrwdge7UT6lHvXOsUJs6f4b7rUG5h4uJ55bWGeyO5moQn9PH3Lij4E6SwZwJ+Tg0fRm6bk9bQWPk/7G68cd9ysx/pEYc1uj5UPhA66Sj6fP4At2Fh1XjNjHyXGRk3r0ISijJvis32WJ+GTAS+J6CTdiOMjP2znn0Y3AQ+pvaxs17EDWlefehA19razbO9d6t6IHPTx1G9415Ea7b/W/1yc89yYcpA8h/q1Yx+NV3vdibdjQ6Z1jko/Lz0cE8Y11POWDcksFvBobBFR08NGKac3aXpW0zSi+Fziv4iGNf4aPlboW76t8z7Y/q6sYpLzZSTr5p5VY+bvTfi0ZcBCTWGayO/7I387E04yuWkEyfR6DTgvHU/e8baeciZ/pG+qe9jencFihW4nxjyQgcpvoiiz4jpd8wP/Azq6Y/NI2c2pclLZGH4ISCWLEQd8oaUdMsFt0R5JXLpp4MpTxYzTP1C+Uno7hvqynz70V45VVVinfVT1gMu3hKdtonUO/Ob7rPs9ee9jC15IW8xe9isznKEcOyy6pN8D0tYcEqs5/KBaV2CpbynYSQwTQVEoGiNGKSfosrwqGZ/oBnsifLFcNlYMFV6NmeJmtK1ffyPuu0x3l4aRuFu0fvmMFC+1nstidXGFYta9R/WQ9a4KOtoISxwrGq+94wRrHgd9ZGi5O+5vVfp54rxLjH7qK1Rtt57he2Sa6KqvWqjV4ucvvnBoXrV1w8CG4v3tg3JZ+iee7u308ur3JUuk3vb55iU6E3KmTrR0J9Jmsq0tvp6ZM+vQ73rXEYEUPZDItaa2cA1/YV2sF1+uHvu9hxJ2swApt9SYTRvohx3/qN8orYuUR/o7V0aDXdfv7Yu/X367ADUZF5ew5yVWF0TOVp7dVwfnAacFhjx6cFSUWu4ZKeqcwlf2yHM1VCccVOlpt/AiEZ7DQK/On7U7qpHcuA60rbEPyIW1bn4OvGWxlXQRm2DHA1V75zDu3vi+W44Dke+T8tL/x+nHH/UqMf+gqglXrHwPa0/KB7lu6TJ7w7K7j1Lho0YU/iRhz4RO1b8I1/NPOgSTKotvjmX1trVhLny7biEyMvcStl6hB/71dFSu7vKQMPExlHX3OSYSIsRg+fyRZHfEBTHxptyyxksxJiZHJNt1f65or5lJXcB6hL1Z7ae6NCOLb6njGCQVc+dYhAj+uWlBBe05yVcG0IZxamQZ/dOTsE8re6qk3m7rqvDiTiH6ewlTKQn+TdBJf2S7OI/SwaJzBkVufOMhdqRdaT3jNBA7l1Yf0CfocPmBFD62Arfe9l7fCJmf+Z7C5wt+sYHPqnUqMf9NVT49g7zOTNDty8laswQMm5sDjXcepcVHHM/AlUf4MMYf2TRF+GzQ0XfSjd9Bf92Ioi34rme61y+fQTSZmHMdY9rZQU689O8F91hktyRdKq889PaBO7k4KczICWKz0Q/fXwwgxBG18pB2Jj3WOeFjrIa9nFrIs2unvadDr+ody0ahledUgJuUgE3UoZoQT8xTTSla9ujv3rXbQt94A4M38rc5gceDcdX6jWHDwooNZTehH25P1pE7V+fxAexIznbRBP+48pJ3dMQhqO6G9oAQ/s7LQ+NKn92bWOSHJ+izlBOmMnK7wN7PYnKxfifFvuirHcOoQSyQTJ2UA2t53ieSBgfSMLkfW1fYeNS5Kv8Hz1VhB95f0ZLkbmzGJkjRx3tuezQm3XvyEPkjfznYi8Iae6Qle6JfcXTOi59RJWa7E3ZSX1V/0u6cHTKZ3dwBwZwH6M9L/Xh1v8oF4Yazr0cDz3kGdoo7I8opFpB5/R5+PAPhtdahgVnnFICbx1oEZlLM3I7ijMJYxRLfnOX8aXot/OivWZbmS2HKrTG/msMXP7DPyy3KF79k2WV/qVZ2PDR5X4YStYtLfQD+i7Y560Cu1D+jVP/GcCSTtRJYIEmfkYv24mcS6RUtvced7SHT43mj/r/I35CtDWYnxb3rClRzqD8vZpGFWpohXrGSF7aNkUgzadx3SvnEeMS5qP8Y2Iib64JtJT5a9BLaHr8dzLxGhvxxp34u/erz1nluTj/Cf8L8zemtN4sCPzNCgLgMPKR953tIxygHx5u7BSR9gMdsHr760X3k+4096/fImFK6Ml3s8HnvuAf+t93WAuqp0u/jBmVgD2siM4I6yWNsnIgYSyVPLWbWMDo4Mjs1Kjnuzf7J9nMvBAU7wikO2SQd9ZfKzq5P1ftzAprHUs8DQj2i7G9FxJm/Uz5Y9jtBbrcNtbORDlthtovFrXSOokn5cnrcCCa7yWcnx7IqxtP3T/qaFxdXPKjH2t5dCD6UeRcsGsYylu9R/6L5OWlbtdec9aRu084hx0duV1ksyR/rCWIT8skRfdg4mZKSHspec8Z1ePcmX5V93/BLepV6xtPRrRMetrcKjW7ElfT2WSUxx3ppEID7QoZ1DxrrARfK3cw5sibMsZ77F7vWLCb3GbXdXhNvuDiDR77pMfukDGgSVQSrdyUGMcoVTsGbMyMfKzBlpj5Y6IY/utzWzyP5520Dkqg8w0BhhRn70wMBIo991fKNtop7lqGfe3607Kv9vrLeLbcT7nPWn75md7NnlwQv2dumuvE/7JBaynB2YvQAZND37l8E6ghs9Lsithz17waQHAxnPv/VozDxfwfvUOzIwnAncT/FzB12JgdRjnGNMmJHtSF3EEN4KNcdZb0y/A59T46L2p8A7aqJP+wPQjtBv6XeoK73FEPpK4Dh6IAYCv2wDpfRpo3RQj/pN3UKJGHJnd6WOQUFzRPdZBwki+wb+rNVPDy+5OLQz0aH1Gn1Y2RLOPslSx7+gvTJ5IGnKc2tyAm3gn9wtJd/ZPZ8S8G5jvfdnDODNdWEMVmBIZTilEHAeMBYETJYzkO1HbsVo6QUGTdku+GrVn33GlRjZBs5b7XCgp/FbhgsZ9g7U4UAyG2D3aPeea+e8OhD12vGez8rpm+p7mF15X+tHLyCK4g2BgxVEMrCAno7YVgQ/WClCe2zbK2dWNyy/DrotfMkDfYS1dZKYtOxEJsX0Xa36Ec8i5BBFg0Ez8I5IHKL4uooOgmOdgEidhl5FyBwTxxhXezEEJmhaq0pX4SLb0X4valyUOPMcbUUclkzpK3bpa9otusRuBTOuNBMblLDXmUNOOjKeQ6y2q9NyIYR0R5NK7hBCf+D7cVj+2+sr+7SCKdoCrhw/JLbsR0RiqReXkBvsTERIeQHn1k6TU+PYttLITuye/6Y23/E/Zn9gKHAmcDb4BwVuBYVUZpRQFhg9FAPJ4+w/vIf3MXjhX0v5ZLs8v2K1AfoEw2CbLKOMDvRBi3RRAodW34Ab6mFQl/quE+zWAEKHxUFn1entWAoTcjpLOu0dmjPvSuzq/GddmsHxVF09www9YfIV1SbagJ3A52l9pF56Jd7Bu15AMcMj+oUARPpg2qbXvr6P+uAJtgw68OtWwoy25Lt4z1spRh9AC/WBjzx0go16ODxbkltZI4JFrx19/3e2UhTfkBijj9AnxhW9mELqInRsNZ5gLDESRyDeGEks7lAa7YcixkUrEQLu8H+7h/YnlGeEXwRv2s/Ax1kHEzjgtzpOWGPOCEbws+CLfUcJPRzRMe2vvGsdh4J+Kw7FM8aKiBe1PGCXkl/6b4mt1JveajEwh82DLv5pPZZt4VzGvIxnYZfgeXYnKJN/0pzFHbEz8hf4EPoR7moizV6J+uAf79OH7ST97kDqKcjJ+1Ip3n6uDVkrrnXdU44rn+vvgU7phU5c0cfWLPMKHzKphXFZ9GHsNFaUllOUM2eQH5ydHCRwDkcvnWIrKD5lA+BD6xec8JXHipy+5Z0r5eC1ZemIleh574/c1zq4co3EcvdgULfSfusd2Ll1yGAT44CFK/wEgxsv2NR8w99Iv4Rz+C0ECxwbWpN+J+zL6v9d996eGMv+tfSy9Yx6El1izETwa42tnt5drSeWz4sYFz25oL3dw0omId8I2uRNx6oSE5zzOXzxbrugBzpSR+HXZJvgC4ki+s62ZX0kiJ5O7dy3kmOdBCIuhp7TfqD32FFoHfTv5B394SHlOjI54+kYaeuS/Fklkv4ZnOSOSYw1M+9qTC1+du7N8CLrTnVCvnjinErxDSWMVzsArbz6ekdBot6F0VwdXMnADv040T4MFH2TOOFa38NslAw+tR1g9gzvSNlBzlrWXkB8he5Lpws+4aCvPjRudf1jQLlaFl57cgIHehI9iSODGtoIdBH35T/cwz/WkbYFP7p7zAYVsv3WOeh6B2xQ+wSrf3pyTdNDG5IO/Jflt7wJv9N2p/m981rKGZi97bB0qqWf1jM5/q2cQ/e4coMEAZPOq5PoV8vn1LiIiS+NdZQvRcKoaUf4RIk9kl3pq9Ge9Dm47vkpSW/kXE4eyv5hHJDXPMd9vMPE/JRfgy5Dv7Vt6DgRz+WKpdVn8Arc2AeUGteRpBi0tY6BDv5x7JTjKc6RsOOfNVasxNegBVxasbElEyTVFnYa35Vr+B+rzZF7yy+OEJ+tYylP3fuBwCyeb6mvt2rACE/1DTPaSH5h5DRYtAcjgxGPtosgDIkFHR1KXGPQ0rOfPyR8zZl2xq0A/hRHozh+Y71TmM/SlYkEBm0MsnXEIoCABvaIYIW+AjjP+gn6G/oslJhQnPVb0fYWi9YeNanPwLqOXxGIlv8OvV+5O3vn5LiIRBg6h39RSTHRQPJE2tFJMdtAiYkDHdMAM2vHi3xv5xy00SfpH5lAghdgacVTO3o38i5iQfhWGSfS5yJe1QliCwPZR46zwNXqV4vOzLORPn5zneFA/wqQZgT7jXWvkEHWNvSM0eos9FX9y6yfGEThgPmPs6xX8nyVHJ7YzpVy6LVFHWHZ+9apR6+en0Ugm76f7e0c9UqM+3hl0p8+t7E1MoyLsT36XmqZ9Bi8ZDuy4ZONn0qMs2lsg59synMlP1jFlcnxynaPK/ltiPHWR3q7GGYm7ziulMXT2rpDHl6behUlerXDa7furyGQTdfXenHmrUqM+7hm0p8+t3E1soyLcT36bkqZ9Bi8ZDuy4ZONn0qMs2lsg59synMlP/IDfyTIJ7dTR/SrIcZbH2H7EVf/UJ7cBtXqaATGb6XRwu3qZ/obttpOfbUE5trLZhNz3J+tXYlxH99M+tPnNq5GlnExrkffTSmTHoOXbEc2fLLxU4lxNo1t8JNNea7mR//owcw3v1fz2hDjbY+wZVomxdg6dtdxtTye1N5dMvHaxfddUm9Ofvvk8VD3xxDIpudjXF9TS64K3un7runtWiuZ9GetB/NvZRoX57mvNywEMukxeMl2ZMMnGz+VGGfT2AY/2ZTnan7ww1hyOzW2V1/Nw2h7DTHe9kiumCDRGf3FwxMMj+L4jfVO4L1DE7sKZGJ81/b7nT58y7vZ7CUT7nL3AyZ76vgVgUz68yt3Z+5kGhfP9PD7qGbSY/CS7ciGTzZ+UiUW2ZQnGz/ZlOcOfvSqcdYf4cqmO+BH/rjI3Ssmd+jOU9rMqDt61bh+hCujlPJNFGZDib+qi9XjOn5FIJOP/JW7M3cyjYtnevh9VDPpMXjJdmTDJxs/lRg3NDadsBq83vHoDnz0t8Y7f6vsDv7valPPiuP6zuMuHKrd+eQJeiJX27B6fPLPgvT0MpsMe/zW8zwIlO7kkUUGTmbGxdKdtsSy4VP8+GN9W5LXP80mq0qMGzqQTlgNXu94dBc++heq9d+Mu4uvzO3iR5O4HTbDDyhlxqp4+3lApW/Rv1B9x5/5Ai/Z5EN8qsyPQOlOfhldyeHMuFi605ZMNnyKH3+sbEvy+qfZZJUqyLheHO0W0wmrze7lT+/CB9un5bfG2f900104sV38wXkmxSgz/HgSeavSH7yyYEPHgu3TUo/u+tNNWXAhH8SnyvwIUGZZyvyIvZdDvVrcGxez6Az5yCYZ8lXlc8b0LDqUTWcqMW5oRjphNXi949Gd+CDZk8lx1m+N78SIbeNPWzGhuXMLrNRR8lblswZRHUze8a1xNp2Rel3nuREo3cktnyu5k6vFI+Ni6U5bOtnwKX782KItyeufZpNVJcYNHUgnrAavdzy6Gx/5Q1w4v5ufjO3jG2xMICAxvvsHt6SOZsSqeLJtSMoN5/KHuO74dd9sctL41HVeBEp38srmSs6QCHOyeHRcLN1pSygbPsWPPZ4Dl2xHNlmlSiZKWL4ilzL/ig1Wif9LrBxjFTmbgd3Jj/yhMgQB+LM7WY47cam25+xE6wxWieUvuV79Q27Z5Kfxqeu8CJTu5JXNVZzpHxIcHRdLd9oSyoZP8eOP821JXv80m6xSJRLXi6PdYjphtdm9/GkGfOTfNkaSXD/E9cMZYgs1t5vf+TeLLcXMoDvFww9daWFhyU/+bWMkyVf+EFeL1zueWfjUvZwI3KEfrTZzovRuruQW6plxsSXHO55lk9IdGFSbY2O4xql0p41bJcYNDdHKdPd1g9VbHt2NB9uX3xv/a60a/8Gm8YNkTIqBSbaDsquy7aAz4OPpjvzeGH8f9qojAyaSh6v6Xe3sIyDlluF8v0dFYQYB/GAgt1DP+qwM+iJ5mOn3FXUlb3Wee1y/Qh9m2simL5UYN6SXTlgNXu94lAkffkuLZPDb/7bxX4ukmN9e36EfrTYz6U7x0h7EW3KU3+qN/IBNi9bos2zyGuW76t2PQOnO/TK4i4O/Eknxym8jlO60JZcNn+LHH9fbkrz+aTZZVWLc0IF0wmrwesejbPhgZZSrpH/3pSvH8rtibKXm1vI79KPVZjbdKX7WB1GsvHAVZmZrYks/Ws+yyarFaz3LhUDpTi55XMWN/K4YW6lXPv0o3WlLKxs+xc/6mN6WdPzTbLKqxLgh43TCavB6x6Ns+IAfmRxj5TQjj6d4kj9GJpNitJftOIVB0Y3X+RHdkckxVmZOHtlkfLKvRTsWgdKdWDyfQE3+WOBqUox+lu60pZ0Nn+LH19m2JK9/mk1W1yNQLS4jUMrjQyex+WexcowVVPnsqnOf0zNPMAPOHxXBNjE9I35Vv6udfX07oyHnqf6TWDnGCs2pI5uOnernCt1s2BQ/bX+wIuNveSdCd7Bjij9Cic+KuIMqgvbdNL5FD6qf70fgblvS7b8f8Rf1UAvv7utM0Gos+M0xfqkaK6n6+enrq7Hh35b1flDkdH+LfpyOXa07ke3xm2P8UjVWak4c2XTtRB9XaWbDpvhp+4VVOX/DexG6g2QYn1e98Uc5v0EHqo/fgUCErUfS+A7UX9LLSMFH0MoEq9UfbKXGbDH+pJP1/OS9K7HhVrHW35M92deiHatfV+rOibawlRq7F0b/PugsD9n0bZb/k/WzYVP8tH3DSV14Ou1d3eGnRfirFbu0Mr7/dPkW/4UAEchmX+SrygcgUMrjC6mw8bHBk2z4FD++TNqSrKfZdCeTRLJhU/z4dg5s6vARKN0p3fG1o568CYFstv4mbF/fl1IeX8SFjY8NnmTDp/jxZdKWZD3NpjuZJJINm+LHt3NgU4ePQOlO6Y6vHfXkTQhks/U3Yfv6vpTy+CIubHxs8CQbPsWPL5O2JOtpNt3JJJFs2BQ/vp0Dmzp8BEp3Snd87agnb0Igm62/CdvX96WUxxdxYeNjgyfZ8Cl+fJm0JVlPs+lOJolkw6b48e0c2NThI1C6U7rja0c9eRMC2Wz9Tdi+vi+lPL6ICxsfGzzJhk/x48ukLcl6mk13MkkkGzbFj2/nwKYOH4HSndIdXzvqyZsQyGbrb8L29X0p5fFFXNj42OBJNnyKH18mbUnW02y6k0ki2bApfnw7BzZ1+AiU7pTu+NpRT96EQDZbfxO2r+9LKY8v4sLGxwZPsuFT/PgyaUuynmbTnUwSyYZN8ePbObCpw0egdKd0x9eOevImBLLZ+puwfX1fSnl8ERc2PjZ4kg2f4seXSVuS9TSb7mSSSDZsih/fzoFNHT4CpTulO7521JM3IZDN1t+E7ev7Usrji7iw8bHBk2z4FD++TNqSrKfZdCeTRLJhU/z4dg5s6vARKN0p3fG1o568CYFstp4qYM4m6HTCSgZQJnySQVPsPAyB0mVfYJmwyciLj1w9ySavkshzEMimO8VPO1EvfHx8nmN193CaTXcqMW7oQTphNXi941EmfO7of7X5HgRKl31ZZsImIy8+cvUkm7xKIs9BIJvuFD9+4lfYtLF5jtXdw2k2/anEuKEH6YTV4PWOR5nwuaP/1eZ7EChd9mWZCZuMvPjI1ZNs8iqJPAeBbLpT/LSTv8LHx+c5VncPp9l0pxLjhh6kE1aD1zseZcLnjv5Xm+9BoHTZl2UmbDLy4iNXT7LJqyTyHASy6U7x4yd+hU0bm+dY3T2cZtOfSowbepBOWA1e73iUCZ87+l9tvgeB0mVflpmwyciLj1w9ySavkshzEMimO8VPO/krfHx8nmN193CaTXcqMW7oQTphNXi941EmfO7of7X5HgRKl31ZZsImIy8+cvUkm7xKIs9BIJvuFD9+4lfYtLF5jtXdw2k2/anEuKEH6YTV4PWOR5nwuaP/1eZ7EChd9mWZCZuMvPjI1ZNs8iqJPAeBbLpT/LSTv8LHx+c5VncPp9l0pxLjhh6kE1aD1zseZcLnjv5Xm+9BoHTZl2UmbDLy4iNXT7LJqyTyHASy6U7x4yd+hU0bm+dY3T2cZtOfSowbepBOWA1e73iUCZ87+l9tvgeB0mVflpmwyciLj1w9ySavkshzEMimO8VPO/krfHx8nmN193CaTXcqMW7oQTphNXi941EmfO7of7X5HgRKl31ZZsImIy8+O3LpPwAAIABJREFUcvUkm7xKIs9BIJvuFD9+4lfYtLF5jtXdw2k2/anEuKEH6YTV4PWOR5nwuaP/1eZ7EChd9mWZCZuMvPjI1ZNs8iqJPAeBbLpT/LSTv8LHx+c5VncPp9l0J1VinA6ce3TkMa1mk1fx4zvmbNg8RsmL0XQIZNPlTPykE1YyhjLJKiMvycSVip1s8koFzidX7JENm+LnYQhkM/ZM/DxMlJezm0lWxUuugaknj8uVtRp8DQI93frm568R8qGOfLNujPT9EOyvIDuC35V1soF6Zd97bWXDpvh5GAI9Bfvm5w8T5eXsfrNuVN/3EvHLlbUafA0CZXu+7b1GyIc6Urrj6w6wqcNHIJvu+Jze8yQTPvcgUK2+BoFMypyNl9cI+VBHssmr+GkHPZnwOaSSRfYLEMikx9l4+QLxb3Uxm7yy8bMF7stfLlm1BZwJnzan9bQQ6CCQSZmz8dKB7usfZ5NX8VOJ8dcb5RcAUHbu2/kXiH+ri6U7vu4Amzp8BLLpjs/pPU8y4XMPAtXqaxDIpMzZeHmNkA91JJu8ip920JMJn0MqWWS/AIFMepyNly8Q/1YXs8krGz9b4L785ZJVW8CZ8GlzWk8LgQ4CmZQ5Gy8d6L7+cTZ5FT+VGH+9UX4BAGXnvp1/gfi3uli64+sOsKnDRyCb7vic3vMkEz73IFCtvgaBTMqcjZfXCPlQR7LJq/hpBz2Z8DmkkkX2CxDIpMfZePkC8W91MZu8svGzBe7LXy5ZtQWcCZ82p/W0EOggkEmZs/HSge7rH2eTV/FTifHXG+UXAFB27tv5F4h/q4ulO77uAJs6fASy6Y7P6T1PMuFzDwLV6msQyKTM2Xh5jZAPdSSbvIqfdtCTCZ9DKllkvwCBTHqcjZcvEP9WF7PJKxs/W+C+/OWSVVvAmfBpc1pPC4EOApmUORsvHei+/nE2eRU/lRh/vVG+BIC/+Hw+f/P5fP7E6E/ZuW/nBlx1SyBQuuPrDrCpw0cgm+74nN7zJBM+9yBQrb4GgUzKnI2X1wj5UEeyyav4aQc9mfA5pJJF9gUI/P3n8/nv3/8hOdZHJj3OxovGqq5/RiCbvLLx8zNadSURKFlJNH49z4TPr9zVnUJgAoFS5gmwbq6aSVbgJdNR2LSlUfg8C59M8mojF/MUK8NIgv9TJMVIjv82hvzXUMmkN+Al21H4ZJPIc/jJpjvZ+MkkycKmLY1s+GTj55OJobYo62kmWYGXTEdh05ZG4fMsfDLJq43c2tM//Xw+2C6NxPffVDLM1eJKjOexzaQ34CXbUfhkk8hz+MmmO9n4ySTJwqYtjWz4ZOOnEuO2/qR6mk55EqFT2LSFUfg8C59M8mojN/70nxoJMFaK/8V4XivG4/iiZia9AS/ZjsInm0Sew0823cnGTyZJFjZtaWTDJxs/qQbStijraTrlSSSSwqYtjMLnWfhkklcbufGnMjFGIoyV4n/4fD5/9TuJ/12J8TiYTs1MegNesh2FTzaJPIefbLqTjZ9Mkixs2tLIhk82fioxbutPqqfplCcROoVNWxiFz7PwySSvNnJxTysx3scyk96Al2xH4ZNNIs/hJ5vuZOMnkyQLm7Y0suGTjZ9KjNv6k+ppOuVJhE5h0xZG4fMsfDLJq41c3NNKjPexzKQ34CXbUfhkk8hz+MmmO9n4ySTJwqYtjWz4ZOOnEuO2/qR6mk55EqFT2LSFUfg8C59M8mojF/e0EuN9LDPpDXjJdhQ+2STyHH6y6U42fjJJsrBpSyMbPtn4qcS4rT+pnqZTnkToFDZtYRQ+z8Ink7zayMU9rcR4H8tMegNesh2FTzaJPIefbLqTjZ9Mkixs2tLIhk82fioxbutPqqfplCcROoVNWxiFz7PwySSvNnJxTysx3scyk96Al2xH4ZNNIs/hJ5vuZOMnkyQLm7Y0suGTjZ9KjNv6c+wpfon1Tyapp1OeAf7/ZqBORJUnYhPR71EahU8bqWz4ZOKnjVzc07ckxiu+PQrFTHoDXrIdhU82iZzlJzL+yKY72fg5K8k56oVNG69s+GTjpxLjtv6EP/3T3/9MyX+LP1My2kg65ekwjr6in/jTLH/Rqbv7+GnY7PZ39v3Cp41YNnwy8dNGLu7p0xPjHd8ehWImvQEv2Y7CJ5tEzvETHX9k051s/JyT5DzlwqaNWTZ8svFTiXFDf6KF9eefz+e/Pp/P/3w+n3/8fFJhv9LXBnR/fIQZWyTHKxMBfyTywJMVPE++80AI07P892LiZ3b3R6tzJ/UgM234R/hG+e/vDD/Zwu6OZ8A0i2+/o/+tNrPpW4vXO55lwycTPxHyiIw/MmGTkZcIeUXRyIhPJp6icI6ikwkb8JIqOYsCOYpOpLD+UgR8/5oM99V+juL8tyI5jtzaNNr+HfVWMT313h0YvLlNbJflhE/0pM8pHchO96mJcSbfns3msulc4ZMr5mvpR5SsouKPFq/1LEpaMXRKHm07j0E5jko2eVVi3JBtlLD+WiTF//6SpBjYzBz/IBIJDFRvP6J0J4rO2/G+un/4PEAmxpE6HSXzp9F5YmKMCRKucGfw7VfbQa+9bDrY4/fq59nwycRPpCwi4o9M2GTkJVJeu7Qy4tPj6X/9vvMIE63IGbBb6v9+Pp9//nw+WEzD+BK143QX3+j3e9hc/Xw5MYagKCQGBrulDDRb5//v9+90/+nz+WA746nvVyOEIVcTgBeUP4JuBhqzxvEvIpl4+8pxBvlIHmZlVfV9BLiFWvooBF5Rh5TbN50/LTHGuAMdwLiXxbdH6WAUnWz6G9WvKDoZ8MFnXdGx3GgsiHb/4/egH3z8n8/n82e/x0hRGJPObvyRQVaZeSDOGcrMOFm8QfdHbQb1kCxbdEbvUUaIW/Qkv4xrWufIw6I+IRvle6Qe/IecRJjBFf4IPmgJXCR3M42N1m0JYeQZEuXIJHlECK06EJDsOx1+650nPaNxzZT/JpLjSFnN8HBF3WxyvKLP39AGf9BF+yP4nqgjm+5cxc+TEmOpB/DxWXx7lA5G0blKd0bbiepXFJ1Rvk/WkzFKlnMkyycmz3fij5MyeAPtKJuIoPM0PGcnppC87fSRGOs4ZvYaO6Yijp2+6HeRFO/4MazUL4OLlzHLwWV+rCDPrCKzPt7nPwSX3j/M9mGGYmR2A84Pv3C6e2jAZ6/h3CmgXUWebfuK+iv4yoASRojrNx5X4D/TxhsxvqNPctVBDiLwOVHHjFzfVPdJiTHGIso/k2+P0sEoOtn0M6pfUXQy4INtm9iyKeO50eASMQ7iN7w7849xo4yRGCuxhH0h3otMkHfijwyyysxDlE1E0MmMk8UbdpZy6zTtsJUs707EEmMkttgBh5Vj/GP+Jcc3jnNWGfUJmYXJyj2MxfQfvRI+Dnko/Rd8IMfy5cS4xTQE6zEFR+htJ6aweiWcGwQKIVrC4r3d7Y2tPvaeAWxiAPB79Z/4vCcn77n8MQwY4BuPbPJ8I8ZX94lbZ+lfZBmpx9l05yp+npIYy3EHEyVX4TPSztU20WtvhOcr6/T4vfr5lX1faQvBIuMYXUbFNYgHEZDqRED6V9hZ1LEaf6zg903vRMkngs5bcNc2ARvEvd3+jWCMCSnaoJcoYyyMOHb7g/e5kxl+ycKN/gsTgb32uhV6BKznmPkgE7pkRm69twIw9rhb3/xRoDsrORaPI/f0rIU3ETBCK3OdFXnxHbmlaXcCgzQzldnklgmbp/LiDQ70NVH9yqY7V/HzhMRYBguQO8afq/AZaSdKB6PojPB8ZZ2ofkXRubLvK23JHw7VsRzsdYVm6x25oEC/ynInltPyWok/WnzXM43wvddvkYeV4MFGdvs3Ih25ECAnk2iPKKNscrc/eB8JMXyU/F0n7bNa+afkYRtgSYzn0rlpxlpbAEaE5dXB1mkvcIXwVj4SZ39mSvRP9nlUEDNtZKnryWLkvt7S9LbvjbPIiHyMyKTq+Ah4A4McJFZ8jNUiZfZtZfbEWPssbvHMJCdLn+68lwkb8JLtyIaP5sfb/RexaqXb4jXjR+lbeR61cqxteST+IH9V2olZJtt6g4y4AirzCZxH5BQjsmLMg88ZtL3QHvEs4tiVFyfwsCirFyYlfqOLlEcSY2uWA8xhG3ULgAiA5UwghYdyZatji1fvGWct0F/sYffqveH+rrywUkwZRRnYLk9R72eTb1S/vpEOEl7qaavE4BFxZNOdq/jJnhjL78vlTPlV+Iy0E6F/kTRGeL6yTmTfImhd2feVtrxvgCNWrTx+ELwihvR8bdQP/szGHx6/df+3ODfCHqJovEEmTPZkYofz1uLiaL9HcOZ4x+3Snj2O0OrVGeXbqwd/wXzLm8zjc4+GvB+euOkVUylUMCwb1+c98EaeI4j1Vo6x5Xrm0Pz1rvVMBZb0e+88+fkMllZdnXC8aUt1Nrla+Ne9MQTkN6WYwPEGiJFVh5EWqTsYGL3AVPrVK885AEUMzuwny8yJsd5CLWVN/jOUI/p1ZZ0MmEgeruz7SFuSt2zn3ooV/E3EqlWrv/i22fOzK4sclixm448Wv/XMQvi+e2+Qh5XgYfyN6NuIZGh/3BnlxT4RCwI7fSJO/LTDi5ngU0bbGa44SlAnhzJoQ6DXojMirJE63rI/BC0Dmh6tFq/WMygt+zszO2HResK9Hn4jz+WsLeQTYWQj7Z6uk01+p/v7Vvr4RIMDBLYWeTtSUCdqJYO6I3ef0K9kKU8ExpkTYxkUyNVi6D3llaHMZocZMJE8FD7j+tr6Vo9BqMQ28hz06XetMuKvjkAXZuKPyP69kVYm23oDvlaCF7VToycrGfcwJvdin4i4Z1VejBmY9LYm82YWKsMHdX4fYgVwJ1YZPEC9X1OEsnnv6Ps95ZHPuR+fTjxCWST9jOcar5VrrchRhr/CS+Q72eQV2bcIWtnw8fjhYMBVCrl6TFtnCR8QcRBfOHJMsMFnZfqHhB12Sz6jSg5ycuzAN0OafgTGMzS+0bfP4FN11xHQun33teyJ96OmV332JP2APrf8wgp2M/GHxKbOf0VgBf9veedXtNp39G4GxhhcvW2/3X/aw50/oCxXqLkye8IW+xzbNRCXMTZDDeRdxEqXNgXnbg+g2edy1VQCKAGepblSXzs8yUtv5ZrtOZD9chtKLFcUpKB+qfyiG8Rpt9STKadno3f5HXk/m5hHeL6yTjZ8LH7k9lnuNPGCRTjh2U81rDZx70o5ZGorY2L8rb7d0826H4tAJvsDL/LgpKAOMKN+AEu2ZZ17sSRiud5neTO4jsYfFo917wcCM5h/W90fKI2deQkeV2/HqPi1evhzt5pcqGKyLHOpKFv0OfWfMBZjbIaaegcIfZfe5eVT/f1JD6CZ563viyXAMzR36nozHKPbnLvg/V6BAqIQomZ1Rtu/q96ObOS7OiCGUcrnTzy/SyZeu9kw9PjMcl8mRDIQ1KuHtHmU/JGK3T5kk9VV/Gg/gEHXWhnaxXfm/W/17TMYVd11BK6yrdF22BNvxQp+LmpnDNvyylZiHBlPar/jxR8en3X/NwRGdewb683qiJXgRe7U6MmAya/8ZMr7MTDPXnptyOez+PBzWR1zYVFSxmQ8n160kMztnre+L5YA77Yz+r4nSAgdzrBHZ1RYcrUYgsCg8g1HD7+Z5/p7iiu33c/wOVo3m/xH+b6qXjZ8ND9yYJKztN5MLuxeJtCa3sz1VTLI1o4OUDMkxt/q22f0tequI5DNBtkTrMIwqNRl1Pe9bMsrGZxbJb8pjMJvJP7w+Kz7vyEQJYs30pnVESvBi4ovwEsLYzkOyzhc3pc2Cdtp0Rt5NosPVoAxNstcqzWZJ1eVh9oaYXq0jt6SIsGTAI/S263X2k494lhHANQDiJ7BGKHx1Dq78pHv620akVulZDtXnWeT6VX9Hm0nGz6SH85GIiDUM43a3mXQGPUJxSiGb6tnDbx3rhhrWX+Tb5f2UOfnEMhmw+yp3ilBPxe5asW2rBI+WMaP+jx6oWUk/rD4rHs/EMimy5n4+YFS/8xL8CJ3arSwoS3oz19b+VSL3sizPio/avATN70zt7Vo8ePtwbMRpkfreFtfNMCj9CLq6ZlAOtiR7dQjECJY4qCBcnpmYqSRpHUi5EMaltHx2RPLbCLLhmE2fCQ/mJmFLVtBoEyapd179SXd0fNssrqKn2yJ8Tf79lFdrXp7CFxlW6PtsDd3f1+MoJexmlXCV4z2aaTeSPxBbKq0ERjB+Vvr2IjZd70EL3KnRksO1vfFrO/leLsLnzYSv97lpIG1ei53+cnYbPr7YjTLDu+WAMZyYLgX+T3ILJ8UssVbj9avYvn5DoVEIViB9M9vvOuqh9/scz2JET0rPMvPTv1skt7py4l3s+FDfuSghHN9aJun7bPU9VeuT+D9BJqZEmMt52/z7St6W+/MI5DNLtkD+jNdRq5asS2rRDBrxWy4N7KosYJrL/6w+Kx7PxBYwfxb3vmBUv/MS/D6b47XaOFOu7Pib9gen8ty5k8hWW2Pcs5FC/l5G9+1tp/Df+ldf6zfLC0mV+4BRAmUPLcAXmlj5Z3W9u6eMJvA/f4jFHLg+LatdivyaL2j/8RWxEf9rfZOPuvpztXPT/Z1hfbV/R9tDwkQbNqakSQNafP63HLYfG+0XMHzDe9kSoz1j6x9m28f1dWqt4dANrtFb/QnBNLHRa5aechxV46MIeX56F8VmcW2F394/Nb93xCYxfub6s/oiJXgteKRGdqs62Evx2BrFdjLp3ZzPPLVKrloYU3O6Yls6bOWdvF6AM3e9wCDQ7MAnqW/Wt/7ZWrw1RNmS0h4phVY73nvvf/056sy8d6TRsmBEFucvPqZ72eTbTassuEDfuR3da0El8mzdL48jwgcs8nqKn4s+7/rG+Nv9+0Z7fONPF1lW6PtaD9Iv8byChlwVYgxgCxPrRYDH8v/yPjjir4/uY1RHfvGeqNy9RI8KxkcpWnV82TgfV/M+nryiLY58ptNpGGVFo/6HuIujMvWwaSZfkqWVv3uPYvJlXve3vM7vy9GP1qJsRV0yb63wEMALMHHeSuYbtF66jOJVdQ5DY1lb/Iiqt1oOtlkGt2/XXrZ8OEqBey4t/XG+/4O71rbr2f7uovtU9/HDh7aPUvLR8/iOVu/fPssYlV/FYFstop+eP4tetXKwkwGuPQBsjy9yCLbwrmMPyx+694PBLLpciZ+fqDUPpP6L/OLiAl32bKHDT899XZrwh60jeDaq++1o+9L3qxzbi/3cOBziRnOl74vBgOawZXrrN8Xoy+tlezeLIclIN7TW+2+8Ru0FV3pvUPDpPE99depqSdZyh7uVz/Pggv54CrFiB2zrnbCuI7YNXK1LLK0Zw26lv1TZqfK8u2nkC26GoEstkc+wJ/l13AvetVKY4HJSbkbhzEAy1NbqNl3lK34Q/Nb1z8jIHGs859zq5+R8q+8BM9/Y+2JJx8ucFoT0njH2lUB+9z9k02tXnCiGth4h97hRR/WW+Tw6IXcRzBIRnQZESjuMNkKYnvfjXnKg/s64cZ1q37EsxYOGFSgBOgvlQSDDK4hA2zRGDlIhzQgT5yDTsRqWI8HuZ2VbffeqefPQyDCHqJoYKWSfmtEx73BCzQiHHFUv6LonNQu+CUMfAi6ZVBMeRBT1KEPi+qXR+cO3+7xgvuYeMYkLoJ2/kAQAhhcYzJhdLvnHb691a87np3U5TfQtnZtMDFFUHxKZtBh6jbbk+UVSTH6preKyoB/V74YWxBHwc/hH1azMJZ4q2Bee/CDoIV3QUP6TcRqiGtnYj7dDt4FbdAibZQ92qd0o0UXeoMkDj4bsmJiN8Kv7nf0NWQEWUgcIS/c8757RV059uEcOnPFwQQUbXo6Cd3T/PF6h8eWjClXrw50QPoKed77HSmP5k5f/vguBE1wdInB+M4Diqh54jX4bh0eaLhPA6QQ5Jab1ns7zyxeocAwHPaJJR0ar1H2gnadlIKGRefkzDGcieQZ5wyIrf7XvWcisGMH0e/C8ULP4CtGDm0nUl8RUOwe0f3bpbfbH77f+lEfiWHvnD4XpTezvdPnO3y7xS8SEb2ChT5r/nCPu5+ItS61zl7l261+3XlP41LXPyOgE0Npa6fkhsDW+7Vb6PpqcLvCLxJw2Wecgz/Q2jkwLtCvWTFVLxZF24iDJB3SQ2klVLg/Gqu1aFv8WrRX8F59B3KyfCPkBZ2R2PAcGJ/OR4CjN8mrcUTcLmNbnJNXWY7KcEc/8S7aYbstWqyjS9mX1vvWM08P6I9aPsCyWdowbdej7923eJy+5xklFOHuQyujFGYviPVAs7aOtwTn0Zm9r7HEzB77AxngWho+FFU7Um/2ick18LJmGxHUygmQHnaa19FryzkgWa7jXQjM6v6p+kis4ERhR94sqUZe2h3tj6VnX5pG6/pUX1fptnidefaExPgu365lI7eVY+IG1+CN9TDg69/PQKBoHXf6dvKbpbTwqXs/EPASVOjWCRkibrImeuCTwctqYLvKK9pjUM2Sq9U/UJo7YwyGGE2OMXqyqjV2yDEHMRpogpZORuBjdczbooueSNoYx0AbdDRtxGEt2quYz7wHWWh9wTUSKOkf0S/EwjLZ4xh9KtG02kLMLGUOvoAtcyaUxNlaFALP+v057RuvzXGipy/knXiy3OHT0gGOxb3duHocpN3u/FDfOGpOTSuRIVAjs2AO2bDb5MUq4ZhahyUs3JNBC4VwhQOXvNLZol9wbK1DG6yWCxPe1ooZ2tAGsWMILX6180Vf63gXAp5tXXlfBkEzOtZK8Fo2NCrBKzEYaWuU76vqjfC8Wucu3y75lQM9+JHP9DkndjgOZfPtmt+7r6/S0ae2Qz3SZfTODPhergbptpDoRLc3o3c68eLvHKzIlMkOYhomQJKOjnWsmJTxGWK9kaQOCaGOd73xTSbnu7RnMJ6tiyRJrxBDTp5/lBgDDx27aj8p68+eQ65MKok72kOc0Dr4DmMGGdOTDsqrDupiTw/It+QR5zsLWJY+cJKul1th4lj7EFzDv1h0R+5tY07D1yDhupewbTfeIYDEzeKL93oK4AGov0GDgXp1I++zu3RmUGS5QsznVqkdA5WYtGic1rvSMRM7lJYTt96fvacND7zX8S4EIu1ilRbtGPZrBS0e4i2/ApvcPVb7c+q93f5Ev3+qn6BLneBAe5VvZ5+YLKBduQLC51YpAwP45Uy+3eL3znvRuvgmegjkqfe6jPq+uJUQ7wazUXqlEzDYF2ivHIy7aJOaho51YL9yLOJzxGejsR7asGI2/T5pg0f9TPMpr/mejAUxJkbhr+lYk5W93QSSX5wDUyZ+5NubLNDvtq5hM5puK5bWtKgf1sIT+ATWVxyQP3HpLXgxZ2B9ljv5gCdzb+KD9eXihvZZO7t4tzH3ZjkA1oyxbTNiEEDiS6FZpeesSIrg61IGIhDGzpK9pt26Bl8wIPRlJinGe1pOMEgZ4HuyAkYWdrgXOetGzC1e0VYd70KgpedXPJO/rgjnO3NgkPVsIkJXr+j/TBsz2FxRd4b32bp3+XbwyQBwJinGe3KFGfqXybfP4n+6/hX6+dQ2ENjq4JLXq3JB4ApfixVgrgCRJkvc7wXAq+2vvCftiTyCzuzB2An26B06LoP9ckEJCRauV5Ijto33+U8mgkxuI2mvYN17R++IgTx6W2s9WTF2Jh4oezmAJzfcl/EzaULWcmKj9T6etXafgWZv8a5Hf/S5xKb3jqzLfqPcyQekHjDZHcmrTnxf7OlPD5efnkMRJDg8j1g5+amhhQtr1oz8ofSSQTYlhSXP6SxZcquNrHPiXM7q9LZpsA8srUkCznRJh8n6LOlAJW4835khIn2rtGakerKy6FxxD04QDhLyeMu/K7A+YR8zNBmkra4G0AascmZgtHR0ph9X1LV4vPPeyT7Tp7O8yrfzeyq0OzvTLYNH6mMW335SViu079Tb7G0jEaPe6xJ+cuYfJnc0DV7jGZIbJMMIglfkePId7togvyhhn7MHY6dWcmPFqIjHmDCvJK7g00va8IzxVSRt+JtomVgTFKPfunuyol+UftKr27pv4QvaK2O/l0OBR7RzxUE9HNEJL5mfWSnXfZK6wx0bIzumLB2BvTKuk3RnzjV/U9dQAiqYLndmD6aYaFRuKRz47R0WkJzNkE5zZy+71YZ3jzOIKwmpN8sDHFqJkHYkUs6zyXkPbz63eD3VFttcKaH/LXwkVk87bw3mK1jpdzwdv+I+V+Zgw9wiqPnrXbfkvjuYXYHBTBs9LK5+PsP7TN07fTsnalbGEqnP2s/c7dtn8L+i7tW6+qT2oDsyrjl5juQYATAmdUYC4Ct0g21IeyIGmKyaOWB3tMVWssTkmXVluZNoeLE5YyvExquH7JvkN3KSQ3/SAjmMrCBShl7fOOEg+Z6NdaykGPRWY1Rr0Yr8ef2Ivs94ZgQLT/6gsXpQblwBhl/gvVaJBJg2KsvdCe3VfvzhPWu7BgUKA7z7IC9WOeJ0LIHILZgUBBypVTfyHtpAP1aVzzO+3gyR57hPTnxYM1IZ9Enrs8WnpWtPvNfTC43F7HWkbczQwuDN1Qy5JWuW/9ak2+oASR5m+nNFXfKVpTzV5zt9O8YS6OVK36wVY/icng1f4dtX+nPynSw6nI0PjmWMaWQZkbiCBpJLBKz0v7INJD2zOyVO6Qn4kLzhHPHXzMF4q2eDTEisGKE1qdXjxUte2M4ObS8xjNATyFT6MymHGfoePpQLcUA5G1NbY/9OPOzh2dMdr4+z96WujE7qS/zk+WzbrE9bhm8YXe21JrKpL/wledKdLcnXUmnNvhCkHcNbYka95Ckb+RtZdbXA5IwGBYByVwhWO/oelAW8ryaInqx631hAjtoRgNbJQxrqjLxO8uTRhkNsDW7k/0kl5L2b3Hl48b7W76uu5dYbOcNNvkZLL6nYsVG2fRUWo+2QryzlKN+z9e707RhHVidYpU5tOVQYAAAgAElEQVRLP5PBt8/K4HT9LDqcjQ9ur5VxDc5XJ2t6cvSSHyTIMwlQr52V52hf44CdHDMHd/e1VuC8Vd2IMYQTHdIf8LzF00gfvQUxOZ6u4I53rEmJFd/o9cPjfTQhtOJoxH+tXQEeL7zv6cGunEi/V3IXAfRj9NA5AXVrFEfdDmTPcYy7+Ho6ZI3XtNtdXdT8TV174MzOwEw1OljZmhmi8FCOCNASjOXQRwVp0Ru5RwXYwdUL5Afh/EOiBKdyxYSH5Sh2ZuRG+1j1rkNgRO+j68iAB3Ys6c/2HPoo/Yk83x3QJF8ZzmexOV3/FCZ3+vadBITfZCEokHo4KgcE0ad8+ylZrdIdxeTb6jGRY2DJUu6qWcXce89LgtD2FYsNHl/WShRwmDloh614yUvSRnYz9niRyQ55QYmYfffwYmsPz9H7GJ+t3QQrvtHro7dgNjJme5MNI4tsHj+479EdyVFadEefMZaZWaH28gno9MrB3VpIjkf1hYk0fRXL0RXnVjsrffjDO1byQgOcAXiZgc6LdPTkSZajCaYFnCWM0zOcDHx2VmrRZ4kBziMccEcMy4+fxOtyJ7/4Rcu2Tt+jHVmOc1YUXGHReorrHTsFH6dxmKU/i83p+rP8j9a/07fPBAS6PzKYpD5m8e2a17uvT+vmU+lTbxhcstQTiNHy46Q/25PlnVurJR84x0r26MFEpxdnWquPkENEQuTRXt1xKPtu0UbCvasbHJ819is7aSS/8txLjEcWXqwYGvJqTX7Itr1zL5bw6kffZ79GJgfYtqUDwGKGBmmhREw2OwGCd7Su4HpnLKUOLytzy6GtOlMJ1M55K2mH8CDUkYMgydL6UYDTiTGFv9oO3iMNWa780IvE4uS55BPnMz+8cJKvor0/AALDqw85O4/AZffwZs3hX0YG2Vb7pWNtHWtht/OMM+eQIf+NBD078qKf+ybfvoNXvdu2jRV8Wiu3p3fDgV+M7bQDWcIGR+xvx+a9d2n/LGcmmjg29OJMa8flTDse77hv0e4l6i168hl4JC4ssRi2ont8x9PB2WSJ9LzSawdJufcO7lu7iWbiUomfPrfwjNID3Rav2VeZG8zYuofHSlKKPARYzuwSsXZ10HfM0CEOumwqg64sr63ZdTI2A7CkSaHtlt42Ehrx6Iyc5I3nVmK8u5+dtL0SWO8ksd4kxp0zsl5feZ+6xNJa5WPdKttOPSM+uzY++z5nRXeTVrYrE236FZa7g1pGeWXiiTKILq3EGJOsvWMHm2/07Tt41bvxvp6BKcdaWV6Bt5eswJ/u+tKe7XrP6ctZzmxBxsQrEsVWUu8t3uxuy2V/yLcse4k6322VLb53dMVb/VtdZPN4weqz1G+e9+JLuSuH76AcTcJamEoZ8TxKD7x2iY/Eg/dGSs9mexMMmjYT89n3vJwGMonIx5YTY0+RwZju/Oi1J8TZ+9YMDBVuxsFZfFvbPSIEYbUVdc+bxIiif4KOdkTRM4cneC6a47Y/a9M79eVWpVawMtMGt8vRr8hyxsdYbZYetfXIwizinvXd1OnEeFfWT/TtvT5jYh2BzxP/IWBcXf3v4XLqubdiOxus7vAnkw2e06dG7PCZ9Q+cSCUPUaut5MObWI3oqzc2rX7/SZ5RtvhelX8ryYm2JW8SqJUYy+SRuslyNPaXGMpzT1YReiDb0eeUFRf6Zm2dCS1xYDkbp9P3jOJIvr1xryVHvjtSLiWx6ASB0OUswJJJLbyVawS+dGZWOeMcJG88txJjPstaWpMY2bcmV2LcTg6y6tooXyu2vfJOzx9YPiLi3gqvfGcUw2+tR5yiSysxHmnjTjk80be38LL6o2OMJ1xn3o2l8ffwjF6t0+3KawbIkhf64ahdPiO2zDqnE2PvG022v1PKiWBiiHJkkq/XbotvKc+Zc8/mcX+GzkhdK36HzrXyFo+/mRjaw9WTlVc/6j6xYpy9YuvSVuU5afdKTjig7NXVzz2ZIGHWdVeul4i0ZnhWACbjEUL3FA2OYXYlh3zJ0nLg8nm2c28SY2dr9hV9tBT/inarjRjH0sMxwtZHaFjbY2WwcOp8JwjpYfftz0fkvlLH2mk0QucueTzVt7fwkgHWk8934qAWPtHPvC2RwH71k7gVHrlyJWUuffOIHUbWQawo28d55GHRj9o2bvmx2djX66vFNyYUcazI3Vt5hB6ciFGZCEo9wzn0z+IfNqDr8nrGxn+H6JfCklWUHvzSmLiBvkrsV2zdw3JklZ9j18zkAuXDdykHWSI3Zb2dcomIt4wNBlcAZgeE3JZP9UyfdG4zq8VggHzJ8mmJsTeJkX1GWyfGMEIphzp/Nh7LBj7xotymhAQZs92R/6Rv0ec7W7ZLt9u6PaECU1WtIGWEwF3yeqpvb+GFYBO+3wu6ZBCU8Ry8Y/UJwVurn1meeVtLge2VPFp8SJ+6M9E4YsO6jk4AI7dSoy+ybzzHok7EQXqyxLi3e3i7r/hLxCv6Anv37Hgnl7B4aSVUXhLe4m8kASQfHvZSRjyP0gOvTdwHX1yxXbV1KxcCrZHcgiv3MxgSS2/cQ9tRfnfJ+emkRSo2mV8pW4Icedb60a2VWRirDxRoVJ+tNiLveZMYkW2coKUDo0qMrw1UTshU0hyx5906DG44o71LT79P+hzQZLnzjZDEqc5/1Xsth6jrp22lfqpvL53+VafvwsQLbltbS0/w2kuMdyYaV/yDXmCJTIxb3+mu8Crf8f4c0eyikKTJc/7athzncM4fs13RC0//TsR7rd0R3nbeKP6IoSzlxL3EdCd2kPRb55AVd2ms2ro3/nhYUj+Y2HqTEaznlV67yEu9d2bvTxNqzbqsAkymW4IceaadmVQ2Gu8IHdYhX7K0EuOoWQrZTtS5NYkBY4+if4qOTowjlf4Uz0V3XK9oY6dKOYifCqqsFUb6nJ1ApPSorUendMZKjEdWqu6S11N9+114Vbu/2pWc4Jfnq0HrKsYM0iUP9KUoR+ww0i/oWBKToFFH6zvd3TbkuBeNnzURLHGZlf3JXMLixUuooHPWymWLP2/rtdUu7lmH99mnVTf6HnhijD2zJVz2z1tNB86ynjwHpmh3J563xj3IsNWu5GHk3O2A9zKzfenAeL4KMNvaEX5rtXh1Gwn5kqXlwLMmxp5hXz3oSfxGz6lTLHcMabTNquc7tGhsdmy9967cqnZyW1Lr+2VuL+vxaj2Pxvpt9CzMIu5Z8hwJyO/A98m+/Q68qs1ffXtrBW1kO2QkptbKnEzsIux7hoZsG+cyAZyhY9W1EsyVHY0WbWtyL4J3bxu1HF9n9SHq+93Rdr2EylsoatlHb1VU82TJyppYj9IDqz15DxMBjK1Xt6x7uWBrgZSTE6v+xRv30Bfwo3FfvZ4mxI4RVFmuAkzmpeBmz/UMHx3bjlMgX7K0+m/NNsl37jr3FHdVKa/sh9QrnHvO60qeqq1AxzNr4BP1OSMfuf3Nap7t0NfIUgYM1rute6VnbT1rYbfzzJLnyG6DO+T1ZN9+B17V5q82ZW1f5rh7NV5sV5b0pzsx3Ko/YNssoxIWOWlL2ih3xgvZR0mT55jw2z3AH+nJUvrHWZ3xfBh0IDpGlYmg1DGcewt68htc/c5srmPhL3HkeZQeWO3Je7Jvs3JjfW9iw1vEYv2dld2WzkQuUE4nxt6sCxSHgK2WUnAz51ZAQ0Vb2ULNtq1+WIPJrJFYdE/cs5J4yClSgU7wDZraEbVmoU7xMEoXTheO/A3/oMtX6AdtLLqU31jtbGce4cvbtgbfsxOMjOrdt9Ybkc1KHSv4Gxk/7pDDk337HXhVm7/GZ9YqLcbdqyehvWCXMdxVyYL0GWybZdTvVNzxfTF2U+4e1iq3nrCYtTFvK25ELqF5abXlLWy13tH0e9ca/zu/LwYv3Pm6E1e3Vm8tPJA7Yhv1TnzpjXteMm7xMXJPy6t57c12wXlEOY4mA8ZDT8HAU4RD0E1aW7av+FgefIwIVNaxJjGuHvQkP6Pn1uxeb5ZJy+mKa9iDt1NBJ/Z3X3OAHy13tgJfgb3XBrcnzc7wj+qmrCdnXbV8dwYcr291/ywCq75d6sRV50/17VfhU+304wXts3h99adWDNLZvi69xOWUjFfij1FerIUV9Hf0/VY9L5HbxY8rfVouaK/FT++Zh0V0kgM+vEmg1jjtJWERMbTX9x5mUc93vy8mH6SjdUMnv+wvJsH4rixHR3ZrggYxLRZHbzu82S4wdlcg7SUmp2YZrUT8RAJuCVkqUu/cm83pJZgtunCEsz860KLnPbMccc8JW3idvmfpAhNP7SjuviZfo+VdE107MpOJzchKn2zL08XWfW+lA7LeGdwlX3V+HQKWPY/49paOnHj2ZN9+Ao+iaQebLVysMZZjVPQ21hYfni6Tl1bi0qK788zCphd/jLZnJWgRiRbatyYYkLiM8ubVY1JDmbDsJdzQI8hPJ0lsx6MbhQfbsSY62AfImvV0aeGJ93ZiaLaxogc9PEm7V0o8Wv3v0cFzqx/ASPoQttey5ZFRvrUwe3p3YJO/U1uWm402Hlo/NIDA/2RQb/0IwVWTAiOKyjpe0O7N2PA9r5QDmFcn6r7Fe4/vhpocfYQts9bkDB1vlnI0IUY9zMpdtQsiUjiUw8rs4YruWgEU5b0TkERiUrTGEVj17Su6s/OO5R+hdz0f6bV5pW/3eKj7foB+AhskevRVujzRnkfTSz7I027g7rXbum/Z16ptyXaknbF/KJEgynqr59bqXcRChkV3JHnlrhZPhp4ORvAsMfR0rNeOt2K8O0myqgdMQj08ZZ9b51K/W/VGnnnYyh8nI9/ot0dzZJRuLcwiab7t8JaxEUxffVi/IHo6KWYfdZKxEoiT1kzpKZV13zPqlnJadHiPTmxnJYy0eqW1RbXnDGZwvKJur49XP7+iz3e2Ib8PXXGSK/LgTKgMcuT5Ck28U8d9CKz49lU5r773ZN++2ud6zw8qV7DB6o30VTwfSXhW2rPewZjOdq0yYmXOard3byX+6NHEc6yiWf2Uq2sjdKw6HpYyQbHe693z6PaSQzk2em3IBE3iEil3LwlFe71Y2FvR3sV0RQ9kPzw8R+9z/Git4I7S8jDiZA9tqacvIyO+jPHkOK2/dR+hFVantYx9coXW6oC3cn0VH1yZonBOtwvssYI3M2vJ2TrpcHaSWtLrKfioQbXqWcbWc2KWntx5r9W/O57dicXptuVK3+rujVWZSPvS5wgOVuiexqvo+wis+PYVGfMd+DUESt/i29nvKtd8QxRu2lfxmgFtVDseHeg9Ywq2LcudWMVrc/T+SvwxQtuiiz73YpsR2ly4kBjifHUMYptMojTdHs/sa2tVVibPkn5kYkw+JH2cj8SxHqa7ExkepsTcKjmJEJHM0u5GMLB4kfeY+Gp8IXfoCO6PTLb5I/KPJ/z9GOZdLK9amPzBiThrLWOvBqOC/PCpt1K88yuww43/XlELCMHUqUPOklD5equn3izfqlFxhgtbanoOURrN6rnenjGyLfUU/qt0V/t+6r3VfjzhPe5k2Zk5XMWdNmmVPTv12nwC5m/lccW3e3Ls3beCtp7OPN239zCp5+cTZk+H4MNmJmh2ZOWtWIMHjPc9O9hpu/fuSvzRo4nn3FIqx4qoCQALz5G4qcc3aEh+cT6S6DD56snRot9Kpnv8yudMzDT/o/Q9O+n1SfJgnVt97ukBdXI3mZWTEbv9QN88jKAj1MmRdnrxRGth9qu/L8aqkA5aOGNwZWIOAcpklTz0BLvyXLdDA+85Jm9GanUmjg591ygtJ2Hdo1Nlf0cS+hV8T75j9evOeyf7eidtuXtkx0GuykbrKnUW5WqQeSee39629rnw771jRXespBg683bfvoJVvRObLHsrYdC/Oya+pc/E+UggfVIntE8fiT9G+NH9xPVqTKbbs2iPJoCaFq9lEiXp97YScyGl58vQjhWrRuHNuFXy3ktA2XeW8l2er47rXn9Bt6cHTKZ3dwBI22cfd0pv8oFYYZwbod8bY60fxmTutfLpXK+94edclSEzshwmslhR/tqsbBcrtXf8SJAlpNlfwe1BIbeHss9UNpQtZaMRyfo4X0lsuYVj1qG0+Os9W+G7h+fVz3t9vPr51f2/oj1thzttrsrDGnypv70Awmtzpx/17h4CWqfge3u+3ZOjd98LOKk33nu4/3Tf3upbPWuP61H4cCWH+sby9BiPILrlL8HH3UkxMCYeLFfiJi0rJoukyXInyWIb3qrd6vhDuh7PvckTynikfc8XkofV0pp4hO+cTSy5Ukt5oRzpl8U33pN05HlLxygH8G/RnbnHSZ8IWmxX9kOez/iT3qgtF0CYD6Hc2SXYa7P73ErSyBxWcU8dCFK8hBzf9d41U2At6++sVln4WZMBVLqWwnFGyAqgerNSVHSW0mnBOHn/ZCnbZH9HBksLwzvvncRohfadWJxoW3/asesgVzDFO9bASb0dnS3VbZ/Aq2iOIbDi27X8etetAOnNvr2HSz0/P8a2Vnhm44MZeSF+sGIS+kro/WzSMtP+aN3V+KNH30rU0Pdektmji+eM+Ygly108mZCRHspeQsV3evVkv6wxdCfeJA+S71X9siYdVlbiucAkeZLnrWSb+KzGE8Rajzu8v1sCW9kXns/IsDc6e3nglZ/Q/sIjtiozEdYltp5FHwh6vW3TWCWOTkJX+Nf8RX8Abm3po8J5BiKdOoyABsX3ZraowGFT4b32dg3Ket9yIFY9fW9Fhiff0fzdfX2yr1fT9vzRDh+r8qGN0MZkuTKAgo867kVg1rfP6o4XJEN3PF/7Bt8+i1PVj0+UdXAs/VXE6qWWGRILb4WabZ9MyDU/vevV+KNHl6uo7DNKjB2990ae6zgPtGcSU68N6XPIN/rh1cd9joczuoRYU0+azMSqkh9Lv8HzzgSEJTvZZu9cJurgD/pOPFl6eIFv1tmZ6LD02muz1x/93NK/2dinNeJjx5bOO3l99We0f+RTr8yQIZZY2dw9sCINOt4Pa7Gt20AwOqiX9qNXzq3gHwbSckwcgKiU1mzXiINAHTo40tLGcOpaO41RB2mI6NZbp/BZpXsrGEGNw0fopIW+AeXOLpJZXEcCPtjrzKwpeQiCq8gsIjDr2ym30dJb4Xm7bx/Fp+q1k49VfBAI6wSEQTdK+LRV2vI9BPDQcSuhkO0hxljxj7Kt6PPV+KPHh+w3z6MmBCyZRsVtmnaLLrEbjdkkZjJ5JD5IImWd3rk14bjCi27HmiAYTSplog6bAG0rLvf6yj6t9gO44l1iqkvypPs8c00eSRs6M5JnyDa8oRr5p/5LETLmO7ZijK1jSMIQDOAfGkKA2QpAJWNgGu/w/ZFSttHqNNrBEnqmhJgCtCYMIrd26y19wMlbTYCCwWFBMfUspA7CWo4NdGBIdIarxigVfvacCTmNbNRwKZcs5Wy/T9fPgssoH7Av+An4IW8bjfRD8hzv4N2ZSTsPfzh42B3sBvaAYI/2QR3tlaiP9/A+6CCAaAWEoxhVvTMIzPp2T3e8+9ApqTPQj2/w7R4edX8uAWjhhQAbugQfI32W1DfvHGMv/RPen/k34xvhC0cTi1ZfTzxbjT9avFiJEGQQgYH2JZStl2i1+LSe6fgRsrPqQefQNvCbTYpID3iQf5YjGGEsBV98ByV86si7bLtXat5Av9VPPIMtkSctD9gLn6FEXc2D1JveajHag72CLv5pPZZtWeeoDwzBh+ZV86WvUV/SnMUdOoa8EXknc8/ZmA/1EffhfeajW3kjwJSdynAOpQNfreBRC+fEdSvs0okrAnN8Ex15yFVjCN2ijyCOSoTSSs71tmwojqyHc9CBUjHBGNkiH405jFvr3+gsdiTub6QVLavT9LQerFzDj+zyyQF/pf3WOxi8dnm76v032kOrT7O+fUUOMuBEQGKNdQgwGOB4AafWzyjf3sJn5tkKNiffmeH9aXUxEcjxe7Vs+aydZ9DfDDFdS7d68ceqPnhykTHYKm1rEg+yj6BNnhB7Sn2SP0aIcz7vJYst7PkM8R7oSF1DsqbjQCSK8I86IcZ70LMTh8Yai1W4Jw/sfkWSR7wQk0u8ZF3G7awracm2RhI8T8dIe6ZEv2YOudUZOcTMIfs5w+No3RlefqqLAVorolTKk+dolzMVUGbMPGgDoMHcUf4ElHEhE0kIaiSZNMg0b0Fx9Ko6rvU9HRBpojAc/Y5Fx0vANT1cR8tEz8pBN0bbsPirez8QGMUxSz054MFPSF+BZ/wHHcE/1pH+Cj5ltz96NlTS3zmfnZXd7cfO+z+06HvOZnz7Krbwd9BbqUeWHiMwRNDutQNdIh0GDLu+PUrSHs933Y/qV0Y6VqxAfRgtpS6unEMP4Zsx8Qf/i/iyt9p1ly7odnvxx6rMrV+6j4oVZVJCGSMxizyQZDP5ZRs6lkT82fJRGuvetZw4lHqIsV5e8xz38Q55iOy/pIXEV2MBTDQeuNdLaIErcCOmFp0eDfKmdYz+H8k3/oFn+Y/3WU/ysKKbbGN2Qgb6a2En+Vk937KDnoJ+83MqnVfqWRoox6kDig8jgnJTkdAehO/NSFm8gGcEfaSBEtezdEA7WjcQANLRoZxJHqy+1r0fCETLqujF639WTH9o0feczfj2XblhtRi+DwkFE1wEekgsZiaK4S+jfHuUpHexiX4/ql9vpRON95Po9eKPHZkj2UCshX8riUerbSRPpL2VDLQaEbsK0RaTOMSk3Ml4QtbwjfCD0jciNoSfxOQLdsxYPrLTle3HiLmBtYzHgQv8L8aOmQQR+JEWcEVcD1xn4vrtDhWBnxE4ocxvofkzUvaVns3AjNK3HNFyZlDI5JizfyPtfAvmq/0cwbDqfE+yOyPrVZ17+nujvn0Gy9N1s2F+ur+z9LPhk42fWTzfVL8Xf2STVTZ+MulCNmyKn4chkEmZs/EyIkq9FSJ6NnCEh7vqRMpLb2PC7O0M/bsweEq7M1hW3TndezteT9HxaD5HfXsm+UdjsEsvEzbgpY42AtnkdRU/I/FHG7l6epWsRtopaRQCWwiMKNm31hkBFtsd5MrCye3UI/xcWSdSL7AthivFKK0fo2m1d2W/n9hWC7t6VolwSweeqO8RPI/69hZ2Vz+L6Hckjav732svsm9vpNXD763PR+KPN8o7sk+ZdCOyX0XrCxHIpMzZeBlVB3xnIJPjb/k2IEpe2DItk2JsaZqlPSqrb603i2fVn9fBt2L2rTaDfo/49kxyzyarTNiAlzraCGST1xX8jMYfbeTq6RWyGm2jpFEIbCEwqmjfWG8UWP2LcNiC9w1HlE7gR2NkYoxfF5yl/Q147/RxFs+qP6+Db8VsR++e/u6Ib88k92x4Z8IGvNTRRiCbvK7gZzT+aCNXT6+Q1WgbJY1CYAuBUUX7xnozwOqVhW/4Ea4onZA/erGyWgw+6mgjECWrovN9CXNbs97/tOfbM9lENmlkwga81NFGIJu8ruBnNP5oI1dPr5DVaBsljUJgC4FRRfvGejPA6u/RTv5s/gxfJ+tG6ISercX1Ct2T/XwD7RVM6501XXwbbm/Q/50+9Hx7Jnnv9PPEu5mwAS91tBHIJq/T/MzEH23k6ulpWc3QL2kUAlsIzCjbt9WdBVb/iunM3zKbbStD/Qh9kH+wHeerNDPgkZmHVVzrvXWdfAt2mfX6Kt5avj2TnK/CY7SdTNiAlzraCGST12l+ZuKPNnL19LSsZuiXNAqB1yAwo/gZ6/6Z+lYWf3w8I59RPO0qHv4Q+jf+aNkubivvR8m86Lzbpi35rujb297BpzHSV8k/y2dhVvdy2snb9LL6s45AxR/r2FlvZvJ5Fn933suETUZe7pRN+rYzCmyWJ701B8nyLI2n1N9VKPxpKwab37D1fBevnfefolPFZz5/saN3b3pXB9L8HYnS2Xw668nkTfpYfdlDoOKPPfz0257N3XFf83b39R0YPKnNu+WTuv0nCbLF67+LlWOct+o++dmOMiERZlL8nzuE6t0hBJ6sZ8X7vT5kSMG+pJL8IS6c4yj9fA4Gv4usii9HoOKPeAXI5Afje7dHMRM2GXnZQ/flb2cU2ApPWCWWv3S4+oNSK21f+c6qOuofs8GfRKnjLAJX6kW19ZxEYURWZzXzWdSxSoyJPE7qYRV5BMOqkwOnZ2lbcXsCgYo/TqCaw77pZ8/0cJ0q+arS1pN1ZL/gzTcpzV+KVWMkyfgj8m/qH/qyesgtTH+7SqTem0LgbbpX/bnOn0wp2hdUln/bGEnyG337W+3rC9SzuthBoOKPDkCLjzP5jMUuHHstEzYZeTkG/BsIZxTYDk/ye+N/rcT4DyqKH63hasu/vEFpH9KHHT2ud69LQjNi/RAVv5RN+b3xG317Rj2M4OlSJanG0iFQ8cc5kUTYZxSNc71coxzVr7fSWUP1S956o9D/Uawc4/xNfZxVy78SSTG/z5ulUfXXEHiT3lVfrvUjaxr3/rf4neL/fD6ft/n2t9rY+7WyeughUPGHh0zM/Uw+I6ZHcVQyYZORlzikX0gpo8AieMKKAoIn/Pu7FyXHMyoov+vBVqa3/43nGWyuqBuhx0Xj2oQ0C95X6OdT28Culzf69iy6F83HU/Ws+N5DoOKPPfxG3o621R16I/xeWWenL9/w7pWyeFxbb1YAmRz/9UuS41EFkz9YU0nxKGqx9d5sW9W3swl7rCa+j9obfftbbep92lc96iFQ8UcPoZjnmXxGTI/iqGTCJiMvcUi/kFJGgUXy9M9ideHPX5Acj6ggVob5YxfYPl0rxSOoxdeJ1OOidTYRzYZvvDa+iyLk9Tbfnk0Ho/h5l+ZVb3oIVPzRQyjueZSNRtCJ61UMpYg+vZlGDMovpfJmwbNv/OYYv1SNP+vE+08sR9SQf/ezfmhrBK1zdZ6oX8VzDv9wTivfQZl6+ibfzj69rXyHxlUvRhGo+GMUqf16mXzFfm9iKWTCJpnGA1QAAABiSURBVCMvsWi/jFpGgZ3gCVup/+Pz+eBPOp2gfxXNnvpxCxN+wbWOexG4SieqnWfbtCW/ezU3f+sSs7f4dtmnN53n16biMAqBij+ikByjk8lPjHF8Xa1M2GTk5TpJDLT0/wNAID/H0ef6mgAAAABJRU5ErkJggg==)"
      ]
    },
    {
      "cell_type": "markdown",
      "metadata": {
        "id": "dgo3XRMFsN_H"
      },
      "source": [
        "### Parallelization idea"
      ]
    },
    {
      "cell_type": "markdown",
      "metadata": {
        "id": "jmRFncjTsXnq"
      },
      "source": [
        "We first need to identify how multiple threads can help us solve this problem. Ideally, since we have our decryption function D(x), we should be able to operate on each letter individually.\n",
        "\n",
        "> How many threads should we spawn to decrypt a message of length m? How is this different from our previous approach with the Caesar cipher?\\\n",
        "**TODO: Your answer here**"
      ]
    },
    {
      "cell_type": "markdown",
      "metadata": {
        "id": "ZlT9kQ0qsXsQ"
      },
      "source": [
        "You tasks is to implement affine.cu. Name your kernel `affine_decrypt`, and use the following values when writing the logic for D(x).\n",
        "```\n",
        "A = 5\n",
        "B = 9\n",
        "A_MMI_M = 21 (Modular Multiplicative Inverse)\n",
        "M = ?\n",
        "```"
      ]
    },
    {
      "cell_type": "markdown",
      "metadata": {
        "id": "tfjVlDWlsXv4"
      },
      "source": [
        "> What should the value of M be? Look to see the types of characters in msg.\\\n",
        "**TODO: Your answer here**"
      ]
    },
    {
      "cell_type": "markdown",
      "metadata": {
        "id": "4PQyJZpWtnng"
      },
      "source": [
        "Define these as constants in your program. Spawn a single block with the appropriate number of threads.\n",
        "\n",
        "Some starter code for `affine.cu` has been provided for you."
      ]
    },
    {
      "cell_type": "code",
      "metadata": {
        "id": "vAsXJm9-sE2_"
      },
      "source": [
        "%%cuda --name affine.cu\n",
        "\n",
        "#include <stdio.h>\n",
        "#include <stdlib.h>\n",
        "\n",
        "#define N /* ... TODO ... */\n",
        "\n",
        "/* modulo function that works with negative numbers */\n",
        "int modulo(int a, int b) {\n",
        "    int r = a % b;\n",
        "    if (r < 0) { return r + b; }\n",
        "    return r;\n",
        "}\n",
        "\n",
        "__global__ void affine_decrypt(char* msg, char* msg_output) {\n",
        "    /* Include bounds check here */\n",
        "        ...\n",
        "    /* Work on a separate portion of msg each time */\n",
        "        ...\n",
        "    /* Logic for decrypting Affine */\n",
        "        ...\n",
        "    /* As each thread finishes its work, it\n",
        "       writes to a unique section of msg_output */\n",
        "        ...\n",
        "}\n",
        "\n",
        "__global__ void affine_decrypt_block(char* msg, char* msg_output) {\n",
        "    /* ... TODO ... */\n",
        "}\n",
        "\n",
        "int main() {\n",
        "    char msg[] = \"orizwuzrciwpufccxjclaswzyahivevlixcvuoillao\";\n",
        "    /* Allocate memory on the GPU, copy it over,\n",
        "       and call your kernel. *\n",
        "        ...\n",
        "    /* Display the contents of msg_output*/\n",
        "        ...\n",
        "    /* Free host and device memory when done */\n",
        "        ...\n",
        "}"
      ],
      "execution_count": null,
      "outputs": []
    },
    {
      "cell_type": "markdown",
      "metadata": {
        "id": "3iSG-Nx4uH9f"
      },
      "source": [
        "### Varying the Number of Blocks\n"
      ]
    },
    {
      "cell_type": "markdown",
      "metadata": {
        "id": "2qvBXpqQuJTX"
      },
      "source": [
        "Define another kernel, this time called `affine_decrypt_block`. Note that you now need to change the way you find each thread's ID. Once implemented, spawn `N` blocks, each with a single thread."
      ]
    },
    {
      "cell_type": "markdown",
      "metadata": {
        "id": "fign8SKDuJYd"
      },
      "source": [
        "### Hints"
      ]
    },
    {
      "cell_type": "markdown",
      "metadata": {
        "id": "DAM3UTWJuJcm"
      },
      "source": [
        "As a first step, you should obtain the position in the normal alphabet of each letter in `msg`. This value is represented by `x` in `D(x)`. `char` to `int` conversions would be helpful for this purpose."
      ]
    },
    {
      "cell_type": "markdown",
      "metadata": {
        "id": "I2XB4eAcuSb3"
      },
      "source": [
        "### Tasks"
      ]
    },
    {
      "cell_type": "markdown",
      "metadata": {
        "id": "DCHd1qg1uSge"
      },
      "source": [
        "* Finish implementing `affine.cu`:\n",
        "    * Implement the `affine_decrypt` kernel call\n",
        "    * Implement the `affine_decrypt_block1` kernel call\n",
        "* Output each individual try for **k** to the console. For example:\n",
        "    * ```txt\n",
        "        dahhkTpdana\n",
        "        czggjSoczmz\n",
        "        byffiRnbyly\n",
        "        ...\n",
        "      ```\n",
        "* >What did the message decrypt to?\\\n",
        "    **TODO: Your answer here**"
      ]
    },
    {
      "cell_type": "markdown",
      "metadata": {
        "id": "NHOJ4M84Tl7c"
      },
      "source": [
        "## All Done?\n",
        "Navigate to `File` > `Download` > `Download .ipynb`. You can later submit this `.ipynb` file as an attachment after running each of your cells in the [Course Feedback survey](https://docs.google.com/forms/d/e/1FAIpQLSfAYjrJ04aurqE96z-OdUVWsLwdlq14oPKBUJRkShzfZtn6Gg/viewform)."
      ]
    }
  ]
}
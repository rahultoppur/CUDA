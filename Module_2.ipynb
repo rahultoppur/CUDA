{
  "nbformat": 4,
  "nbformat_minor": 0,
  "metadata": {
    "colab": {
      "name": "Module_2.ipynb",
      "provenance": []
    },
    "kernelspec": {
      "name": "python3",
      "display_name": "Python 3"
    },
    "language_info": {
      "name": "python"
    },
    "accelerator": "GPU"
  },
  "cells": [
    {
      "cell_type": "markdown",
      "metadata": {
        "id": "4IztW5QJif_S"
      },
      "source": [
        "\n",
        "# Module 2: CUDA\n",
        "\n",
        "---\n",
        "## Introduction\n",
        "In this assignment, we will get more experience writing programs that utilize our CUDA-enabled GPU. Additionally, we'll perform a small case study that looks at the resulting performance of GPUs vs. CPUs for certain types of programs.\n",
        "\n",
        "Before moving on, please watch lecture videos Parts 1 - 3 to complete this section. \n",
        "\n",
        "This assignment will cover:\n",
        "\n",
        "* Calls to the kernel\n",
        "* Vector Addition\n",
        "* Matrix Addition\n",
        "---\n",
        "## Materials\n",
        "* Lecture Videos\n",
        "    * [Part 1](https://drive.google.com/file/d/1q4Hi9dKXhtOD0rDh3VvzoUn2OhqHXGJ-/view)\n",
        "    * [Part 2](https://drive.google.com/file/d/14F1MAbD69esFYLT2dIYDniVKex9ol4U7/view?usp=sharing)\n",
        "    * [Part 3](https://drive.google.com/file/d/1N8Ps0L7tL1B2sJx9XMHuw9H_CQMdCxLX/view?usp=sharing)\n",
        "    * Optional material: [Part 4](https://drive.google.com/file/d/1vqdP4SEswH5gVIZ2J2Qo8rhRN04gCEx8/view?usp=sharing)\n",
        "* [Slides](https://docs.google.com/presentation/d/1SsCLm-Z3ZxQJ9F3DFjk0OKpBNGyDcVNThvxqIELRmic/edit?usp=sharing)\n",
        "---\n",
        "## Assignment\n",
        "There are three parts to this assignment:\n",
        "\n",
        "* Part 0: CUDA in Colab\n",
        "* Part 1: Kernel Calls\n",
        "* Part 2: Vector Addition\n",
        "* Part 3: Matrix Addition\n",
        "---\n",
        "## Module Learning Objectives\n",
        "* Introduce making calls to the kernel\n",
        "* Cover `cudaMalloc` and `cudaMemcpy` operations\n",
        "* Recognize similarities between vector addition and matrix addition\n",
        "* Understand memory arguments\n",
        "* Use nvprof to see how much time is spent in the kernel\n",
        "* Use the time `UNIX` utility\n",
        "* Introduction to threads, blocks, and resulting performance gain\n",
        "* Understand the different ways we can get a thread's index\n",
        "* Writing a grid-stride loop vs. monolithic kernels\n",
        "* Understand row-major order (memory layout)\n",
        "* Make a graph to visualize performance\n",
        "* Write C code and its CUDA equivalent\n"
      ]
    },
    {
      "cell_type": "markdown",
      "metadata": {
        "id": "ZOKi0Hx8kPgn"
      },
      "source": [
        "## Part 0: CUDA in Colab"
      ]
    },
    {
      "cell_type": "markdown",
      "metadata": {
        "id": "MbpFAW2Qb6IK"
      },
      "source": [
        "### Specifying runtime configuration"
      ]
    },
    {
      "cell_type": "markdown",
      "metadata": {
        "id": "1XcEaa4ukSgF"
      },
      "source": [
        "Similar to how we wrote our C programs in the previous module, we need to do something similar when writing our CUDA programs as well. Instead of `%%writefile my_program.c`, we now use the NVIDIA CUDA compiler, `nvcc`. \n",
        "\n",
        "* **But before we do that, we need to change our Runtime Type--we now want to use a GPU! From the menu, select `Runtime` > `Change runtime type` > `GPU`. Leave the checkbox un-selected--that way, the output of each of your cells is preserved.**\n",
        "\n",
        "* **Only change the runtime to GPU once you are ready to run your programs. If you leave a notebook open for too long, you might lose conenctivity to your runtime environment.**"
      ]
    },
    {
      "cell_type": "markdown",
      "metadata": {
        "id": "aiJxNvQtkoZ3"
      },
      "source": [
        "`nvcc` should be installed on Colab by default. You can run the cell below to see the specific version:"
      ]
    },
    {
      "cell_type": "markdown",
      "metadata": {
        "id": "fEtw2LUIb9c7"
      },
      "source": [
        "### Configuring our environment"
      ]
    },
    {
      "cell_type": "code",
      "metadata": {
        "id": "sob4-31nku3A",
        "colab": {
          "base_uri": "https://localhost:8080/"
        },
        "outputId": "6eca787a-b599-48d5-e9bf-253c9fdd91fa"
      },
      "source": [
        "!nvcc --version"
      ],
      "execution_count": null,
      "outputs": [
        {
          "output_type": "stream",
          "name": "stdout",
          "text": [
            "nvcc: NVIDIA (R) Cuda compiler driver\n",
            "Copyright (c) 2005-2020 NVIDIA Corporation\n",
            "Built on Mon_Oct_12_20:09:46_PDT_2020\n",
            "Cuda compilation tools, release 11.1, V11.1.105\n",
            "Build cuda_11.1.TC455_06.29190527_0\n"
          ]
        }
      ]
    },
    {
      "cell_type": "markdown",
      "metadata": {
        "id": "iuXWXq1nkwYa"
      },
      "source": [
        "We also need to install a plugin to let us write CUDA programs in our cells. Do a `pip install`, and then load the plugin into Colab."
      ]
    },
    {
      "cell_type": "code",
      "metadata": {
        "id": "DXllBNCRlGil",
        "colab": {
          "base_uri": "https://localhost:8080/"
        },
        "outputId": "5f2a28f5-f40c-4b18-fbdd-ab7fd7b0b3b7"
      },
      "source": [
        "!pip install git+git://github.com/andreinechaev/nvcc4jupyter.git"
      ],
      "execution_count": null,
      "outputs": [
        {
          "output_type": "stream",
          "name": "stdout",
          "text": [
            "Collecting git+git://github.com/andreinechaev/nvcc4jupyter.git\n",
            "  Cloning git://github.com/andreinechaev/nvcc4jupyter.git to /tmp/pip-req-build-00_sjq87\n",
            "  Running command git clone -q git://github.com/andreinechaev/nvcc4jupyter.git /tmp/pip-req-build-00_sjq87\n",
            "Building wheels for collected packages: NVCCPlugin\n",
            "  Building wheel for NVCCPlugin (setup.py) ... \u001b[?25l\u001b[?25hdone\n",
            "  Created wheel for NVCCPlugin: filename=NVCCPlugin-0.0.2-py3-none-any.whl size=4305 sha256=35eea9634fb691a866c61f6d42131111e5a7eefbc036b2011429476edd81c44f\n",
            "  Stored in directory: /tmp/pip-ephem-wheel-cache-09i17rjn/wheels/c5/2b/c0/87008e795a14bbcdfc7c846a00d06981916331eb980b6c8bdf\n",
            "Successfully built NVCCPlugin\n",
            "Installing collected packages: NVCCPlugin\n",
            "Successfully installed NVCCPlugin-0.0.2\n"
          ]
        }
      ]
    },
    {
      "cell_type": "code",
      "metadata": {
        "id": "qC1jQot7lKnP",
        "colab": {
          "base_uri": "https://localhost:8080/"
        },
        "outputId": "37d1145a-9af7-47d1-a507-0d79aeb88f21"
      },
      "source": [
        "%load_ext nvcc_plugin"
      ],
      "execution_count": null,
      "outputs": [
        {
          "output_type": "stream",
          "name": "stdout",
          "text": [
            "created output directory at /content/src\n",
            "Out bin /content/result.out\n"
          ]
        }
      ]
    },
    {
      "cell_type": "markdown",
      "metadata": {
        "id": "J2cP7BgLbaxf"
      },
      "source": [
        "**If the notebook becomes inactive for a long period of time, you may need to re-run the above two cells to re-install the `nvcc` plugin.**"
      ]
    },
    {
      "cell_type": "markdown",
      "metadata": {
        "id": "v1awhDNnvh2O"
      },
      "source": [
        "Google has a few different types of GPUs that it can give you--depending on the one you receive, you need to compile your programs with the appropriate architecture (this is known as the compute capability). \n",
        "\n",
        "`!nvidia-smi` gives us information on the card that we were assigned:"
      ]
    },
    {
      "cell_type": "code",
      "metadata": {
        "colab": {
          "base_uri": "https://localhost:8080/"
        },
        "id": "YVK77TiGs_OS",
        "outputId": "cbca4d60-56c7-46aa-9549-a4757ad78645"
      },
      "source": [
        "!nvidia-smi"
      ],
      "execution_count": null,
      "outputs": [
        {
          "output_type": "stream",
          "name": "stdout",
          "text": [
            "Mon Dec  6 23:18:01 2021       \n",
            "+-----------------------------------------------------------------------------+\n",
            "| NVIDIA-SMI 495.44       Driver Version: 460.32.03    CUDA Version: 11.2     |\n",
            "|-------------------------------+----------------------+----------------------+\n",
            "| GPU  Name        Persistence-M| Bus-Id        Disp.A | Volatile Uncorr. ECC |\n",
            "| Fan  Temp  Perf  Pwr:Usage/Cap|         Memory-Usage | GPU-Util  Compute M. |\n",
            "|                               |                      |               MIG M. |\n",
            "|===============================+======================+======================|\n",
            "|   0  Tesla K80           Off  | 00000000:00:04.0 Off |                    0 |\n",
            "| N/A   34C    P8    25W / 149W |      0MiB / 11441MiB |      0%      Default |\n",
            "|                               |                      |                  N/A |\n",
            "+-------------------------------+----------------------+----------------------+\n",
            "                                                                               \n",
            "+-----------------------------------------------------------------------------+\n",
            "| Processes:                                                                  |\n",
            "|  GPU   GI   CI        PID   Type   Process name                  GPU Memory |\n",
            "|        ID   ID                                                   Usage      |\n",
            "|=============================================================================|\n",
            "|  No running processes found                                                 |\n",
            "+-----------------------------------------------------------------------------+\n"
          ]
        }
      ]
    },
    {
      "cell_type": "markdown",
      "metadata": {
        "id": "bBriw5cvv_he"
      },
      "source": [
        "Here I was given a `Tesla K80`. The associated compute capability with this card is `3.7`, and we'll need to keep track of this when compiling our programs. \n",
        "\n",
        "[Here's](https://developer.nvidia.com/cuda-gpus#compute) a reference of some of the other possible graphics cards Google might give you (along with their associated compute capabilities):  \n",
        "\n",
        "\n",
        "| GPU      | Compute Capability | `-arch flag` |\n",
        "| :-----------: | :-----------: | :-----------: |\n",
        "| Tesla K80 | 3.7 | `-arch=sm_37` |\n",
        "| NVIDIA T4 | 7.5 | `-arch=sm_75`   |\n",
        "| NVIDIA P4 | 6.1 | `-arch=sm_61` |\n",
        "| NVIDIA P100 | 6.0 | `-arch=sm_60`|"
      ]
    },
    {
      "cell_type": "markdown",
      "metadata": {
        "id": "YeZKp-GCcE0b"
      },
      "source": [
        "### Writing and compiling our first program"
      ]
    },
    {
      "cell_type": "markdown",
      "metadata": {
        "id": "fnXYoGozlTsu"
      },
      "source": [
        "Now, when writing CUDA programs, we place `%%cu` at the top of each cell. We specify a name for our program using `--name`, and once we run the cell our source code for our CUDA program will be saved under `./src`. **The source code for your CUDA programs will be stored under `./src`. Other programs that you write, such as your C programs, will be in the current directory.**"
      ]
    },
    {
      "cell_type": "code",
      "metadata": {
        "id": "YuIiVPMglhV1",
        "colab": {
          "base_uri": "https://localhost:8080/",
          "height": 35
        },
        "outputId": "59bc1b8e-5a32-4316-cb44-3a4a7aeaac17"
      },
      "source": [
        "%%cuda --name hello-world.cu\n",
        "\n",
        "#include <stdio.h>\n",
        "\n",
        "__global__ void hello()\n",
        "{\n",
        "    printf(\"Hello from CUDA!\\n\");\n",
        "}\n",
        "\n",
        "\n",
        "int main()\n",
        "{\n",
        "    hello<<<1,1>>>();\n",
        "\n",
        "    cudaDeviceSynchronize();\n",
        "\n",
        "    return 0;\n",
        "}\n",
        "\n"
      ],
      "execution_count": null,
      "outputs": [
        {
          "output_type": "execute_result",
          "data": {
            "application/vnd.google.colaboratory.intrinsic+json": {
              "type": "string"
            },
            "text/plain": [
              "'File written in /content/src/hello-world.cu'"
            ]
          },
          "metadata": {},
          "execution_count": 5
        }
      ]
    },
    {
      "cell_type": "markdown",
      "metadata": {
        "id": "qIz6fwwZwxVw"
      },
      "source": [
        "When compiling our programs, we pass in the location of our source code (`./src/hello_world.cu`) and the `-arch` flag (stands for architecture). The compute capability for our GPU is `-arch=sm_37`."
      ]
    },
    {
      "cell_type": "code",
      "metadata": {
        "id": "-rJe8w87FA-u",
        "colab": {
          "base_uri": "https://localhost:8080/"
        },
        "outputId": "b74b3680-a960-42b7-dabe-4338de4326d3"
      },
      "source": [
        "!nvcc ./src/hello-world.cu -o hello-world -arch=sm_37"
      ],
      "execution_count": null,
      "outputs": [
        {
          "output_type": "stream",
          "name": "stdout",
          "text": [
            "nvcc warning : The 'compute_35', 'compute_37', 'compute_50', 'sm_35', 'sm_37' and 'sm_50' architectures are deprecated, and may be removed in a future release (Use -Wno-deprecated-gpu-targets to suppress warning).\n"
          ]
        }
      ]
    },
    {
      "cell_type": "code",
      "metadata": {
        "colab": {
          "base_uri": "https://localhost:8080/"
        },
        "id": "5W2pScGbFG7e",
        "outputId": "e4b53701-ad7f-458c-ee33-2cedd852587b"
      },
      "source": [
        "!./hello-world"
      ],
      "execution_count": null,
      "outputs": [
        {
          "output_type": "stream",
          "name": "stdout",
          "text": [
            "Hello from CUDA!\n"
          ]
        }
      ]
    },
    {
      "cell_type": "markdown",
      "metadata": {
        "id": "rYLkFLuSjyif"
      },
      "source": [
        "## Part 1: Kernel Calls"
      ]
    },
    {
      "cell_type": "markdown",
      "metadata": {
        "id": "FeawCN1rj3c3"
      },
      "source": [
        "### Introduction\n"
      ]
    },
    {
      "cell_type": "markdown",
      "metadata": {
        "id": "9xOFyBC5j6-n"
      },
      "source": [
        "As shown in lecture, kernel code lets our compiler know that certain code should be run on the device (our GPU) instead of our host macine. We use `<<<NUM_BLOCKS, NUM_THREADS>>>` to specify our memory arguments, and to tell CUDA how many threads and blocks we would like to launch. Threads are grouped into blocks called \"thread blocks,\" and multiple thread blocks make up a \"grid.\" Each thread and block maps to specific type of processor on the GPU."
      ]
    },
    {
      "cell_type": "markdown",
      "metadata": {
        "id": "mQLohABmrjCj"
      },
      "source": [
        "### Division: A quick example"
      ]
    },
    {
      "cell_type": "markdown",
      "metadata": {
        "id": "B_ftByCfropD"
      },
      "source": [
        "Let's say we wanted to create a kernel call to divide two numbers. Remember that from lecture (and the slides) that we need to use `cudaMalloc` to allocate space on the GPU for our variables and `cudaMemcpy` to copy our values over. \n",
        "\n",
        "* Our kernel is pretty straightforward. We take in two numbers, `a` and `b`, and store the result in `c`. \n",
        "* We then allocate space on the GPU for our result. Since we are passing in `a` and `b` through kernel arguments, they are automatically copied over to the GPU, so there's no need for a `cudaMemcpyHostToDevice` here.\n",
        "* Once the result is computed and on the GPU, we need to get it back! We do `cudaMemcpy`, this time from the device (our GPU) back to the host (our CPU).\n",
        "\n",
        "A common occurrence in most CUDA programs is setting up our `host` and `device` pointers. Let's look at an example."
      ]
    },
    {
      "cell_type": "code",
      "metadata": {
        "colab": {
          "base_uri": "https://localhost:8080/",
          "height": 35
        },
        "id": "RVpb152jemwb",
        "outputId": "a75b1749-ff09-4f07-b591-bb1625113166"
      },
      "source": [
        "%%cuda --name divide.cu\n",
        "\n",
        "#include <stdio.h>\n",
        "\n",
        "/*\n",
        " * divide.cu\n",
        " * \n",
        " * Divides two numbers using the GPU.\n",
        " *\n",
        " * Compile with: !nvcc ./src/add.cu -o divide-cuda\n",
        " * Run with: !./divide-cuda\n",
        " */\n",
        "\n",
        "__global__ void divide(int a, int b, int* c)\n",
        "{\n",
        "    *c = a / b;\n",
        "}\n",
        "\n",
        "int main()\n",
        "{\n",
        "    int size = sizeof(int);\n",
        "\n",
        "    /* \n",
        "     * Set up our host and device pointers. \n",
        "     * Eventually, our answer will be stored\n",
        "     * in dev_c \n",
        "     */ \n",
        "    int host_c;\n",
        "    int* dev_c;\n",
        " \n",
        "    /* \n",
        "     * Allocate space for our result on the GPU. \n",
        "     * Remember that cudaMalloc needs a _POINTER_!\n",
        "     */\n",
        "    cudaMalloc(&dev_c, size);\n",
        " \n",
        "    /* Call our kernel, passing in our arguments */\n",
        "    divide<<<1,1>>>(42, 7, dev_c);\n",
        " \n",
        "    /*\n",
        "     * Answer now stored in dev_c, copy it back to the host.\n",
        "     * Remember that cudaMemcpy needs a _POINTER_ to the \n",
        "     * device and host from where you are performing the copy.\n",
        "     */\n",
        "    cudaMemcpy(&host_c, dev_c, size, cudaMemcpyDeviceToHost);\n",
        " \n",
        "    printf(\"42 / 7 = %d\", host_c);\n",
        " \n",
        "    /* Free our device memory */\n",
        "    cudaFree(dev_c);\n",
        "}"
      ],
      "execution_count": null,
      "outputs": [
        {
          "output_type": "execute_result",
          "data": {
            "application/vnd.google.colaboratory.intrinsic+json": {
              "type": "string"
            },
            "text/plain": [
              "'File written in /content/src/divide.cu'"
            ]
          },
          "metadata": {},
          "execution_count": 128
        }
      ]
    },
    {
      "cell_type": "code",
      "metadata": {
        "colab": {
          "base_uri": "https://localhost:8080/"
        },
        "id": "6WKz6_wtisH6",
        "outputId": "193284a8-b647-4231-8287-7c002d9caff2"
      },
      "source": [
        "!nvcc ./src/divide.cu -o divide-cuda -arch=sm_37\n",
        "!./divide-cuda"
      ],
      "execution_count": null,
      "outputs": [
        {
          "output_type": "stream",
          "name": "stdout",
          "text": [
            "nvcc warning : The 'compute_35', 'compute_37', 'compute_50', 'sm_35', 'sm_37' and 'sm_50' architectures are deprecated, and may be removed in a future release (Use -Wno-deprecated-gpu-targets to suppress warning).\n",
            "42 / 7 = 6"
          ]
        }
      ]
    },
    {
      "cell_type": "markdown",
      "metadata": {
        "id": "W6QGMfeFkC5v"
      },
      "source": [
        "### Addition"
      ]
    },
    {
      "cell_type": "markdown",
      "metadata": {
        "id": "iq_KxckRkHEV"
      },
      "source": [
        "Given below is a CPU implementation for a function add that adds two numbers. Your task is to create a CUDA program (`add.cu`) that performs the same operation, except this time makes a kernel call. You need to ensure that you allocate memory on the device, transfer your data over, and free the used memory once you are done. Use 1 block and 1 thread when performing this operation."
      ]
    },
    {
      "cell_type": "code",
      "metadata": {
        "colab": {
          "base_uri": "https://localhost:8080/"
        },
        "id": "Cs_EXZFBd3kR",
        "outputId": "cf12c8a1-8dd7-4ce5-f3ce-b21c52087ea7"
      },
      "source": [
        "%%writefile add.c\n",
        "\n",
        "#include <stdio.h>\n",
        "\n",
        "/*\n",
        " * add.c\n",
        " * \n",
        " * Adds two numbers using the CPU.\n",
        " *\n",
        " * Compile with: !gcc add.c -o add\n",
        " * Run with: !./add\n",
        " */\n",
        "\n",
        "int add(int a, int b, int* c)\n",
        "{\n",
        "    *c = a + b;\n",
        "}\n",
        "\n",
        "int main()\n",
        "{\n",
        "    int c;\n",
        "    \n",
        "    add(3, 9, &c);\n",
        "    printf(\"CPU says: 3 + 9 = %d\", c);\n",
        "}"
      ],
      "execution_count": null,
      "outputs": [
        {
          "output_type": "stream",
          "name": "stdout",
          "text": [
            "Overwriting add.c\n"
          ]
        }
      ]
    },
    {
      "cell_type": "code",
      "metadata": {
        "colab": {
          "base_uri": "https://localhost:8080/"
        },
        "id": "TptehoD4fH8S",
        "outputId": "acd1c0fe-b640-48d3-dd63-6268bc07ddd5"
      },
      "source": [
        "!gcc add.c -o add\n",
        "!./add"
      ],
      "execution_count": null,
      "outputs": [
        {
          "output_type": "stream",
          "name": "stdout",
          "text": [
            "CPU says: 3 + 9 = 12"
          ]
        }
      ]
    },
    {
      "cell_type": "markdown",
      "metadata": {
        "id": "zJEv8JlukEwx"
      },
      "source": [
        "### Multiplication"
      ]
    },
    {
      "cell_type": "markdown",
      "metadata": {
        "id": "SXeOcWPAdHna"
      },
      "source": [
        "This time we are given the following CPU implementation for a function that multiplies two numbers. It's similar to what we had above, except this time, the function signature is a bit different: `a`, `b`, and `c` are all pointers! \n",
        "```c\n",
        "int multiply(int* a, int* b, int* c)\n",
        "{\n",
        "    *c = *a * *b;\n",
        "}\n",
        "```\n",
        "\n",
        "This means that you'll have to copy over **all three** variables to the GPU--you need to allocate enough space for `a`, `b`, and `c`, copy over the values for `a` and `b`, and then copy the result back to the host. Now, we pass the location of `a`, `b`, and `c` on the GPU to our kernel arguments (or our `dev_x` variables).\n",
        "\n",
        "Write a CUDA program (`multiply.cu`) that performs this operation. Use 1 block and 1 thread when crafting your call to the kernel."
      ]
    },
    {
      "cell_type": "code",
      "metadata": {
        "colab": {
          "base_uri": "https://localhost:8080/"
        },
        "id": "gKWPGUMI2Olz",
        "outputId": "f28e1472-330d-4b53-97a9-dd039bf68531"
      },
      "source": [
        "%%writefile multiply.c\n",
        "\n",
        "#include <stdio.h>\n",
        "\n",
        "/*\n",
        " * multiply.c\n",
        " * \n",
        " * Multiplies two numbers using the CPU.\n",
        " *\n",
        " * Compile with: !gcc multiply.c -o multiply\n",
        " * Run with: !./multiply\n",
        " */\n",
        "\n",
        "int multiply(int* a, int* b, int* c)\n",
        "{\n",
        "    *c = *a * *b;\n",
        "}\n",
        "\n",
        "int main()\n",
        "{\n",
        "    int c;\n",
        " \n",
        "    int num1 = 3;\n",
        "    int num2 = 9;\n",
        "    \n",
        "    multiply(&num1, &num2, &c);\n",
        "    printf(\"CPU says: 3 * 9 = %d\", c);\n",
        "}"
      ],
      "execution_count": null,
      "outputs": [
        {
          "output_type": "stream",
          "name": "stdout",
          "text": [
            "Overwriting multiply.c\n"
          ]
        }
      ]
    },
    {
      "cell_type": "code",
      "metadata": {
        "colab": {
          "base_uri": "https://localhost:8080/"
        },
        "id": "x_a932kI2hPG",
        "outputId": "fd7de7f1-9497-4425-be7b-fd7febdc028b"
      },
      "source": [
        "!gcc multiply.c -o multiply\n",
        "!./multiply"
      ],
      "execution_count": null,
      "outputs": [
        {
          "output_type": "stream",
          "name": "stdout",
          "text": [
            "CPU says: 3 * 9 = 27"
          ]
        }
      ]
    },
    {
      "cell_type": "markdown",
      "metadata": {
        "id": "fzt0MZS-dMla"
      },
      "source": [
        "### Tasks"
      ]
    },
    {
      "cell_type": "markdown",
      "metadata": {
        "id": "ezQa7I2YdMrM"
      },
      "source": [
        "* Implement `add.cu` and `multiply.cu`"
      ]
    },
    {
      "cell_type": "markdown",
      "metadata": {
        "id": "152Xmg_yeyB5"
      },
      "source": [
        "### `add.cu`"
      ]
    },
    {
      "cell_type": "code",
      "metadata": {
        "id": "_PG1SD0uyIL1"
      },
      "source": [
        "%%cuda --name add.cu\n",
        "\n",
        "/* TODO */\n",
        "\n",
        "int main\n",
        "{\n",
        "    return 0;\n",
        "}"
      ],
      "execution_count": null,
      "outputs": []
    },
    {
      "cell_type": "markdown",
      "metadata": {
        "id": "012fCfNke03x"
      },
      "source": [
        "### `multiply.cu`"
      ]
    },
    {
      "cell_type": "code",
      "metadata": {
        "id": "Y83zuUsye0_C"
      },
      "source": [
        "%%cuda --name multiply.cu\n",
        "\n",
        "/* TODO */\n",
        "\n",
        "int main()\n",
        "{\n",
        "    return 0;\n",
        "}"
      ],
      "execution_count": null,
      "outputs": []
    },
    {
      "cell_type": "markdown",
      "metadata": {
        "id": "U67NFfDWBQ4H"
      },
      "source": [
        "## Part 2: Vector Addition"
      ]
    },
    {
      "cell_type": "markdown",
      "metadata": {
        "id": "htUjmbVsBUpZ"
      },
      "source": [
        "### Introduction"
      ]
    },
    {
      "cell_type": "markdown",
      "metadata": {
        "id": "pAmqk2I8BYn7"
      },
      "source": [
        "Vectors have an important role in the world of physics and computer graphics. In this section (and later on when we deal with matrices), we'll take a deeper look at the memory arguments of a kernel call and observe the affect varying the number of blocks and threads has on the runtime of our programs."
      ]
    },
    {
      "cell_type": "markdown",
      "metadata": {
        "id": "qPiQdb8gBcYk"
      },
      "source": [
        "### C implementation (`vector_add.c`) and a quick refresher\n"
      ]
    },
    {
      "cell_type": "markdown",
      "metadata": {
        "id": "FjgMuwTQBcbJ"
      },
      "source": [
        "Before you start implementing `vector_add.c`, briefly recall the thought process behind vector addition for vectors of an arbitrary length `N`. For now, we represent each vector as an integer array.\n",
        "\n",
        "![image.png](data:image/png;base64,iVBORw0KGgoAAAANSUhEUgAAA7sAAAErCAYAAAAfY5ScAAAgAElEQVR4Ae2929E1O24luNuDKhdaHqhdKHlQ5YLkgeRCyQPJhe6XfpoHyQVVxMzLzIvkgsqD1gTO+VFnbR6SiSRxYyYy4gsyM3kBF0AAK3Pv/X0+dYwQ+G+fzyfT30jOul4IjBDIZL8lSy5/MtPHyJ4irs/kfPu9CH2cMOfb7aLWf46vPUVXmfb9KZhFyFl6Gu/9z//5fNz+/mcmTVzIEmGoszkvxL11+4+OOif7+s0t6aqxFgIze3ryvf/6fD5ef/8r2UMxDb1q2Z/GONL1/KOjzsm2fptA7xr4PnEMqc08rZ2Xz6N5nuj3nmYPmuvJ5Cc01/W0sU7RU0S8diO6RHqK7I6fOlxtOk0jLrKriWbesa5s6qn3K+lb9zNkE5kOqY1GBE+pbFbtMukpkyxWeGcft/zent/Lrt9I+Wp/n2Fbp+gpIl4X2R1YR6Rj6c09EHPpcpHdJdiO69Szozdcq6RvLzBnMnSpvUYET6lsVu0y6SmTLFZ4Zx+3/N6e38uu30j5an+fYVun6CkiXhfZHVhHpGPpzT0Qc+lykd0l2I7r1LOjN1yrpG8vMGcydKm9RgRPqWxW7TLpKZMsVnhnH7f83p7fy67fSPlqf59hW6foKSJeF9kdWEekY+nNPRBz6XKR3SXYjuvUs6M3XKukby8wZzJ0qb1GBE+pbFbtMukpkyxWeGcft/zent/Lrt9I+Wp/n2Fbp+gpIl53ye5//vh+LX3HVvPv7zNp4kKWSMfSm/tC3Fu3f6+sV7YRspveD57VD1TdUo9a454dveFaL+n7848fVaEfVtH8+4cEP1SkrVM1A1QYSLq2PyjrlW2E7KZnT/UDVQrKNRpCajNPa9ez0/J7Z5CU7LZotFWXhs2OVaR8S4AadZrhEBGvu+Tk34wWf9KwM0VF3DsBOyK9RXbzaCrCTjPM2Uv6/vRAUmqFdR4Ljk9UifT27KnIbiYr+ZbFal9kH7dnp+X34n1IdruRyPe9w2LPJPK+tU2sZr5nj9DBLF53yUmR3XwO8tuMcp4V2c2llwhnk2HOSvr2/FcmK462p1nwjJYtk54yyRKtl6j5y+/t+b0ovZ0wb+3vM2zr7XqaxesiuwPryOaABmKmulxkN5U6Ptls2EueSvr2AnMmK/aymdE8s+A56uN1PZOeMsnihX+2ecrv7fm9bPrMJE/t7zNs6+16msXrIrsD68jkaEiWE44iu7m0lM2GveSppG8vMGeyYi+bGc0zC56jPl7XM+kpkyxe+Gebp/zent/Lps9M8tT+PsO23q6nWbwusjuwjkyOhmQ54Siym0tL2WzYS55K+vYCcyYr9rKZ0Tyz4Dnq43U9k54yyeKFf7Z5yu/t+b1s+swkT+3vM2zr7XqaxesiuwPryORoSJYTjiK7ubSUzYa95Kmkby8wZ7JiL5sZzTMLnqM+Xtcz6SmTLF74Z5un/N6e38umz0zy1P4+w7berqdZvC6yO7COTI6GZDnhKLKbS0vZbNhLnkr69gJzJiv2spnRPLPgOerjdT2TnjLJ4oV/tnnK7+35vWz6zCRP7e8zbOvteprF6yK7A+vI5GhIlhOOIru5tJTNhr3kqaRvLzBnsmIvmxnNMwueoz5e1zPpKZMsXvhnm6f83p7fy6bPTPLU/j7Dtt6up1m8LrI7sI5MjoZkOeEosptLS9ls2EueSvr2AnMmK/aymdE8s+A56uN1PZOeMsnihX+2ecrv7fm9bPrMJE/t7zNs6+16msXrIrsD68jkaEiWTMcIm5mhjfrUdTsneoLNWOj/tKQvk55Klm8EMj/As9g7q2N+oxZ7trqG0/ud5vcI7zoKgbsIZNqnd2W3bv92bKbx+v98Pr8ivP9mrZEDxs9kNNmCwgibIrt2xHWE+ex6pm02k1P73mlJXyY9lSzfCEyD53dT9zPtfbMznvviJxPurOPkvqf5PcK6jkLgLgKZ9uhd2a3bvx2babwusts3v0xGky0ojLApsltkt7+bfHE5LekbYVbX4xGYBs9g8UZ+OOJ6MBRf00esP8Ocp/k9wqyOQuAuAhn2GstwV3br9ixXhtJ6rb3xp/G6yG4PMt/kXGKYfSljro7kLbKby25irKM/68hmLK6flvT1EaurGRCYBs9gAS32zuqYwVB8Tb+6htP7neb3CO86CoG7CGTap3dlt27/dmym8brIbt/8MhlNtqAwwqbIbpHd/m7yxeW0pG+EWV2PR2AaPIPFG/nhiOvBUHxNH7H+DHOe5vcIszoKgbsIZNhrLMNd2a3bs1wZSuu19safxusiuz3IfJNziWH2pYy5OpK3yG4uu4mxjv6sI5uxuH5a0tdHrK5mQGAaPIMFtNg7q2MGQ/E1/eoaTu93mt8jvOsoBO4ikGmf3pXduv3bsZnG6yK7ffPLZDTZgsIImyK7RXb7u8kXl9OSvhFmdT0egWnwDBZv5IcjrgdD8TV9xPozzHma3yPM6ngmAv/y+Xz+8/P5/N5geRn2GstgsLytIVmuDOXWQhY7T+N1kd0+qhmMBWXoSxlzFeXCepFdX1KH2PfqMdbRn7Unn9W105K+PmJ1NQMC0+AZLKDV/lkZNxiKr+lX5H9Cn9P8HmFex/MQ+B38hxeL/+ySaa9m097bsZnG6yK7fXPNZDTZgsIImyK7RXb7u8kXl9OSvhFmdT0egWnwDBZv5IcjrgdD8TV9xPozzHma3yPM6ngeAvQ2l3kFvd3VPjLsNZZBe22747FcGcrdtaz0n8ZrNkosLZ7GrAge2SeDsaAMkVi0c6NcWC+y60vqEPtevdVb5HlPPqtrpyV9kXqpuecITIPnvKv5Xav9szKu+WJvTLAi/xP6nOb3CPM6nofA3xbZDVNqJj8WAcI0XiPJ5XqR3VykJVtQGG2oIru57CbC2YzmHNmMxfXTkr4RZnU9HoFp8AwWz2LvrI4ZDMXX9KtrOL3faX6P8K7jeQgU2Y3TaSYfFoHCNF4zwcWyyG4u0pItKIw2VJHdXHYT4WxGc45sxuL6aUnfCLO6Ho/ANHgGi2exd1bHDIbia/rVNZze7zS/R3jX8TwEiuzG6TSTD4tAYRqvkeRyvchuLtKSLSiMNlSR3Vx2E+FsRnOObMbi+mlJ3wizuh6PwDR4BotnsXdWxwyG4mv61TWc3u80v0d41/E8BIrsxuk0kw+LQGEar5ngYllkNxdpyRYURhuqyG4uu4lwNqM5RzZjcf20pG+EWV2PR2AaPIPFs9g7q2MGQ/E1/eoaTu93mt8jvOt4HgJFduN0msmHRaAwjddIcrleZDcXackWFEYbqshuLruJcDajOUc2Y3H9tKRvhFldj0dgGjyDxbPYO6tjBkPxNf3qGk7vd5rfI7zreB4CRXbjdJrJh0WgMI3XTHCxLLKbi7RkCwqjDVVkN5fdRDib0Zwjm7G4flrSN8KsrscjMA2eweJZ7J3VMYOh+Jp+dQ2n9zvN7xHedTwPgSK7cTrN5MMiUJjGayS5XC+ym4u0ZAsKow1VZDeX3UQ4m9GcI5uxuH5a0jfCrK7HIzANnsHiWeyd1TGDofiafnUNp/c7ze8R3nU8D4Eiu3E6zeTDIlCYxutMDnIFnP/++Xz++Pl8/uXz+fz7j//vRf/Ims5p0/1GOCiPw2MQLv/x+Xz+9fP5/OGTi8REG/QI0qmhjTptXo/GIvP8m9Ae250f2mHZPsDLpLcWaPZF2j6N8CD/RuP+vp0UzjNhEy0LPsBDe5LGFYBVvRqNDc6vvriNAVGuDPWNpdzqivbJ9ax+768+n88/GuRtUh93C9hqfAuBN5HdK//Cdk48gvgE8Yo//+AVf/f5fH4r5BY8Do9xAj+5ZTRKjacc5FSy+9c/HCU7dS6J6HKdSyLDs4Puc1sqaQwyyBabfxAa5tUGOP3+CMupoY06bV4/HUtL+TehPbY77mWuZ036SP98WPu0nm/8e54cSkubPG3sIruyB71gPuHVbDbmBQj7Oiyz+b3/8SPR59yKZe35ppW8rTdOz8d56eSN8xTZ/XxaO2d77/EKeugz81l0n/tTSWP0xsnGTyJsf8pBEESu/+kC/Jlidu5JwcHNRG8q6JzehvBBT93/qSGw9Dajd9B1crjkJGkcfmLP6/ibz+eDCc8/B2HD8mQoezjStamhjTptXs+AR1YZNqE9tjsnUFhmS/rQZghoD5/GCv1ds1fJV+KBsr29jr4f7YnjBOLmXc+kG++1z+bLhAvJ4nWgfXI9k9+jN1mcY9IbKjrXztsY6ysfx+2q1EcAYxnl1dpHtv3dytOzc3ozy+3obS7xCN4LVNKbX76PJV2n+0Rue2+CM/MTbb1LxptyEASc65nJLpJY2lSzg57osdOnkoDAg4FpAwK1YYMjA8OPDhBG9NSG77+xRAyxzngi5lS3TAzfiL90zaibN9Vb+6Pzdo9LMfRo5+XT2AbIb/LXNRgreqvMh8eaT5mjyK4s1rHtZCiz2ZYXJryXsczi9zC5p5yKddTDZidv4/GufBy3q1IfgTeT3ZGds71jSW9imXNRSbEG73PsmfGxzPxE37KuR5xyEASb6zNwURna9aul8MeN6WkRPhGc9WuTOv6uGo/VBgMei9bGxsa4cHn1sQNtXLKNxxi15dTQ2sZK59mwySSPEsTHDYPJHtfbfZ5FT+RLSEYPn0aKHO1R/MhgFmwyyIExgG2JSssHeNINlwEflkEqs0c7lilL6bFmmgPtk+sZ/B5/DJPeTuEbLtLP6FjN22g8iY8bzVvX9xF4K9md2fnIF7Uv0vj3gXisGRfD2MTchErqO5rP8/q+Jd0fYbT3f4rXCBLXZwBbgjVbGm+gO0khjYdvTSgAkBOltxgcDEakmYyO8WhLMjJLHLKPPdLT1NBGnTavZ8cqUr5NaI/tznsbywxJX2sL9FSWfIuXT6MHfYgJ1mnv8tHK+eZzTCgQryK73zGQbSdDmc1evTBB++R6tN9jH9cjuqSn0bGat0l93Gjeur6PAOfqZIMU27SPbPub5Lmy85HM+CaYcgEiv/TJUeYc7cMhHucEfqKtd8l4Uw7CoGKZjewSIWXnTd/FuHO0H4nhDUglOdTRwZ+VR1y4nuXJCRu+dznCbGpoo06b173XftJ8m9Ae2519BZbRSV9rNxTE2J94+TT+fQLEhev1ZvebvLG+iuz2cWF8uMzkLFimLKUXNryXsYz0e+jj6LuFPX2MsFnN26Q+bjRvXd9H4G1kV2LnPduna+1HmSkn4B+fIiI86ncCP9m3pPsjTDkIJ1xYZiO75LDJgWNCJoUBNx4GAaqP3urS2GxwiAvXR457ZJhPuz7Cfmpoo06b15+GreZ6NqE9tnu7z+k8Munr6ZR8LPkTenB291j1afSUvYcNXUPC3ZP3rdeK7I4TLrSJuzZs2R7lylC3XCuO3dvbkX4PfdxIDyg/1q19HM5VdV0EUHdveLMrsfOR/fMbYeYWWI7e6tJYJ/ATXauSjTblIAgu1zORXd44q5um94SQgsLo15kZ0tGTk7d/hJk22uiYGtqo0+b1kROp65vAHtw9W9LX2iIHOApYs/00UsGqTxu99aB9i0cr75vPi+wW2d21f9xblvVMfq/1cSMMR3hY+7jRvHV9HwHO2ckeV/P2mRQjW4q4LrXzkWy9N7vEw4h/jPrQ9RP4yUyHVvemHIQJLpaZyC7/UAFtoJWj/e4HBwT+oarRmPRUpf3y+OxjBTPDfNq9EWZTQxt12rz+NGw117MJ7bHdeY9jGfmGo9Up+xUKlHTv7rHq0+iTLOxPGZveVzlaed98XmR3nnSxbdy1Ycv2LFOW0nKtODbvaSyj/F7r40a6QPmxbu3jcK6q6yLwJrIrtfOR/bff2WUexj9UNep3Aj/RtSrZaFMOwuBimYXs8o8N7DwdGr3NuIKOjYw+skyGN/tIAbd9SznCbmpoo06b19+C+co6N6E9tjsme1yPSvpavfEPS/BbXbp/91j1aTwPfWSZfOvoaxytzG8+L7JbZHfX/nnfWZfs67CM8Hs9HzfCcISJtY8bzVvX9xF4C9m9Y+cj+x+9oR21b69n5if7lnR/hCkHQZLL9Sxklx1e7+2DFAYiyuj8qd4GgN5YrVFZn5PR0pse+ofT1nPtjt/Di65NDW3UafP67lqe3H8T2mO7t/u9t+ej9M7BDT8lchfoVZ8mnecuNuS7aD0UN/C7RPTUm67R95IpMbg7bob2RXZlepPalke7DHaDMnismebI4vd6Pg7xwPoIG2sfN5r37nV6cEjkLsOvs9+V3ar9W8juHTtHm8c6xsto/kVyacZyK/uajTvlIAwwllnILjvv0RuI2aLpHvXjMbCU/NAVGqR1nZJBxp8/2mg95874I9ynhjbqtHl9Zx1P77sJ7bHdca9zvX3AFaV73uf4SZE7QO/4NOk8Umzo+0a9YM1r7JVEinHt0rmi2hXZLbK7a3vSfbfbjn0dlhF+j/e9ZJ/31uzh43rz3r1GeSRjTQSvjp8ReAvZvWPnPR9C+4PHwDLiv71YxPKI/TDlIAgy17OQXXqjKyGmI1D5Y9DskLjEXx4d9e0Zp+Y1eoNLxLZNFsnoNOexGGuE2dTQRp02r1us7yljbkJ7bHfe51hGJH09OyKy1wazO0Dv+DTpPD258RoFaf6uEsUMqpPfoqfCdI/+qE7XsB3HFypP8HO05iK7sngktS2PdmirGeoea6Y50N9xPcLv9XzcSA89bDx8XG9eyTV6g0tkrn3zTD+oVcfPCLyF7N6x857988egMS5SnWJnr73FNctYHrEfphykBZrOs5DdXbBGP3IgGVfbsDABJHx7uNO1E5LAEX5TQxt12ryuracnjbcJ7bHdOdHDMiLpk9rSHaB3fJp0npnc+A/vicjS+aw93aOg3j7UI19HHwO76ht9v8iuTEdS2/JoF20z7fwea6Y50N9xPbPfI5x6h4eP683bu0ZvmenlCJFZwpJxbcuTyO5f/1gTrcvir9Wf9hxEBvmP4s8JX/1rfQKdE1nu8YBeW4tr1rG8t5+sr005SA/sp5Dd9pdHyUG1zn8EvoZxYaLU4kzJH3/mH+8V2R1ppH9dQ09PHaOP2POvtolIb99n0vkdjez4NOk8I2zogR2TVvJdd5IM7Iv+LjvhRR+OdpXhO3ojPUVcl9qWR7uI9c/m9FgzzYH2yfU235nJGXGvh42Hj+vNy9dGCTNhSm90+bdkGGMqTyC75LPaN9K4hlPqGD+4fkLe3O6v3qeevLgXxmOrWM77ybMc7d2f4nXPwFsH6SVsaww755SI8UbAsv0I4WgOjTUj8ORkCFd66kUf06GDnrC1+I+c5kjOTNcxMUTM7yTFd9fzA8o0xV35LdunAcX5DR7aHtfbIJIJG6ks5LBbf0HnO1/16M09skn+REqL5ah9ex2fJLNeqMycqKBPQ+yL7Mre+LY28Mbz3h6zuIb2yfU2l8uO/27eprE+3PP0cI/8Hb2F4x/Z6/kxbR9mYR/0hpXt4mklPYA46fCK5SNMyC+QDbT+YdS+vd7jLjQe8heNvXh3DNy7mGOQX+ka/yoALSB3z+8ubNZ+9/Pwd2Vfad8zGDQWHHO21iz3ZoZmJSNilKFutc6VcTPgwTKsyL/aB50c11uCxnKdVHp9l62HO/rTnYdX+GN8rBsq6Ulzb97oa+jTMEEssptTX9H20pvfy8egfXK9zeV68mW6hn4G/YPn9xiv8DiV7JIdEil8wttdtm8q6ZMARORPOrxieQ8TnHsnjuEPtKE+6KP/dFztI4v7GK/Rfzya7O5+Hv6HvkyLIrv7G8JUQQuDW2zg1TEXxDfrsrqGlX7o5Lj+BLLbfheKA4y20nqY81cuKJj07kuvZXhzI5WV2mHwZLyp3EkStPR1Zx3Vds9ud/DT0vfVOGifXD+N7O7mbTt6kvY9mexe2ZDGfesfqNKQMXoMr1jeWyd/DJ8+ebpzXL2dlu4nzXYYrzn3o/LRZHf38/A7RiDtW2R3PwGRYu3VTnPj7o7ltWbJPLtrudMfnRzXn0B2vb7L1mLdI6iUlLbtpOdMnFk3VNLHBaX9Pdth8GQCUWQ3p6487eLOXBL/qNEG7ZPrp5Hd3bztjl5W2xbZnVtrkd05PnTXK5a3kvQIKhHv1YOJM/sbKumTA3Ss7q+dfhivMb94LNntJWe0cOn3dQlsj6PI7v6G8NDTnTl2Nqp23ztyW7fVXttsPHRyXD+d7PaCFAUW7e/rkh202PaSO8J19Xtq1I/1giX57Xbu6HMMnhjQ681uPl1F28pofmvfyuOjfXL9JLKrkbeNdKB5vecPV33hSC7W6Yllkd251jxjeStJj3OQrxh9fbLt355TP/Y1WNIaR7ZteR3jdZtbdAVtHWS7QKtzLRA0vvdhtUYct2d4I6PTwsZynJmhWc2LeGaoW61zZdwMeLAMK/Kv9kEnx/XTyS5+zwaDisV3lVrc6ftyjCOWLaZtv9E5/X9xHIfrlESO+kRdR5+GuBfZzaerKBu5mpd9oHWJ9sn1Npe7kjXyvkbe5iF/kd25JRfZnePjGctbSUY/Utb6ibbf6Bx1zT6HSuI2HnuxnQPjNecVVD72ze7oex933hyMlKt5vcju/obQ1IfGWO3mizzXWI/WGJ44oJPjekvMtNblNc7oOz4WpKvVFf14FOOIJQWWtq3k/JSkltaCwRODuQXud21JgnW1WbNRTdzu6nW1Pdon19skVnNd2mNp5G3aMvXGK7I7t1AkQPyR1nmPd931jOUtsvTjUewbsFz9/u6MuPf2jvU1jNeYqzyW7Gp876M1EovzIrv7iYiFXnbGtN7Md8bfWYd23zty77ZFJ8f108mu53d8evj3fCqR1l7bq2v1Zldnd13hXPfX7FMbNx1tX4+CySvXTyK7PR/T+m1t3ayMV2R3botFduf4eMbyniS9+Ym0rhyoa/Y5VNab3Qs0VxxP22f0vY+7P6iCotJHi1effOA4bb3I7n4y0mIafd7aY+R5NBY4vycOTHCxbJMmlC17nd4iYiDh+s4PS8x8Wk9X5Ff5h6UoKSXC2msnuTb690N3PnkjmUejDT4pZtyprDe76/rX0MtJY3j5F7RPrp9CdrXyNrQL+h7t6qdPcJy2XmR3btFIgOrN7jdW3rH8e/afz0gG/mEpIr6kr9Vj9O+HaI5233icY7zG/I/8SzeJah3kKhB3+2mAMfqI3N23ECw7Gidf0yqL7O5vCC1daI2jYcNaY2itSWMcrTVJxkEnx/WTye7oo0KrT2OvfJoE4502pAvWC5dEoHfGtOqLwZMJRJHdnLqysoHdcTX8p2QMtE+ut7nc7lqs+mvlbSwfkme+plUW2Z1bY5HdMT7esXwsic4d8i/sa7gkAk2H1n67Mw7Ga84tqHwk2dX63scPff30K2WkRFYgX9coi+zubwgNPWiOcWdjWrfVXNfuWNZrxfHRyXH9ZLKr/R0f/gXFkU9DLLXrmISybqi880v52jLNxsPgycGcSnpgEH3M5K57+7FFC0MvO0H75PopZFcrb2Od8S++WzxEK7I7t+giu2N8vGP5WJL9O/jQnP0NlfwfIngvepYYrzG/SE92SUD6JdA7b2V73/tYcXhsCpQQkgJHv5LM7VbKIrv7CckK7pZ9PDf21VyW67w79pWsmvfRyXE9C9mlAEG/iHjnrSz7IAwoI6Iq0QuPN/JpmrpoxzrpI8wkOwZPxL/I7r7vbm3jqeeSPanRBu2T6xFkNzJvYxviPFD7XwLR+EV259b6FrJ7Qiyfa2rv7uwjzDQy70XPEuM1535Upia7vaSInMwMuJ4TooXSd81m/Xr3SFn8M930vQOL5KbI7n29tLra2676vVv5Is/1V7c+oicO6OS4noHs9oID+YDZ0fMRlMjSd25WDolPs9IVBRzWB5ZZ3+oSDhg8mUBQaREP7urTSk817n5cQgzv6nW1Pdon173JbnTeRrjzv0r7848kF3WhUe/lmdqketUGMvR7A9k9JZZb2QPFP/YxWPJbXZpXY6/dHQPjNeYYacluz2GS4G3C2gIx+ijM3R+nonHp4M+jj96A/Gi2XPQS2dFc7Vozns8MzUreZfCNOlqtc2VcoyUuDbsi/2ofdHJcb33H0iI2OvWCIwWJNhltpxh97Gn1x6kkPm0V96t+Pb++8qmbq3k076NPw6BeZDcmmdHUrddY7Z62Okf75HrrXyzX3Nvf3nkbrY98Pc2rTUAZuyK7cwt+Otk9KZbPNbV+t4dB+2kz3i+eJcZrzv2oTEl2R//TkQWfAUdP8rgdlitOj79I3ipw3Tx+3bPI7n7C9GtUY6/M7NP7XiwS37N7rh33Ptcjye7of9txQvqN1PcZfaqE22E5eij23fv7TOrTLHTVSxCJ6FIQsphPa0wMnoh/kd3cetPSv8Y437vQ7gztk+teZDdL3sY/dGX5EK3ny1ZyzJlt2VmJ/chPJrunxXILbfd4C/GkNibO7NvqHsZrzv2oTEl2R/+DkQSeOTByNtSmR3jvvtklx83Bgj72Z3X0jGaUxFoZh+a4M0PTnAfHstLN6rgoW3R9dQ0W/TyxQCfH9Uiyi8Gf/QqXs4dp5AuoXY/w3n2zi0H6yqdZ6Ip8N+uC/TT5WYu5NMdEn8Y6o7IN7BZ75mpMzXXWWHa2eKVHrfton1z3IrtZ8jb2MfRRZiubLrI7t1iMd0/710O4Nt5jXGaM5XNNrd2ldfKaqSQdU37RHlb7bzYuxmv2BVSmJLujj8KQwHSvt1B8qkhOt13wne/sEiiUmJES8fPnrSI1zovs9vXZ0/HomoYeNMcYyRlxXXNdu2N5rh+dHNcjyW7vIz8cLEY+BskpBVj6P9/ch8o739klYsYBajQf6ldbV/z/eVkX9ECSEkbteSzGw1iC+BfZPUN/FjZxd0zcW5Z1tE+ue5HdLHnbLE+8q7dR+yK7cytGQvg0sntaLJ9r6v5d/v+87F9Iv8Rjesdo/1hex3jN+QaV6cguAcZvMxhMLlunjeCyAighpKNHIq/DTSQAACAASURBVCXJCSaFBJqlUmhsD6dpvQYcf2Zo2E6z/kPlVXQQ0MT5pLHQyXG9Jbue6+FPnbAsXM5kYoLIfqjnK8iBX62DH97RnDzWVR/N++3vKNCDxBPe6DIG6NM4FlEpiSedLfnYS4xXhjIbyF6YsF/BcuZjNOV6go+T2k0vvxx9Ik865pPaWZNdTbu9O1Z2O7e0o/b3Q+gBeu+NrqUMV2O3LwU4Zv8Ur/kEyxmxvJps9z4JhbLQk4PZ2wheXPsRgpY0MxEeyUcf7aO5aG4iz3c3wUr7XgJLm2llrAx9MDHEgCtJylflH+mzrp9rR6u2wP3Q9rjulfSxDFiS/bMcVNKbzdGnVKgf76P2axttoL0ir/RRPv5ax51Pt6DsO/X2bQ/JYOkLdmQd9WVdkN4wLhXZ/fawI/wirn9LFn/mhQH6GK57+b0n+DippRTZnSP1ZLKb3c7nmlm/277RJo6UMQYyH8RYTfWUZJfUgUSViHfvO2b0Yyv80Twqe8C3CiIgsB3VaRx+M0ygMLH2CFBFdvcJ2fr2fX5PDxvOOAcnelh6JX0jPJCokiy975TRj6vwd1up7BHDlkASGcN2VKdx+M0wYTAj1iN5d6+3ct793YTd+bX6F9mV+UktvDXGkUns10pjTZIx0N9x3dPvne7jpBZRZHeO1JPJLu3DzHY+18za3ZZH3f29kLVZ13odR3ZpmURC+U0rs3Q6b6+1BLaFiDZe26c3TkuqJcFlt02R3SK7rb1qnu/a56n9OdHD0jPpG+FGJJTftLJsdN5eawlsOx79LkHbpzfOiFS342mft0SX5NWew2u8Irsyj+SlD8k8Mon9Wklk1mjDPgVLb793so+TWkSR3TlSTye7tFez2vlcM/fvtkSXdJv5OJLsMqD0VpcWQGSUSSu9yaWnC+R0pAcpid7g8hhU0vloHI3gczVGkd39JFiq/ze2u7K/p97HZI/r3knfDFt6q0skimRi0kpvcuntJ/mEWV+8RySS3uDyGFTS+d1xcMzdOhJdkufOenbntuhfZFfmOS2wXx1TJrFfq9V13O3Hvg7LKL93oo+TWkSR3TlSbyC7vDez2flcM/fuItElvnSHb92bSa/10WRXD4Z7I7ExW5ZFduWJ/UgP97T6rtYjzJ5+HZM9rkclfU/HGteHRJfwxo9XY7uT6kV2ZT4zk05lEvu18sKGfR2W5ffkOYbUIorszpF6E9n12tvSeeaakd9FoksvGvHrn/JR/FsW2V3AXGpcO+2K7MoD0QjnBdW+pssIs6dfx2SP65X07e+1md0g0aW3y7O27T16Q01vozP+SnORXZm7bHUaeS6T2K+VFxbs67Asvyf3RVKLKLI7R6rIrtzmtH3DXDOyu0h06dOvdw7SPX1aNupXmovs3tHWj7baRtgbr8juvlNYUO1ruvRs7g3XMNnjeiV9+3ttZDtIdFd+iIp/lKvI7rmuaWQbEdezoeiFAfs6LMvvyf2e1G6K7M6RKrIrtzlt3zDXzPVdJLorP0TFPxpcZPca6zQttI2wN16R3X2nkMZgEgrSs7k3XMNkj+uV9O3vtZ7tINGlX6nstbm6xjq6ahdxv97syhxbhG5Gc8ok9ms1klP7Ou8jLMvvyX2S1CKK7M6Roh+XxR+Vnbe+f1d73zxpvPto/tIDie7q/41mvf8yqm+t3uwu4O2xAYrsygPRSB8Lqn1NlxFmT7+OyR7XK+nb32ut3SDRpV+nbO9LztkH0ttdSXvvNkV2Ze7SWy+z+WQS+7Wayap5j30dluX35H5FahFFdudIIT70fU/tQ3PPPG2sVayR6NLDipWD9U5vd6OOIrsLyHtsAk70MDitvh3xkPdqDkwMcU2WP1SzoNrXdLnS11Pvo+1xvZI+edInsQsmuru/uMzjkO+QzOvdBn0aP7Wm8pQf7PBydt56mc3ntWbpPDNZNe+xr8Oy/J7cr0j1yUk9+oPVN2HSOU9rx//5ZJU4zdaruWeeNtYMt9E9Jrq7v7jM4xDhjDqK7C4g77EJiuzKA9FIHwuqfU2XEWZPv47JHtcr6dvfa2w3TFDpbezq92ypH/3bBtZP1od8RXZl7pJtI0Mpk9ivlRcmvJewLL8n93tSiyiyK0XKpp3XfjpxnruIM0Glt7Gr37OlfvQvYvnhT+SDnyK7dy3A6S0DJnscoLImfZKNj4khr4fKerO7YIAKXSQ6e2IbtD2uV9InT/pmNsFEl3HVKlc/Bj2TVeMe+jQO5vVm99fOSQNrrTF+LV3sFa11XY3T24vl9+R+T2olmNizT4hM8KVyP6Xd1T548/07OmaiyzasVVq8zZeuq8iuFClo57Fh6F9utAFq5ddMPWSVzIGJIa6ryC4YlmNVorMntkHb43olffKkb2QTVkSXdLT6hngkq9Z19GmYDNTHmL8dmRbeGuN8SxZ/prEmyRjs67Asvyf3e1JLwV8bZp+w8su10vmq3TcCkr3w1jbfSI3PrIgu7YfVN8RjaeV3iuzKsfpLS6vNQsSPPr5Mb3Dp+24YmLhOSSW1sSSJFuvDxJDXQqXlOv6isKr8CgELHZ8wJtoe1yvpkyd9PR1bEl3SUW/ODNfQp3FiS2WR3W93k0FXLMO3ZPFnLJd1yb4Oy/J7ct8ysxTa7/TxZXqDS99tRF/AdSIQ1KZ8wwzJ/XvW++jk8SXoWhJd2guRR5HdBfQ1DL73MWUMRCv1zB9zxsQQ11Zkd8EAFbpo2PCJY6Dtcb2SPnnS1+q899sCjKtGmfWXmAkH9Gmc1FJZCe23g2ptJvL8W7L4My8senux/J7c77Gl9D6mjHt/pV4fc2Z090uv/XTiPFfo9r5vvmLPoz6Rv8RMay+ye2UBnfsahl5k9+c310V2OwbmcEnDhk8co5I+eYIn0S99n7aHqdY1IpQSOSLaFNmVOaoI3YzmlEns12okp/b13n4ssiv3LWwRRXYZiZyl9r550nhXGsP/gTwirDvXiWxGHseQ3ScZnfZaIg1IOvfU0KSD3GynjfPueDfFr+YGCPSctcX/+zMQPcWQu3tAs380IOjTkExYPsCT4heNTc2fC4Hye7n0sSON1AdUO/nDjMLq+Vjhw+k2Xne/exCVGJYxjo1xx3F69cXEEAOv5Uf+stmMF9Y1zxgBtD2uR/m0sZR572TaU9EooU9rg2c0TtHY1Py5EGBfh2X5vVw6kkoT7Vtq/nEuXtjkxabIbuKPyUk3jtRJRrbDxBADbpHdSK28b260Pa5X0ie3A6lP8mgnl9qmJfq0Irs2GNeoOgiwr8Oy/J4Ott6jePjWmiMvaSvdrOmmyG6RXRdfjYkhBtwiuy7w1yQ/EEDb43olfXLzyBRo5VLbtESfVmTXBuMaVQcB9nVYlt/TwdZ7lEw+uGRZI16Fmz9uRXaL7Lr4akwMMeAW2XWBvyb5gQDaHtcr6ZObR6YgLZfapiX6tCK7NhjXqDoIsK/DsvyeDrbeo2TywSWLP2krzNcwL7JbZNfFV2NiiAG3yK4L/DXJDwTQ9rheSZ/cPDIFWrnUNi3RpxXZtcG4RtVBgH0dluX3dLD1HiWTDy5Z1ohX4eaPW5HdIrsuvhoTQwy4RXZd4K9JfiCAtsf1Svrk5pEpSMultmmJPq3Irg3GNaoOAuzrsCy/p4Ot9yiZfHDJ4k/aCvM1zIvsFtl18dWYGGLALbLrAn9N8gMBtD2uV9InN49MgVYutU1L9GlFdm0wrlF1EGBfh2X5PR1svUfJ5INLljXiVbj541Zkt8iui6/GxBADbpFdF/hrkh8IoO1xvZI+uXlkCtJyqW1aok8rsmuDcY2qgwD7OizL7+lg6z1KJh9csviTtsJ8DfMiu0V2XXw1JoYYcIvsusBfk/xAAG2P65X0yc0jU6CVS23TEn1akV0bjGtUHQTY12FZfk8HW+9RMvngkmWNeBVu/rgV2S2y6+KrMTHEgFtk1wX+muQHAmh7XK+kT24emYK0XGqblujTiuzaYFyj6iDAvg7L8ns62HqPkskHlyz+pK0wX8O8yG6RXRdfjYkhBtwiuy7w1yQ/EEDb43olfXLzyBRo5VLbtESfVmTXBuMaVQcB9nVYlt/TwdZ7lEw+uGRZI16Fmz9uRXaL7Lr4akwMMeAW2XWBvyb5gQDaHtcr6ZObR6YgLZfapiX6tCK7NhjXqDoIsK/DsvyeDrbeo2TywSWLP2krzNcwL7JbZNfFV2NiiAG3yK4L/DXJDwTQ9rheSZ/cPDIFWrnUNi3RpxXZtcG4RtVBgH0dluX3dLD1HiWTDy5Z1ohX4eaPW5HdIrsuvhoTQwy4RXZd4K9JfiCAtsf1Svrk5pEpSMultmmJPq3Irg3GNaoOAuzrsCy/p4Ot9yiZfHDJ4k/aCvM1zIvsFtl18dWYGGLALbLrAn9N8gMBtD2uV9InN49MgVYutU1L9GlFdm0wrlF1EGBfh2X5PR1svUfJ5INLljXiVbj541Zkd4Hseju3J8yHiSEG3DeR3UwOLpNNeeKCpITrf1rwAV4yZ9JTyfKNAPo0tiUqf5vAnr4lrTNGwGvfSudhuaxLjLlcz052pRh6tLPWz53xPdZ7Z447slu3vSO3dVvrtd4d33q92ccvsruQmNw1smr/+WBiyMGWyiK7/k+4yCllOjydJJISrhfZzWQN58iCPo1tqchubv15+hrJXF5oYczlepFdeez10pNkHoldebaRyOzVxnPdV3N5rVk6z5W8T79fZLfIrnSvbLXDxJCDbZFdebDVdkRbylTurL222XhISrheZFdZoS8ZDn0a21KR3dzKn/mGiHteaGHM5XqRXXn89dKTZJ4IO53NKZHZq81MTu97XmuWzuO9/mzzFdktsivdK1vtMDHkYFtkVx5stR3HljKVO2uvbTYekhKuF9lVVuhLhkOfxrZUZDe38me+IeKeF1oYc7leZFcef730JJknwk5nc0pk9mozk9P7nteapfN4rz/bfEV2i+xK98pWO0wMOdgW2ZUHW23HsaVM5c7aa5uNh6SE60V2lRX6kuHQp7EtFdnNrfyZb4i454UWxlyuF9mVx18vPUnmibDT2ZwSmb3azOT0vue1Zuk83uvPNl+R3SK70r2y1Q4TQw62RXblwVbbcWwpU7mz9tpm4yEp4XqRXWWFvmQ49GlsS0V2cyt/5hsi7nmhhTGX60V25fHXS0+SeSLsdDanRGavNjM5ve95rVk6j/f6s81XZLfIrnSvbLXDxJCDbZFdebDVdhxbylTurL222XhISrheZFdZoS8ZDn0a21KR3dzKn/mGiHteaGHM5XqRXXn89dKTZJ4IO53NKZHZq81MTu97XmuWzuO9/mzzFdktsivdK1vtMDHkYFtkVx5stR3HljKVO2uvbTYekhKuF9lVVuhLhkOfxrZUZDe38me+IeKeF1oYc7leZFcef730JJknwk5nc0pk9mozk9P7nteapfN4rz/bfEV2i+xK98pWO0wMOdgW2ZUHW23HsaVM5c7aa5uNh6SE60V2lRX6kuHQp7EtFdnNrfyZb4i454UWxlyuF9mVx18vPUnmibDT2ZwSmb3azOT0vue1Zuk83uvPNl+R3SK70r2y1Q4TQw62RXblwVbbcWwpU7mz9tpm4yEp4XqRXWWFvmQ49GlsS0V2cyt/5hsi7nmhhTGX60V25fHXS0+SeSLsdDanRGavNjM5ve95rVk6j/f6s81XZLfIrnSvbLXDxJCDbZFdebDVdhxbylTurL222XhISrheZFdZoS8ZDn0a21KR3dzKn/mGiHteaGHM5XqRXXn89dKTZJ4IO53NKZHZq81MTu97XmuWzuO9/mzzFdktsivdK1vtMDHkYFtkVx5stR3HljKVO2uvbTYekhKuF9lVVuhLhkOfxrZUZDe38me+IeKeF1oYc7leZFcef730JJknwk5nc0pk9mozk9P7nteapfN4rz/bfEV2i+xK98pWO0wMOdgW2ZUHW23HsaVM5c7aa5uNh6SE60V2lRX6kuHQp7EtFdnNrfyZb4i454UWxlyuF9mVx18vPUnmibDT2ZwSmb3azOT0vue1Zuk83uvPNl+R3SK70r2y1Q4TQw62RXblwVbbcWwpU7mz9tpm4yEp4XqRXWWFvmQ49GlsS0V2cyt/5hsi7nmhhTGX60V25fHXS0+SeSLsdDanRGavNjM5ve95rVk6j/f6s81XZLfIrnSvbLXDxJCDbZFdebDVdhxbylTurL222XhISrheZFdZoS8ZDn0a21KR3dzKn/mGiHteaGHM5XqRXXn89dKTZJ4IO53NKZHZq81MTu97XmuWzuO9/mzzFdktsivdK1vtMDHkYFtkVx5stR3HljKVO2uvbTYekhKuF9lVVuhLhkOfxrZUZDe38me+IeKeF1oYc7leZFcef730JJknwk5nc0pk9mozk9P7nteapfN4rz/bfEV2i+xK98pWO0wMOdgW2ZUHW23HsaVM5c7aa5uNh6SE60V2lRX6kuHQp7EtFdnNrfyZb4i454UWxlyuF9mVx18vPUnmibDT2ZwSmb3azOT0vue1Zuk83uvPNl+R3QWym02JJ8gzMzQr+aVOoNrFImCl/964SEq4npns9tYQeS3WUnLNjmSXCYT1AzwpApE20s4tldmjXSvbW87Z12FZfk9Odt9iJ6ev08OHSOc4HcunyT/jIB8M4FyPehr4NODftp6ZoVlhIXVK1S4WASv998bFZI/rlfTJk75YS8k1e5Fdmd1k0lrPJ7zhGvs6LMvvyez3DfbxlDWWrymbHtnyjIMU2a23vp+R4dy9PjO0u2NJ22dyfCXLGAGpPjXaYbLH9Ur65AFyrMX33SmyK7ObTJah4UNOHIN9HZbl92T2e6K+3ypz+Zqy6ZHtzzhIkd0iu0V2M3nPh8oyck4W1zHZ43olffIA+VATXFpWkV2Z3SyBa9TJwqecMCb7OizL78ns9wT9low/69LIbSwNWzrJtb+K7BahVSO0s809M7RZv517Sx6qOrkjsKPju30x2eN6JX3yoORuHIknLLIrs5tMKrzrL57Snn0dluX3ZPb7FBt4wzrK15RNj+x8xkHqzW4RYTUiPDO0kXHuXs/k+EqWMQK7er7TH5M9rlfSJw+QYy2+706RXZndZLKMO77iSW3Z12FZfk9mv0+yg6evpXxN2fTIxmccpMhukd0iu5m850NlGTkni+uY7HG9kj55gHyoCS4tq8iuzG6WwDXqZOFTThiTfR2W5fdk9nuCfk+S8V8/n8+fP5/PHwzyayO3sTTsSTp5g6xFdg023BsM5+4aZ4Z2dyxp+yUPdUCnf/l8Pv/5+Xx+f4CsEhGl+tRoh8ke1yvpkyd9En2+pU2RXZndZLIHDR9y4hjs67Asvyez3xP1nVXmv/l8PmyDFvZXvqZsemT7Mw5Sb3aLCNeb3Uze8/P5/O7z+cu+jPo3YNqQjJyTxXUOtFhaBF0L2TOMqa37k8crsitLrDLpOMMeipAB/R3Xy+/J7DdCX0+dk97msv3R213tdZav0cdUW0dR4xXZNdhwUcrMPO/M0KzkzuT4tGSht7n8P6/p7e4TDiv998blQItlJX3yAPkEe9NaQ5Fdmd1o4a0xTs8nvOEa+juul9+T2e8b7MNrjX9XZFed4Hvp7vR5ZhzkL0k1J9dURr1NOh3ot8s/MzQrbDSSo2xj/G2R3a1gwYkelpX0yZO+bPshUp4iuzK7idRRO7dVrMk+Lvo7rpffk9lvdt2eJF+R3bK5KHudcZAiu/XWd4tYoFHPDA3badbbROcJ50V294IFJ3pYVtInx/QJe0hrDUV2ZXajhbfGOJrx5aSx0N9xvfyezH5P0nN2WYvsls1F2eiMgxTZLbJbZFcjw1Ico8juXrDgRA/LSvrkmCqa8vFDFdmV2U0mRUclWtHzor/jevk9mf1G6+5J8xfZLZuLsuciu0Vo1QjtzIhnhjbrt3MvU5KlJUuR3b1gwYkelpX0yTHVsuMnjFNkV2Y3mXS9E09O7ov+juvl92T2e7Les8leZLdsLsomZxyk3uwWEVYjwjNDszL+TEmWlixFdveCBSd6WFbSJ8dUy46fME6RXZndZNK1VazJPi76O66X35PZb3bdniRfkd2yuSh7nXGQIrtFdovsZsrUPp9Pkd29YMGJHpaV9MkxTbYdQsUpsiuzm1AlNZNHJVrR86K/43r5PZn9RuvuSfMX2S2bi7LnY8huE7NCT6OUNZo3FIxm8pGMM0Mb9dm93oj2iNMiu3vBghM9LDMnfdmMdndPPql/hE+T4pfJbqQye7TLhIunLPgfNbge9Z81pOv2sAfpHFKZPdpJZfZqd2fNT8xf7qy/2sYhMH04zU4Ry+wOEqGkjfUvn8+H/h8prYFKWvDvsNFC3cuJSOdZWIJZl5HMEYmh2SIDB35isBjZjMV1JLlcP4nsWvk0qUlb6OTUMSN8mhQrqT492kll9mjnsd6Mc2AOx/XsuRy9BfzXz+fz5x//m5VK2nN/E/CJu0w69dgnd+a4g80T8xfp+qNjt1TOp7Z7JNn96x//D5idOpFcJrx8jRa+erSO4B/AIZNzbu9bn6+uw6LfaK0RiaHF+qLHfGKwGNmMxXUmuFieQHatfVpr138PPpMeGPJhoZNTx4zwaVKsWF8ZSqnMHu0y4BEhA+c9WGYlu+zr2EcTyWXCy9do72nZiyR/i9DZaE6tdWuNM5Kzd/2J+UtvnXiN7Zn3njYfwbmoPordbbu3nT+O7NJbWzaqf/p8Pv8dNIobjdrQ/ZUDncQ//njqyE6YSnKe2Ma6vrIGqz6jtUYkhlZrjBwXbZic5hOOkc1YXMd9yvXsZNfDp6Ed/RF8KPtSCqB0WOjk1DEjfJoUqx/qSlFIZfZolwKQACF4H2OZkeyir/vnz+fzV+Bz8Pue5Lvp/q7NSPO3AJUNp9xds3b/oaCdG0/MXzrL/MsltGcrPvKXyT6fzyx2Y7s31h9FdukJCjvz3w+0yfe5pD53D3QW7RNHLSeMc1zV78pv2X4ka0RiaLnOqLGfGCxGNmNxnQkulpnJrpdPQ3tuPwVDvpIfDFro5NQxI3yaFCvUZ3RdKrNHu2gsoubnfAfLbGS39XU9e0C/TfX/sUl4pflblN568/ZwibzWk3F07Yn5y2itrT332uF+pPoKH8FxZ7Eb272x/hiy+xv42B1tqNHx70CIybjwI3qjPu11diz01LF1vnROTyC5jUfZyhd5PlpvRGIYiYPV3E8MFiObsbje269Zye5vHX0a2yt9EqYNwHTOPtVCJ6eOGeHTpFixPjOUUpk92mXAI0KG3p7ORHZ7+VvPHv6jybl2vjZ2J3+L0Nlozh4ukddGcvauPzF/6a2zZ8+9dhp8hMe9it3c7q3lY8guL4TK2dE6/ZWPgrJjaT9Ww4n07tNGHl9aztbrfW8kc0Ri6L12j/meGCxGNmNxnfcollnJLu0Z8lcePo1tF+0LfSU/cbbQyaljRvg0KVaszwylVGaPdhnwiJAB9zLXM5HdXv7Wswf021SnN7O9dpJrd/K3CJ2N5pSszbPNSM7edYwvK7l3b8yM13r23JOT9yKXO5ggtjwelRy7e/O/6RrrBLGhOj2Y6D7hz+QgWVH4cYGfBOcbTTl68jHr0wzx0yk7klGyw/e9yp6MUddGax5hRW+vRn12r0dhYDkvOrQdx2gp492xd/V8p3+bLNF5RrJLD8xItr844wGoWj6Nhx8FBL5/B+unt43waVJMWV8ZSqnMHu0y4BEhQ5vg0XmWXG6Uv7X2MHoTu5pDjPZvOy+dZzp68kVeu4PNE/OXdv0je27becfudv63nY9ym6PILn0UmZw3fTl7duCXxdH5r5Ld3vc9dj5Ws+qwZmv2vjdawyiwrAaq0Tx43XvtHvM9MVigzqzrp5Bd8iMkq5dPY9ulByjoG6mOX/Ww1s9J40f4NCk+rE+LkuIlJXQUTyV/9K9isvyN5KXE88lHu6fpPAvZHeVvra2TDfX892oOcSd/y2QbLS7R53eweWL+0q5/ZM9tOy0+wuNexW5u99byeLKLT1GuAhb9yErr9FfejpFzGT1l9P4lZpIl0zFyvBGJYSZctGR5YrAY2YzF9V6ylO3NLr/VJVm9fBrZ5+hJM/8SM7Wx0MmpY0b4NClWWv6mHYeIbi+pauMqnvf2XNQ1lKuto5236z79vF0rnWcgu7P8rbV1+vXl1m5WP8Z8N3/LpP8Wl+jzO9g8MX/B9c/sGdtRXYuP0FiS2N3O/7bz48kuG4zEcfeCNL61kCqfnMud73tYOyOp3B7tRmuNSAw91us9xxODxchmLK63yRKdZyO7nNSRXFeHlk+jedC2MDmmAM6HhU5OHTPCp0mxYn1pl6O3EWgvbb2356KutbLh+UouoI2v1Xi4Tq5LciYreXjcWf7W2vqdN7Ft3/b8bv7G8mYo27VEn9/BBGPMyoumO3NFtJ3ZcyuPd+xu53/b+fFklw2GNtHsGAXp0b8omo1FzmWU6Gg6HvrYDjnlq4/pzGT1vjda/wivq7WNxpNc9167x3xPDBYSXWq16SXZ2cguJ3W092eHpk+jeUbBAGWQ6oF8F5F2wpbXQ9jTr6nSNfr/ln84/E1xhE+T4o86066TnXDcZeI0K3t7LuraSE76VVTaT089euvOQHbZjnr5G9r66CPMqz5ktHdxTqyv2AXZE63r7tfkruZCuTLUr+TF+0/MX3B9M3vGdhGxG+ef1Uk2Iu3kH3g95D/IR9I1+mrVCm+azelxb5Tf/LQ/szpIBgY/MsDXRiU/cWnXNGo/u04OBhM4Dtya39fFf3ZOSe/Mqc1k9b43knMUXIrs3tPQE4PFyGYsrvNexTIT2cWPMNP6Z4emT6N5MLCxn2zfdl3phL7G0fONiHdbJ1JMHyu8Gjvb/QifJsVgZjfe96Qye7TzXnuW+Xg/YxlNdq/yN7QH/rRL6zuwzZ16z0fN8re7eiRCwFj3iPzd8bD9nXV6tEXZrupPzF94zVf2zO2ojIjd+XXrowAAIABJREFUOH+vTl/j6OUAbMe9ktZx9VWr3lwR144mu6QcUgAt4uroKVHSrzfu3e97SB0OET8itq0jvvoecE/GqGujtUYkhlEYWM77xGAxshmL622yROeZyC7tdZKJ9gutf3Zo+jTpd35GOiGfiP8Dk+q0FnojQ/foj+p0DduhPq783GjuqOsRPk261pndeN+TyuzRznvtWebrJarRZPcqf0N7aHMi9JHYTlJfyd8keqQ3RBSfW7+s/V1wyRo920iw4TZPzF94bVf2zO2obG1EymNwDK5LYze3b0vqj//vl+q0FnrDS/foj+p0DduhT9G28VZGjfOjyS4pgN48kDJmB7VDxXCdrq8cREgxSeP63f+viwkgJdw8TlteJYEra7DqM3KyEYmh1Rojx31isBjZjMX1dm/ReSayS4SQ3jCQb6D1jw5tn4Z2xf6RSvy+LsnS0wm+jSYiK/GD9PHDXgI7e7vSmzvyWoRPk653ZDcR16Uye7SLWH+GOXFPcz2a7F7lb2wPo48w03Vuc6dcyd96OkQSQFgyrm2pTQTurNWjbQ+b0TWMM0T4nnRc2TOvNSp28/xY4ttoIrJtvMe2XKePMPfIevspMG6fpTya7EpB7C1yZ6ONkhyJYxn1paSbkj9K9tqEvMjuWlCT2sdJ7Z4YLCT7RqtNu7eykd12nSPb1PZpvfEoaWuPVj4i5UxayXfd+VoC9kW9nEJ4R778DgYtnlrnrd4iz7XWpDFOJA6Rc7cEjM6jye4VHqzv3j4jn8P375a98cj/zMZhWUd+kvCknJIS/hbrk8guPaikhwh3/oi8Sf/aj+9K+620I+Km/X1ptoOdsmdDO3ykNx7Z4NVBD2uYtJLd3sEK+6K9Zya8I5yO+M7ulTL5PiqD67TpVg9O7lYSNHS0NA69VaLvo/APLeBbEh6/yO48EI2C1Kp+d/qRg11xzNI+TwwWI/1ZXOc9hWWmN7vtmke2yH4Myx2fxkEPx+sFrlY+/kTKKoY9f0e6ufJ5rRwR5+jL0Z6K7H5bbYRuRnN+S/aeM9zXXD+F7OLe4jrlTCMdX11fyd/YUjBhJp9JGJLf5R/swTdljPMJZJd8Vg8XxntW8jqzltr4sy2slj2cPGJ3Ky9/GmHVD/RsndaWDW9eN+5d1MGQ7P6/3POQkpwQLozrpKiVg4DpbXyt5KyX/F2NvbIO7z7/10APd54mect8Zz5aR48wsL1R2bObE65d2d9VcnF1/w7Ou21RH1xvfdqVvNH36cFYz27Id6zIRolOb7ye3hF/9K07+xh/zIV1QuXV11NQloh6Zp+2YgdWfSJ0M5rTao3Zx+3t7/9v0V94rZV0iD4GfcNO/objcP0qQZeueSV/k47N7Ua2vXOdHrYzFnfLnm1luhb1SaGePrLYM8rxltg9jdc9o/+/expMfK3H5umz6asHGUlvI68mmuzAuFxxlqtr8ez3vwfOdGejecp/NZckWPTs5oRr1sHiClvN+xKfxnsxa9l7o0jflV2V9w55Rl3wR/bIx+4c5AN6eiESnPnI7NNWbcGiXyYdWqzvhDF7ceb/2fAZHmsmu7HI33q+5oo8S9e7kr9Jx+Z2VvuJ/PnVA/sedj3bynKN4uLqd7sZ79Wyp6cs9vzG2D2N1z3DXn3l3VO8x7XeGnaSKPq4QW8jr26Itt+Ks/TAcXeO3iYn3TyF7BI+V8GiZzfZr3kEi13butO/5w9an9buyWznPZuhf1W2Kuedf+vBWPcI6s5HsTj4on4o8cp8ZPZpq7Zg0S+TDi3Wd8KYPZ+x+tUDr/WS3aA/4Ppu/sbjYHllo9I1r+Rv0rG53ZWs3vdZLkmJPw5GH5uW9Dm1TU8PaHNc97bnt8buabxmZWDZJoY9hWa5hq/qcQ1XT/Fm8tNb4TZwaL75WnGWM3mz3JsaWhYhjeXQcNpPDBbGsH8Nj36A661P09CT1Rh33sJKZaAHGlKfxmCSD2X8sLz6OCD3b0vqh+NwPfPDsMw+Tap7j3atriPPPdabcY52f9N5drJrlb+xb+GSHrRdHVKdruRv0rG53ZWs3vdZLkn5xPxltO5WD1ns+a2xexqv2Rlg2SaGrUIznWu/LeAnIm3g6H23bbQBrq6vOMtMmI9kmRraqNPDrl/pXnL/icHCU83oy7je+jSJHqLa0IO11v/sPCG/831dWjMfo4/tt1hy+6sSf2Wc9ULlzoPJqzl372f2aVH22Zt3F2fN/j353nCt9RknkF2r/A39C9UlD+ikNrKSv0nH5naa+0FjLJZLUj4xfxmtu8U2iz2/NXZP43XrFOh8NZlpFe9x3pN/56N2/GSmDRzk4EYGf/f6irP0wHJ3jqmh7Q5+SP+7ttBr/8Rg4am+nk9ofVoP9yzXWt9D5zu/THr3TTHrin48qocl7fOVg31rOyYF5qxHZp+WxV5JjkxHJlw8Zen5jexvdltfQOca+Vs7ruSBmlRXK/mbdGxul2k/kSwsl6R8Yv4yWnerp9buouz5rbF7Gq97ymkTw1ahWc5Hr+opqVo9yNESJm3gGBn7yvUVZ7m6Hs9+U0PzFCRwrhV7aPs8MVh4qkTi01rMs5z3fAP5IiKsqzLe+b4uzYEHfaWjxXPVv9abXUR2v75qDxb99lejN4LF+k4Ys81Z6Dwz2SVf1/oWOl/1L2RBnL+140qsS6rjno/W/OQfyZHtkGJD7Z6Yv4zWj3qy5CMr9vzG2D3lIC2IdH4K2bX4DhgbCAYOze/r0qZZcZa4qbLWp4aWVWhluUZO8c71JwYLZZinw0l82h19eLalpAl9D9d3/q/rne/r0lrxoK918EezyDcSYV096Ec6erqp7+yuIWptl3/141dO6ZdOr/7o7XyWv56sFHN39pA11hrjs6/AMjPZJV+n7Q84f8NxyX9JDqkOVvI36djcTiKvZxuWS1I+MX8ZrRt1YMlHVuz5jbF7ykEQRK6fQnZ7C9v5dU/+vi7hgAFD+6ndirPETZW13tMHYZk5mdXGcuQU71x/YrDQxnk2HvsxLFufdkcfnm17/3LI8/u6tFarg3SAOqE6JaeZj8w+zcouiRSSzWEMvKq3eo08n8mqHcutdLAybm/dmcku+brWTrTyNxxX8n1d8kFSzFfyN+nY3C6bT2S5JOUT85fRulFPvVgRac8o2279lNjd0wH5gp84CDoFrreJ4S5QVv17T/FosasHfqcMAwc5t5Gxr1xfcZara/LsNzU0T0EC51qxh7bPE4OFp0rYj2HZ+rQW8yznvbewlBSuynf3+7o0j8WBDxJRLzv/ksFCznbMzD5t1Sau+tGbUYx/kjrqNLo+k1f7U1pXWHre7607M9klX9failb+huNKvq9L+16qq5X8TTo2t2v9UPQ5yyUpn5i/jNaNerHkIyv2jLLt1E+K3dN4jSByvU0Md4Cy7EtPTVhmLneSJ/y+BwaOkaGvXl9xlpY4ao09NTStSZKPs2oT2O+JwcJTbewLsGx9GuKdqd57o+b1/3UZBwtdnfgRZsIhs09jfVmU9IClZ4sYF7GOey26jnJhncgVEXkLvDKMiWvlemayS/bV2opW/objSv2ZVIcr+Zt0bG4nldmrHcslKZ+Yv4zWjfhb8pEVe0bZduonxe5pvEYQud4mhjtAWfZlebHc+U4ZPpnhYGHxJHjFWVriqDX21NC0Jkk+zsgp3rn+xGDhqTb0B1xvfdodfXi2Zb+DJdnDqgy9N8VXPk1bVyc9GW7XntmnrdqERb8Wt8hzi/WdMCb6DK5nJrskI/tnLrXyNx5P+n1dslepjlfyN+nY3C5y//TmZrkk5RPzl9G6ESu2OSwj7RllW62fFrun8RoVw/U2MVwFyrofy4vl6i/5tUrlYGHxHZ8VZ2mNpcb4U0PTmOCAMUZO8c71JwYLT9WhP+B669Pu6MOzLfsdLFd/ifnu/9fldWrrqvdkOPt3dRmDzD6N9ZWhZLwylBnwiJABfQbXTyO7Wvkb+33p93XJbqU6W8nfpGNzuwz7CGVguSTlE/OX0boRI7Y5LCPtGWVbrZ8Wu6fxGhXD9TYxXAXKul/vYwOr/7Ox/SU1Dhbk2EaGvnp9xVlaY6kx/tTQNCY4YIxVm8B+TwwWnqpjP4Zl69MQ70z13kdHVz96SQ/q2I9heeXTNHXV+3cMRHTp4eIJR2aflsluM+kyEy6esuAe53pmstv7GLNW/sa+X/p9XbJfqa5W8jfp2Nwu0366gw3J/8T8hfXSlqgnSz6yYs8o20r9xNg9jdcMIpZtYrgClEcfkhPlpvrKkxRKvFpD5WDRGrfG+Yqz9MBzd46poe0Ofkh/Dft4YrDwVF/rE+i89WkaerIYg5JT9j1crrzZnf2i7pXcmrrCr4aQHsjP0j+8P+XI7NOu9Oh5P5M+PdedaS72F1hmJrskW+urtfI3HveOXUp1uZK/Scfmdnfk9mjLcknKJ+Yvo3Uj9pZ8ZMWeUbaV+omxexqvGUQs28RwBSiPPr1X7Hc+tsIy8v+RRAwoYFx9t220Aa6urzhLljVzOTW0zIIrynale8n9JwYLRYgvh8J9zPXWp0n0ENGGfowKk1Wqr3yVgnxXO47Up10CLGzQ+lUiunfetAinMW2W2adF2OdoTlMl3Bx8JOPTr/f2e2ayS76O/TOXWvkbjXfn+7pkYlL7WMnfpGNzu5smb96c5ZKUT8xfRutG4C35yIo9o2x366fG7mm8ZieDZZsY3gXKq33vNftdB9czUMJiNckcbQq8vuIsvTDdmWdqaDsDH9QX9bxaf2Kw8FQh+jKutz5tVTfW/Xq+4e5Dtx5h5kRYQpw1dIW/bE86oKfEJ73RZQwy+zRrW7wzPuOVobwj95Pa8h7HMjPZJV/H/plLrfyNxrtLnKW20PPREr8qHZ/aZTvuyP7E/GW0ftSTJR9ZsWeU7U795Ng9jdfoGLme2UG2Rtd7g0Ef4Wvb9c5H32kjHMi4rN5C9DbFXcd8x3i12/awpGv07yrYhrCU6mM07uy69tp2x5vJKr33xGCxi+ud/pw4YZmZ7LZra5+q0jqk33ElP4LrbutWPg3X0D5ApPVI5cdxqC7dM1bt0Kchlqvradf3lHMr/FfGzYbpyhpW+mDM5Xqby2XDJpOvk2JeZHful63zl2w2jPJE27PUhkft2gflxK8s8/eRHKvXMV6zD6SS1tAlJ62DXJ3Yo99fdf4fIC14NjctnEGhH0no/XsOSmysjiK7c/3MdNfes9LR6ritfCvn1sFiRabdPqt4rvRDUsL1k8guvQFtf0OAnljODiJf/FST+rbft2EcZmNo3GuJLj0l3jl27W63P8cJCpiMIZVFdr+1uouzZv9vyeLPNNc2GwuTO663uVw8Gt8SZPJ1M2zxXpHdef5mnb98W1Cus2h7Rju9W2+J7j9f8Ki743u0x3jNPpDKR5BdApCcT/srpvREgq4jwESMSaHclkhujywTOPSExuoosvutF9TR3bqVjlbHvSt/r711sOjNaX1tFc+VfkhKuH4S2aU1k49oCS/5pPbNLAVXIpjclj8uzOe8fiotfRrJ3BLdnf8xyHq3tsur8TF4IpZFdllDP5dXOHre/5Ys/sxr7ZjccT072SXtZPF1Uj0V2Z3nb9b5S/yOnksQac9SG27btUSXdNi2OeEc4zX7QCofQ3ZJCfi2FhdJ9d6bW/6OBZHdtj2dW36smDYDJk5Ut5xvvjXv3x0Z/czQRn12r9+X3rbH7nqov3Ww0JDx7hi2qH+P3u4tOj+N7NKK8G1tu6bem1v2IUSA2/Z0zve/0dI5Q6JLRLsl5auz3LUz7fbo0xDTIrvfGtXGfWe8b8niz3bWcqdvL485geyShjL4OinWRXbnRMg6f4nf0dcSRNmz1IaxHRJdehHYviTEttnrGK/RHz6K7LISiLwSkaU3u/wGlxZNhJeutU8scGMiOJQwWh1FdufOknUpKa10tDquROarNmiTZMNX7U+4v4rnSj8kJVw/kezy2skXEVGlN7P4xpYIL11r36DSOa8bSyufhkSXcNYkgtG2jcETsdRcI+v55DJaTzh/NhxRNss65i9cP4Xsss4ifZ1UN0V25zmJdf7CtnJC6W3PUhvmdkh0yVcQKeR7J5YYr9kHUvlIsntXQUSAERSqEzG2PIrs6m0oSz2tjH3X/nrtrYNFb07raytYrvZBUsL1k8nuXRyIAPO6uSRibHEg0b37MWki5fSd3hkJt7bLq/ExeDKWVBbZ/bamKxw9739LFn/mtfY2j6Hz08juXW1p+jqpnorszvM36/zlro2c1H7XnqU2TO2Q6BIPutOXdEzf6aWXi3f6WbfFeI3+8PVklwBAQLhOb4YtjyK7ehvEUk8rY2tsZutgoSHj3TFWsFztg6SE628hu0TCeM1YWnyEGYnuyg9R8Uexi+yuWnqefnf9gWX7PKj8LInlWnFszl+wfDLZ1fZ1iOWsXmR3nr9Z5y/Z9reWPBr2PLNbvIdEd+WHqPiroUV2k7F9VDLWcVNigCAFWh5FdufOEnV0VbfU08rYV/JK7qNd1seY72sBSR7X30J2vT7CjER3lUizbmYaluwXyzb4pJjlpbLe7H5rzVIHd8f+liz+7K78q+0xh+H6k8mutq+T4l5kd56/Wecv8TvaRgINe5bYMBJd/u0iST9sw/4Fr2WoY7xmGak89s0uCf43P/52AOanEwgKP+WwMeefRy2yO3eWd3RqqaeVse/IPmprHSxG81peX8FytQ+SEq5nJ7tEnn7342913dSP35byuqlcees6kwGJ7u9nDSf32Adefbza0iYlY2PwREyL7H4rV4KlV5tvyeLPvNaNeQzXM5LdrL5Oqqciu/P87Q/wiUmLh/XxO/pbgkz2fGXDSHRJT1fte/fZ/ok/9e5HXsN4zT6QyuPILgncLoYAp+t3ASayjGBwnV/Lf5uz7hknepg8rb4d0ZVMNtoI61Y3jOmKfkZztNdlEvu1auVbObcOFisy7fbx00D/Y7xZyS7tDf7/uOwPiACukCkiyzwGlrOPCd/VCxPd3V9c5nGu/n/wrt3t9kefhpiu6Ocu1ie138VZs3823DTXNhuL4y2Wmcgu7ZnMvm6GLd7jZB9xXn1DhuNi/WQbRnxa+8M1rtazYJPRnmeYMtGlBxCko1nb2T0eh2LjrF3EPYzXuD8pz+oSPgsD1Vh478ekaEH8NvbOHLRGBKMdx3JDFdnV2ySWeloZ+44NjtpaB4vRvJbXV7Bc7YOkhOtZyS75NJYRy5W3sbRGHIPqK+OMcGeCSmR8lUBTPyTlVw/5LG1SMjYGT8S2yO63lUiw9GrzLVn8mde623yGzttcLhKN3o/vrPooC18n1RPGZ8a8yO53TkdxjUjV6tvDmS4ibRjnzmjPI9yYoNLLQX6hN2o7uk798CWhts2P5r1zHeM1700qjyK7+NFOXATVW4d+BU5vrPaVPBq1dh2TPU6grpI+bRl2xhvhOzO0UZ/d6zvrsOi7ux7ubxkseA7P0gLr0Zi8p7DMSHbZD6GcXG/lHa2Vr/e+73P1EWHuKymZ6LJ8WuXVx6A9bbQ3F/o0XHOR3W+r6WEXde1bsvgzLxzavKiXG0Wh0fNPvJ+y+DqpnjDhZ8y1E/8oPY3mlWLj0W4ko+f1rPbcw5+JLtuqVmnxIKMn/51rGK9xnUeR3dFbXVoQ3ZMCQoumJ04IBNXb1/qWG6e3UTTfwFjKTmOPsJ4Z2qjP7nXrtd4df3c9T+1/F8ed9pxEYdkmVBlwZp+GcnKdnhpLDyJe+P93eQz6BInGYUV0Sc6rN8TRekKfxrhSWWT327Ki9YTzf0sWf4ayWdbbnIbO2xcBUWiM3oLRXsri66S64YeUiPfKpwtn80XpaTTvTFbveyMZPa9ntedWF1ZEl2x/9Q1xK6PmOcZr3J9HkV1684rCY/3OE4YeGOS8WsC1Nw4lR5R80hvcXmJKTp+SSmqTPZFqseLzHrakJzI0bqNdautpdzzt9T1lvF1c7/RHUsL1jGSXfRrLiOXVG0/Eo/0eHI1DD9Q0DkuiS3JeHdH2jz4N9ZPdR1/hqn0/Wk84v/badsdD2SzrmBNxPQvZpU+Z4P7BehZfN9MN5TD0QoTe4PZelhDeRCyojUa+s2tz2v1n2Hjf017bynhZ7Rl1YUl0yd5xrix1jNfsA6k8iuyS00bhuX7niRo5Ku7H5ejjJysbgPv0PqaMzn2lnuljziPDnhnaqM/udcY8S7m7nqf299RPb39lJLvs01p573zKg/xC21/LV/R+W6Cda+dc8jHr6P2APg3XWmT3e0dH6wnn/5Ys/gxls6xzToNlFrJL/hf3D9ez+DqyEtZN72PKiOlKfZRn8pxtGW+13xK08kWef0sWc5bVnlkvve+Vr9jtqE/7tU+eN7rEeI2yH0V220UQ2HccSO+jJ7P+O1uoyO73QwWNJ52jTbSjJ4u+Iznfft0C69GYnEhhmZHssk9jOYn83SGqva9D3Ok/wo+v0xsXls2ivPolZpIjet+wjihwIgZFdtlKfi6j9YTzf0sWf4ayWdYxueN6FrLbfvokm68jK2HdFNn99Z5hbDKUv5bO/0pWe2b94H/0YF+gWVJc5LkylRivcb0/kV0M4FxvE0MvU5qBxg6IPkIya9e713ud3/voMvb1WrN0HpQta31maFll1pZLqs+3tdPGeTYeOjmuZ0n6UO/8UMzLp80wq3v9uFI+rY9Lay9o19H1Vrbocy88OH/Dss3lorDwzt9W1umlJ8k8K/Jb9pHI7NXGcp3SsU+wZ+larNp52QPO0z6EYF/408NpPsGydZA4mGX9CnT+QRfpD1LRF6i5Dye99EZY8sVqy3WujH2FTYb7lRiuaPYdfTztk/c6lhnJLmmefuiC5PTwaZ46eMpc5dOK7O7aspeHxxyO620ut7uWnf6ci2X1dV56ksyzg7NFX4nMXm0s1rcyZnZ7XlmTZh8ve8B5HkN26VU0Ja2UHNLbEPoYcktc6Zxe4bMhYsI7+9hyq2QEMEO9lS/jeSWGGSwlpwye9op7nutZyS49cfTyaZ46eMpc5dOK7O7aspdHZoKLZSay65m/rejMS0+SeVbkt+wjkdmrjeU674yd3Z7vrMWirZc94DyPIbusEPpRKk5iuRz9Qh5dp48xk2Fyf0mJAGaoS2SOblOJYQZLySmDp22yT8AyK9klbRE2Hj7NUwdPmat8mixuZvI62WzPCxskuVzPRHZZL1l9nZeeJPMwVllKicxebbJgwnJktWeWL6r0sgec53Fkl5RH5JXe1NIbXCS69DFlusY/A7+qaAQwQ311HZ79KjHMYCk5ZfC0QyS5XM9Odgkfa5/mqYOnzFU+rcjuri17eWQmuFhmJLtZfZ2XniTz7Nqcdn+JzF5ttNemMV7F7l/HCS97wHkeSXY1DHQ2BgKYoT6TNcu9SgwzWEpOGTxtlAkulieQXU+Maq5fB+ceJuXTZDhl8jo9PUZe88IGSS7Xs5LdSH2M5vbSk2SekYxR1yUye7WJwqDmlcUCxsnLHnCeIrs3P8JMysp2sAFlLisxzGY1eeTxtFskuVwvsnsvUHnqK/Nc5dNkdpPH08jk9bQ5L2yY4GJZZFduD156kszjaZ+SuSQye7WRyFtt5HZvhZWXPeA8RXaL7N76vvKq8VdiiNuu6ojAqk2t9GOCi2WR3fjgt6LL6D7l02R2g3s9uh5tM+38XnggyeV6kV2Z/ZLOMh2tDUWfFzZyO4rWVZb5I2ymyG6R3SK7Czaw4jQiNvgJc65gudoHSS7Xi+xWsF6xpyK7MrvJ5INW9GzZxwsbJrhYFtmV2S/pP9NhaY8rYxc2cjtawfeJfSJspsjuAtGJUNRszhM2QyWGMw2++56n/TLBxbLIbgXrFRssnyazm0zebUXPln28sEGSy/UiuzL7Jf1nOiztcWXswkZuRyv4PrFPhM0U2S2yW292F2xgxQFFbPAT5lzBcrUPklyuF9mtYL1iT0V2ZXaTyQet6Nmyjxc2THCxLLIrs1/Sf6bD0h5Xxi5s5Ha0gu8T+0TYTJHdBaIToajZnCdshkoMZxp89z1P+2WCi2WR3QrWKzZYPk1mN5m824qeLft4YYMkl+tFdmX2S/rPdFja48rYhY3cjlbwfWKfCJspsltkt97sLtjAigOK2OAnzLmC5WofJLlcL7JbwXrFnorsyuwmkw9a0bNlHy9smOBiWWRXZr+k/0yHpT2ujF3YyO1oBd8n9omwmSK7C0QnQlGzOU/YDJUYzjT47nue9ssEF8siuxWsV2ywfJrMbjJ5txU9W/bxwgZJLteL7Mrsl/Sf6bC0x5WxCxu5Ha3g+8Q+ETZTZLfIbr3ZXbCBFQcUscFPmHMFy9U+SHK5XmS3gvWKPRXZldlNJh+0omfLPl7YMMHFssiuzH5J/5kOS3tcGbuwkdvRCr5P7BNhM0V2F4hOhKJmc56wGSoxnGnw3fc87ZcJLpZFditYr9hg+TSZ3WTybit6tuzjhQ2SXK4X2ZXZL+k/02FpjytjFzZyO1rB94l9ImymyG6R3Xqzu2ADKw4oYoOfMOcKlqt9kORyvchuBesVeyqyK7ObTD5oRc+WfbywYYKLZZFdmf2S/jMdlva4MnZhI7ejFXyf2CfCZorsLhCdCEXN5sy0GUZyTg1t1KmuvwIBT/tlgotlkV15sH6FQQoXiT4N7em3CzHFcw/UXHJ7fwpWaJ9cz+z3hFuwmiVA4Cl7RHsdCVTzJYL2+nbG+xLM6QTjNT70+w3Njxe43j4NdJLT5e2jVHlea5bOI5Xbo91I5qmhjTrV9Vcg4GGXPAcnelhmTvpY7izlKwxSuEj0aWhPRXbfRyaz7M+RHGifXM/s94RbsJolQGBkc2+/nkA1XyJk0seXYE4nGK+Zz1JZZHfydN5JN+JpTjDiqaGJV1oNn4iAp/1yoodl5qTPExvJXE+0v9U1oU9DeyqyW2RXspc826B9cj2z31vdk9XPHwFPOz5pLn9NzGfMhN1cUpvnZMLRAAAgAElEQVS7GK+L7E4ILhqKjSrWR0XZouujVUwNbdSprr8CAU+b5UQPy8xJnyc2krleYZDCRaJPQ3sqsltkV7KXPNugfXI9s98TbsFqlgABTzs+aa4EqvkSIRN2X4I5nWC8LrJbZHf74+Iju50a2qhTXX8FAp5OmBM9LDMnfZ7YSOZ6hUEKF4k+De2pyG6RXcle8myD9sn1zH5PuAWrWQIEPO34pLkSqOZLhEzYfQnmdILxushukd0iu04br6b5BQFPJ8yJHpaZkz5PbCRz/aK1qmHwRHsqsltkV7KXPNugfXI9s98r73IOAp52fNJc2TSYCbsIbDBeF9ktsltkN2IXvnxOTyfMiR6WmZM+T2wkc73cVL+Wj8ET7anIbpFdyV7ybIP2yfXMfu9ro9VJagQ87fikubIpLRN2EdhgvC6yW2S3yG7ELnz5nJ5OmBM9LDMnfZ7YSOZ6ual+LR+DJ9pTkd0iu5K95NkG7ZPrmf3e10ark9QIeNrxSXNlU1om7CKwwXhdZLfIbpHdiF348jk9nTAnelhmTvo8sZHM9XJT/Vo+Bk+0pyK7RXYle8mzDdon1zP7va+NViepEfC045Pmyqa0TNhFYIPxushukd0iuxG78OVzejphTvSwzJz0eWIjmevlpvq1fAyeaE9FdovsSvaSZxu0T65n9ntfG61OUiPgaccnzZVNaZmwi8AG43WR3SK7RXYjduHL5/R0wpzoYZk56fPERjLXy031a/kYPNGeiuwW2ZXsJc82aJ9cz+z3vjZanaRGwNOOT5orm9IyYReBDcbrIrtFdovsRuzCl8/p6YQ50cMyc9LniY1krpeb6tfyMXiiPRXZLbIr2UuebdA+uZ7Z731ttDpJjYCnHZ80VzalZcIuAhuM10V2i+wW2Y3YhS+f09MJc6KHZeakzxMbyVwvN9Wv5WPwRHsqsltkV7KXPNugfXI9s9/72mh1khoBTzs+aa5sSsuEXQQ2GK+L7BbZLbIbsQtfPqenE+ZED8vMSZ8nNpK5Xm6qX8vH4In2VGS3yK5kL3m2Qfvkema/97XR6iQ1Ap52fNJc2ZSWCbsIbDBeF9ktsltkN2IXvnxOTyfMiR6WmZM+T2wkc73cVL+Wj8ET7anIbpFdyV7ybIP2yfXMfu9ro9VJagQ87fikubIpLRN2EdhgvC6yW2S3yG7ELnz5nJ5OmBM9LDMnfZ7YSOZ6ual+LR+DJ9pTkd0iu5K95NkG7ZPrmf3e10ark9QIeNrxSXNlU1om7CKwwXj9K7LLThHL1kFmArBkyZtk/K/P54N2xHXLxDBiQ83mLPvs2+cMM+176OS4/m/akzx4vLLhX2wYfRrbEpW/ebD+V5ZWNvOLzbRYrOC50gftk+vZ/V6LVZ3/bEcr+rfsk0kvluu8O3YmXEiWTEcENhivmX9QSRykS06K7I4DV4QCT5lzZmhWa8i0uUkWq3WePq6nnjjRwzJ70ueJz9Vcp9uapvzo09Ceiux+W5Em5k8b6xspuzO0T65n93tP07XWeuysZG1krXVpjLO2ApteGuvRHMNmlWujaq5LOhbG6yK7RUjMCNnM0KTGerfd2ja063VX/re0t0P81yNzoodl9qTv16uIu/IWm5SsE30a2lOR3W/7lGD51jbfSNmdoX1yPbvfe6tNXK3bzkrWRr6S1/P+2gpsenmuWzKXzSrXRpXIq90G43WR3SK7RXbX9q6ol/bmfcp4IvCUGnGih2X2pE9p6SrDPMXmNNaBwRPtqcjut6lpYP3UMb6RsjtD++R6dr/3VJ3vrsvOStZG3l2PZv+1Fdj00lyXxlg2q1wbVWM9d8fAeF1kt8hukd21vSvqdXdzvqW9CDylRpzoYZk96VNausowb7FJyToxeKI9Fdn9NjUJlm9t842U3RnaJ9ez+7232sTVuu2sZG3kK3k976+twKaX57olc9mscm1UibzabTBeF9ktsltkd23vinppb96njCcCT6kRJ3pYZk/6lJauMsxTbE5jHRg80Z6K7H6bmgbWTx3jGym7M7RPrmf3e0/V+e667KxkbeTd9Wj2X1uBTS/NdWmMZbPKtVE11nN3DIzXRXaL7BbZXdu7ol53N+db2ovAU2rEiR6W2ZM+paWrDPMWm5SsE4Mn2lOR3W9Tk2D51jbfSNmdoX1yPbvfe6tNXK3bzkrWRr6S1/P+2gpsenmuWzKXzSrXRpXIq90G43WR3SK7RXbX9q6ol/bmfcp4IvCUGnGih2X2pE9p6SrDPMXmNNaBwRPtqcjut6lpYP3UMb6RsjtD++R6dr/3VJ3vrsvOStZG3l2PZv+1Fdj00lyXxlg2q1wbVWM9d8fAeF1kt8hukd21vSvqdXdzvqW9CDylRpzoYZk96VNausowb7FJyToxeKI9Fdn9NjUJlm9t842U3RnaJ9ez+7232sTVuu2sZG3kK3k976+twKaX57olc9mscm1UibzabTBeF9ktsltkd23vinppb96njCcCT6kRJ3pYZk/6lJauMsxTbE5jHRg80Z6K7H6bmgbWTx3jGym7M7RPrmf3e0/V+e667KxkbeTd9Wj2X1uBTS/NdWmMZbPKtVE11nN3DIzXRXaL7BbZXdu7ol53N+db2ovAU2rEiR6W2ZM+paWrDPMWm5SsE4Mn2lOR3W9Tk2D51jbfSNmdoX1yPbvfe6tNXK3bzkrWRr6S1/P+2gpsenmuWzKXzSrXRpXIq90G43WR3SK7RXbX9q6ol/bmfcp4IvCUGnGih2X2pE9p6SrDPMXmNNaBwRPtqcjut6lpYP3UMb6RsjtD++R6dr/3VJ3vrsvOStZG3l2PZv+1Fdj00lyXxlg2q1wbVWM9d8fAeF1kt8hukd21vSvqdXdzvqW9CDylRpzoYZk96VNausowb7FJyToxeKI9Fdn9NjUJlm9t842U3RnaJ9ez+7232sTVuu2sZG3kK3k976+twKaX57olc9mscm1UibzabTBeF9ktsltkd23vinppb96njCcCT6kRJ3pYZk/6lJauMsxTbE5jHRg80Z6K7H6bmgbWTx3jGym7M7RPrmf3e0/V+e667KxkbeTd9Wj2X1uBTS/NdWmMZbPKtVE11nN3DIzXRXaL7BbZXdu7ol53N+db2ovAU2rEiR6W2ZM+paWrDPMWm5SsE4Mn2lOR3W9Tk2D51jbfSNmdoX1yPbvfe6tNXK3bzkrWRr6S1/P+2gpsenmuWzKXzSrXRpXIq90G43WR3SK7RXbX9q6ol/bmfcp4IvCUGnGih2X2pE9p6SrDPMXmNNaBwRPtqcjut6lpYP3UMb6RsjtD++R6dr/3VJ3vrsvOStZG3l2PZv+1Fdj00lyXxlg2q1wbVWM9d8fAeF1kt8hukd21vSvqdXdzvqW9CDylRpzoYZk96VNausowb7FJyToxeKI9Fdn9NjUJlm9t842U3RnaJ9ez+7232sTVuu2sZG3kK3k976+twKaX57olc9mscm1UibzabTBe/4rsslPEMspBai98Z7w19dr12lmLdt/RKv/n5/NBO+K6ZWKovbbd8UbYRFzfXYtmf8/1s91hGeXTJOvWxPlpY0nws2wT4dOk68mka6nM1c4OAfR3XG/9XiabySaLnWbuj1zYjDHLhk0mecao+d+JwKXI7sLbXH/TmM8YYTijOUeSRiSGIxmjro+wibgehUFvXs/1c6KHZZv0ecpzNVcPr7r2+ekTKFfYWd+P8GnSNWWyEanM1c4OAfR3XG/9XiabySaLnWbuj1zYjDHLhk0mecao+d+JwKXIbpFd1Y8uj7ZNRGIYsaFmc46wibg+k9P7nuf6OdHDsk36POW5mstbFyfNd4Wd9f0InyZdUyY9SmWudnYIoL/jeuv3MtlMNlnsNHN/5MJmjFk2bDLJM0bN/04ELkV2i+wW2V2wgZXN6u9SxjOuyG/VZyyl/h1O9LBskz79WddHtML8CeOuo6rTs8juz2/Yr2xJB+0aZQcB9Hdcb/3elR7ffH8He+2+2fSgvb6d8bJhk0meHVy1+0bgUmR3gehoK353vAjDGc05WktEYjiSMer6CJuI61EY9Ob1XD8neli2SZ+nPFdz9fCqa/Ux5pPs5krWum+PAPo7rrd+r/zK+OGNvYbkM2TTk1xy+5bZsMkkjz368hkicCmyW2S33uwu2MDKZpW7AvuWK/Jb9bFf7S8zcKKHZZv0/dI6vmaF+RPGjdZOxAM86Zoz6Vcqc7WzQwD9Hddbv5fJZrLJYqeZ+yMXNmPMsmGTSZ4xav53InApsrtAdPxNYz5jhOGM5hxJGpEYjmSMuj7CJuJ6FAa9eT3Xz4kelm3S5ynP1Vw9vOpavdk9yW6uZK379gigv+N66/fKr9Sb3RUbsLde+Qwr8r+ljxxF+5YRmBfZLbJbb3YXbGBls9q7EPkMK/Jb9ZFLvd+SEz0s26Rvfxa9Eawwf8K4eiivjRTxAE8qaSb9SmWudnYIoL/jeuv3MtlMNlnsNHN/5MJmjFk2bDLJM0bN/04ELkV2F4iOv2nMZ4wwnNGcI0kjEsORjFHXR9hEXI/CoDev5/o50cOyTfo85bmaq4dXXas3uyfZzZWsdd8eAfR3XG/9XvmVerO7YgP21iufYUX+t/SRo2jfMgLzIrtFduvN7oINrGxWexcin2FFfqs+cqn3W3Kih2Wb9O3PojeCFeZPGFcP5bWRIh7gSSXNpF+pzNXODgH0d1xv/V4mm8kmi51m7o9c2Iwxy4ZNJnnGqPnficClyO4C0fE3jfmMEYYzmnMkaURiOJIx6voIm4jrURj05vVcPyd6WLZJn6c8V3P18Kpr9Wb3JLu5krXu2yOA/o7rrd8rv1JvdldswN565TOsyP+WPnIU7VtGYF5kt8huvdldsIGVzWrvQuQzrMhv1Ucu9X5LTvSwbJO+/Vn0RrDC/Anj6qG8NlLEAzyppJn0K5W52tkhgP6O663fy2Qz2WSx08z9kQubMWbZsMkkzxg1/zsRuBTZXSA6/qYxnzHCcEZzjiSNSAxHMkZdH2ETcT0Kg968nuvnRA/LNunzlOdqrh5eda3e7J5kN1ey1n17BNDfcb31e+VX6s3uig3YW698hhX539JHjqJ9ywjMi+wW2a03uws2sLJZ7V2IfIYV+a36yKXeb8mJHpZt0rc/i94IVpg/YVw9lNdGiniAJ5U0k36lMlc7OwTQ33G99XuZbCabLHaauT9yYTPGLBs2meQZo+Z/JwKXIrsLRMffNOYzRhjOaM6RpBGJ4UjGqOsjbCKuR2HQm9dz/ZzoYdkmfZ7yXM3Vw6uu1Zvdk+zmSta6b48A+juut36v/Eq92V2xAXvrlc+wIv9b+shRtG8ZgXmR3SK79WZ3wQZWNqu9C5HPsCK/VR+51PstOdHDsk369mfRG8EK8yeMq4fy2kgRD/CkkmbSr1TmameHAPo7rrd+L5PNZJPFTjP3Ry5sxphlwyaTPGPU/O9E4FJkd4Ho+JvGfMYIwxnNOZI0IjEcyRh1fYRNxPUoDHrzeq6fEz0s26TPU56ruXp41bV6s3uS3VzJWvftEUB/x/XW75VfqTe7KzZgb73yGVbkf0sfOYr2LSMwn5Ld//p8Pu3fnxbIocbC7OGXz6CxHs0x5JLbtxyta2Zooz51fRx8C5s1bFp/RuetT7PfJfIZSs9jPctRtGkZ8QDPZiW2o5YNx9swE1wsW7JrawX3Ry+76dvNfSTf06Nspm8zhMvbj2m8liSGXsaVSVFea5bOcwI2RXbHTkiq52q3j6HEp52wn8oW4rU0DZ7x4qWRoGx17Le8lIQkl+tFdsd6yWyzXjZz4jyZ9RYt24n61JR5Gq8liaGXAjUXvTuW15ql8+yuR7P/SOYiu2cG1pE+T70u8Wma+2F3rFNx9pB7F9vd/tPguTv4g/p72MKpc3ipmQkulkV2z4zJXjZz4jyn+gEPuU/Up6bM03gtSQw9lERzZDq81iyd5wRsiuyeGVilNnhKO4lPO2E/nYK3pZzRepoGz2jhEs1vaQOnj+2lJiS5XC+ye2ZM9rKZE+c53R9Yyn+iPjVlnsZrSWJoqRwcW3PRu2OhXBnqu+vR7D/Co8jumYF1pM9Tr0t8muZ+2B3rVJw95N7Fdrf/NHjuDv6g/h62cOocXmpmgotlkd0zY7KXzZw4z6l+wEPuE/WpKfM0XksSQw8l0RyZDq81S+c5AZsiu2cGVqkNntJO4tNO2E+n4G0pZ7SepsEzWrhE81vawOlje6kJSS7Xi+yeGZO9bObEeU73B5byn6hPTZmn8VqSGFoqB8fWXPTuWChXhvruejT7j/AosntmYB3p89TrEp+muR92xzoVZw+5d7Hd7T8NnruDP6i/hy2cOoeXmpngYllk98yY7GUzJ85zqh/wkPtEfWrKPI3XksTQQ0k0R6bDa83SeU7ApsjumYFVaoOntJP4tBP20yl4W8oZradp8IwWLtH8ljZw+theakKSy/Uiu2fGZC+bOXGe0/2Bpfwn6lNT5mm8liSGlsrBsTUXvTsWypWhvrsezf4jPIrsnhlYR/o89brEp2nuh92xTsXZQ+5dbHf7T4Pn7uAP6u9hC6fO4aVmJrhYFtk9MyZ72cyJ85zqBzzkPlGfmjJP47UkMfRQEs2R6fBas3SeE7ApsntmYJXa4CntJD7thP10Ct6WckbraRo8o4VLNL+lDZw+tpeakORyvcjumTHZy2ZOnOd0f2Ap/4n61JR5Gq8liaGlcnBszUXvjoVyZajvrkez/wiPIrtnBtaRPk+9LvFpmvthd6xTcfaQexfb3f7T4Lk7+IP6e9jCqXN4qZkJLpZFds+MyV42c+I8p/oBD7lP1KemzNN4LUkMPZREc2Q6vNYsnecEbIrsnhlYpTZ4SjuJTzthP52Ct6Wc0XqaBs9o4RLNb2kDp4/tpSYkuVwvsntmTPaymRPnOd0fWMp/oj41ZZ7Ga0liaKkcHJsX/bvP50NC//uP8vd8w7FEuaj+N5/Ph8jcf/wo//DxdaK9pUfh1GLD50V2fW2Cca/yG3eJT+vtJ8trs70apb9on9ZbdytThO9HO5gGT2z48npPl3XtZ7/kZRpMcLEssvsdG06xSanNzOKKdAzNdh7y3NVhG1O8c/e78u6019TliWNN47UkMdwB/05fAvePn88HnTXX/8kZeZT7Hz+fTw+nf3YkvO3yI3FCbLBeZPfMwIo6fEK9t1f/1OzVdj9Znl/t1QjMM/i0dt09mcj/e/t+tIVp8MSGL6+3uqzzX2KBl2lwroRlkd1f9HCSTUps5iquSMbQbOMlzx099mIK5QeeufsdeXfbaurzxLGm8VqSGO4qQNqfngqho27rnk/5WWZ6KtTDiK95PSVCw4vGibFpyyK7ZwbWVo+nn/PexDKK7Er2qjfeWXwarnskE8cAT9+PvnYaPLHhy+uoy6p/xwEv0+C9gmWR3W9dnGKbVzYjiStXY2je95RHqsNRTOG8wCt3l8qr0U5TpyeONY3XrHgs28RQQwmSMUaCsvP+F0f0Wd4RgWO8/rV5Y8T9tEtcejROo7WNsPqtE0Yjuer6mQF/VW+8N7FsfRruJ8u6ZK+urnO132ifMl5ePg3lH8kU4fvRHkb6+w02qvoHdVn1b3/rZR68V7Assvuti1Ns88pmRn6Jde+ZK5OsnvJIdTiKKZFxTir7arsru3n6/ZEd/hSvWfFYtonhKvB3+9F3dHmz9kq673Ww7PQdXcSmrdN9bmtZ4roz4YRyTQ0NGyrWLTGvsfVsW1Hll0P1fEdU0pdxr17J5OXTcH+N/Czr0tP3o4FF+DScf1ZH/Kr+i6+aYfbke7xXsGz9XtnJL3ZyMhYjf8n5qbYPv9o3VzFF039L9eaB0RUu3vel2Dy13egBB71w6xK5KLI7SizYeXs+rWJjGIHHTsXrLQhumkw4SeSyfAvCeqoydxBHO7Gus7/Ask36rGXg8TPu1SuZvHwa7tmRn2Udevp+1h2VI6wsfRrOP6sjflX/xf/NMHvyPd4rWLZ+r+zkFzs5GYuRv7TKS6/2zchPsi1q+m+p3jwwusLF+74Um6e2G+k8Hdml72Xx5uiVf+toOWwM9Ll+diC98u8C3uxmwglVMnJ4lokh66nK3EEc7cS63vMdbdJnLQOPn3GvXsnk5dNwz478LOvS0/ez7qiM8Gk4/6yO+FX9F/83w+zJ93ivYNn6vbKTX+zkZCxG/pJzVG0ffrVvrmKKpv+W6s0DoytcvO9LsXlqu2PILhnGKLnQfDIkMUA0hhGAnm9AWpmz4IRyjWQqsvuMAIt74m4d7cS6jske19ukz1oGHH+0L7x9mlSmu7rVat/zs6S/jDhZ+jTU06yuhfvTxplh9uR77OuwbP3e03T95vX0/CWRXYu8VLJvvOLcHZ1bYyTBxbPNHWye2Hak73Rvdtko6CkQOWly2lT+Pd9wLFtDoCdl9PFuciZU/oPTG12Wo7f0DDihXCNnZ5kYMj5V5ibUaCfWdUz2uN4mfdYytONn26sk30imyL3U+tkI34+6i/BpOP+sHqmnzHPPMHvyPfZ1WLZ+L7PeSrb7Mbz1l1Z5qXTfjGKKtL+k3V07scRIIq9nm7vYPK39cWTX0zhGc2UzgpGcma5HJIbZ9FTy9AO2p51issf1NunzlOe0uTLZcDR2ET5NuuZMesokixS/p7VjX4dl6/cy6alk6cfKjLhk2iuZ8MmEC8mSCZsIWYrsLlhkhKJmcy4swb1LRGI4w6zu5XF+nsaIyR7X26TPU57T5sq0b6Kxi/Bp0jVn0lMmWaT4Pa0d+zosW7+XSU8lS574fKWLTHvlSlbP+5lwIVk8155xriK7CxaZTZELS3DvEpEYZtNTydN3uJ7GiMke19ukz1Oe0+bKZMPR2EX4NOmaM+kpkyxS/J7Wjn0dlq3fy6SnkqUfKzPikmmvZMInEy4kSyZsImQpsrtgkRGKms25sAT3LhGJ4QyzupfH+XkaIyZ7XG+TPk95Tpsr076Jxi7Cp0nXnElPmWSR4ve0duzrsGz9XiY9lSx54vOVLjLtlStZPe9nwoVk8Vx7xrmK7C5YZDZFLizBvUtEYphNTyVP3+F6GiMme1xvkz5PeU6bK5MNR2MX4dOka86kp0yySPF7Wjv2dVi2fi+TnkqWfqzMiEumvZIJn0y4kCyZsImQpcjugkVGKGo258IS3LtEJIYzzOpeHufnaYyY7HG9Tfo85Tltrkz7Jhq7CJ8mXXMmPWWSRYrf09qxr8Oy9XuZ9FSy5InPV7rItFeuZPW8nwkXksVz7RnnKrK7YJHZFLmwBPcuEYlhNj2VPH2H62mMmOxxvU36POU5ba5MNhyNXYRPk645k54yySLF72nt2Ndh2fq9THoqWfqxMiMumfZKJnwy4UKyZMImQpYiuwsWGaGo2ZwLS3DvEpEYzjCre3mcn6cxYrLH9Tbp85TntLky7Zto7CJ8mnTNmfSUSRYpfk9rx74Oy9bvZdJTyZInPl/pItNeuZLV834mXEgWz7VnnKvI7oJFZlPkwhLcu0Qkhtn0VPL0Ha6nMWKyx/U26fOU57S5MtlwNHYRPk265kx6yiSLFL+ntWNfh2Xr9zLpqWTpx8qMuGTaK5nwyYQLyZIJmwhZiuwuWGSEomZzLizBvUtEYjjDrO7lcX6exojJHtfbpM9TntPmyrRvorGL8GnSNWfSUyZZpPg9rR37Oixbv5dJTyVLnvh8pYtMe+VKVs/7mXAhWTzXnnGuIrsLFplNkQtLcO8SkRhm01PJ03e4nsaIyR7X26TPU57T5spkw9HYRfg06Zoz6SmTLFL8ntaOfR2Wrd/LpKeSpR8rM+KSaa9kwicTLiRLJmwiZCmyu2CREYqazbmwBPcuEYnhDLO6l8f5eRojJntcb5M+T3lOmyvTvonGLsKnSdecSU+ZZJHi97R27OuwbP1eJj2VLHni85UuMu2VK1k972fChWTxXHvGuaZkFx0j11sHmU2hJU9OBCISw2wbLqdm3iUV+zEsy6fJbSDbnoqUZxY8I+WquceJndzSfVp66eq/Pp9P+/enJgH2WXHNsouAl82cOM8utk/uf6I+NWWexesPJoRcr8TwydvBbm1Fdu2wrZHlCLAfw7J8mhw/zeBz+liz4Hn62p4qv9zSfVp64dwSXTovsuujY+1ZvGzmxHm0sX7SeCfqU1PmWbwusvskSw9eS5HdYAXU9D8hgCSX60V25cahGXxOH2sWPE9f21Pll1u6T0svnIvs+ujTYxYvmzlxHg/8T53jRH1qyjyL10V2T7XqhHIX2U2olBeKxAQXyyK7ckPQDD6njzULnqev7anyyy3dp6UXzkV2ffTpMYuXzZw4jwf+p85xoj41ZZ7F6yK7p1p1QrmL7CZUygtFQpLL9SK7ckPQDD6njzULnqev7anyyy3dp6UXzkV2ffTpMYuXzZw4jwf+p85xoj41ZZ7F6yK7p1p1QrmL7CZUygtFYoKLZZFduSFoBp/Tx5oFz9PX9lT55Zbu09IL5yK7Pvr0mMXLZk6cxwP/U+c4UZ+aMs/idZHdU606odxFdhMq5YUiIcnlepFduSFoBp/Tx5oFz9PX9lT55Zbu09IL5yK7Pvr0mMXLZk6cxwP/U+c4UZ+aMs/idZHdU606odxFdhMq5YUiMcHFssiu3BA0g8/pY82C5+lre6r8ckv3aemFc5FdH316zOJlMyfO44H/qXOcqE9NmWfxusjuqVadUO4iuwmV8kKRkORyvciu3BA0g8/pY82C5+lre6r8ckv3aemFc5FdH316zOJlMyfO44H/qXOcqE9NmWfxusjuqVadUO4iuwmV8kKRmOBiWWRXbgiawef0sWbB8/S1PVV+uaX7tPTCuciujz49ZvGymRPn8cD/1DlO1KemzLN4XWT3VKtOKHeR3YRKeaFISHK5XmRXbgiawef0sWbB8/S1PVV+uaX7tPTCuciujz49ZvGymRPn8cD/1DlO1KemzLN43SW7lCBScqj998K4IOQAAAHxSURBVMdTLehhcv+tgW7JVv7z8+na028M8dPcKBpjGS61hhYiwAS3LbX9GY33RJ+msQ+8x/i7z+fzJ4O/P38+nx6J+O3n8/FeY80nw1zoJtyaeemtZ6d0DfeFlg98ot9zMwjBRF42c+I8Avhe2+QUfUbE6y45aZNErXN681dHPAIUqLR0KhmnyG68zt8kgcQmtdo80aedEjBRzn8ckNIRAdi9XmRXRjxRR171bL7Oa90Smy6/l806+vJ42cyJ8/QRq6uEwCn6jIjXrqTniYnhiVusyK6dUzjRHp4ms1ZCJxnniT7tlICJckYET5y/6nY+9S622fzZXflX2xfZzab5dXlWbeAN/dZRfX7PU/QfEa+L7D7f/n+1wiK7donZr8CuC+4ISEiqVpsiu3Z76U7gjgied+Srtn524u5wLib00n2R3QtFHHTby2ZOnOcgNbqLeoo+I+J1kV13c4yfsMiuXeIVr92SQIvISsYpsmu3l+4E7ojgeUe+autnJ9k8oJfui+xm0/y6PF42c+I866g+v+cp+oyI18MfFZIkenfbPDExPHH7FNm1S7xOtIenyTz6obS7/krS/ok+7ZSAiXJGBE+cv+p2PvUuttn82V35V9uPfkwNSbDEp0naPNHvZbKbVRt4Q79Mesomyyn6d4/X/z+PYVTlrNQO6wAAAABJRU5ErkJggg==)"
      ]
    },
    {
      "cell_type": "markdown",
      "metadata": {
        "id": "FCWYIr1wBceW"
      },
      "source": [
        "Provided is some starter code for the C implementation of vector addition (`vector_add.c`). You can print out vector `c` to make sure your implementation is working, but comment those lines out before you move on. Instead of allocating memory on the stack, we are using `malloc` here due to the extremely large size of `N`."
      ]
    },
    {
      "cell_type": "code",
      "metadata": {
        "id": "NkJg4OESBb6W"
      },
      "source": [
        "%%writefile vector_add.c\n",
        "\n",
        "#include <stdio.h>\n",
        "#include <stdlib.h>\n",
        "\n",
        "/*\n",
        " * vector_add.c \n",
        " * \n",
        " * Adds two vectors and displays the result.\n",
        " */\n",
        "\n",
        "/* Number of elements in each vector */\n",
        " #define N 1000000\n",
        "\n",
        "void vector_add(int* a, int* b, int* c)\n",
        "{ \n",
        "    /* TODO */\n",
        "     ...\n",
        "}\n",
        "\n",
        "int main() \n",
        "{\n",
        "    /* Allocate space for vectors a, b, and c */\n",
        "    int* a = (int*)malloc(sizeof(int) * N);\n",
        "    int* b = (int*)malloc(sizeof(int) * N);\n",
        "    int* c = (int*)malloc(sizeof(int) * N);\n",
        "\n",
        "    /* Populate vectors a and b with values */\n",
        "     ...\n",
        "    /* Perform the addition */\n",
        "     ...\n",
        "    /* Free memory when done */\n",
        "    free(...);\n",
        "    free(...);\n",
        "    free(...);\n",
        " }\n"
      ],
      "execution_count": null,
      "outputs": []
    },
    {
      "cell_type": "markdown",
      "metadata": {
        "id": "_q6hH9CsBcgO"
      },
      "source": [
        "### CUDA implementation"
      ]
    },
    {
      "cell_type": "markdown",
      "metadata": {
        "id": "Rw_E6FDNBcjL"
      },
      "source": [
        "Create the corresonding CUDA implementation, but leave your memory arguments `<<<NUM_BLOCKS,NUM_THREADS>>>(dev_a, dev_b, dev_c)` when making the `vector_add` kernel call empty. We will vary the number of blocks and threads and gather some performance data using `nvprof` in the sections below.\n",
        "\n",
        "To establish a \"baseline\" to judge our performance, spawn 1 block with 1 thread when making your call to the kernel. **You shouldn't have to change the implementation of your `vector_add` function when implementing this first kernel.** Set `N` = `1000000`."
      ]
    },
    {
      "cell_type": "code",
      "metadata": {
        "colab": {
          "base_uri": "https://localhost:8080/",
          "height": 35
        },
        "id": "w7hr9gQ6EVg4",
        "outputId": "55196f83-ef15-44bf-c828-bcaffe7e121f"
      },
      "source": [
        "%%cuda --name vector_add.cu\n",
        "\n",
        "#include <stdio.h>\n",
        "#include <stdlib.h>\n",
        "\n",
        "/* Number of elements in each vector */\n",
        " #define N 1000000\n",
        "\n",
        "__global__ void vector_add(...)\n",
        "{\n",
        "    /* TODO */\n",
        "}\n",
        "\n",
        "int main()\n",
        "{\n",
        "    /* Allocate space for vectors a, b, and c */\n",
        "    int* a = (int*)malloc(sizeof(int) * N);\n",
        "    int* b = (int*)malloc(sizeof(int) * N);\n",
        "    int* c = (int*)malloc(sizeof(int) * N);\n",
        "\n",
        "    /* Populate vectors a and b with values */\n",
        "     ...\n",
        " \n",
        "    /* TODO *\n",
        "\n",
        "    /* Perform the addition */\n",
        "     ...\n",
        "    /* Free memory when done (both host and device) */\n",
        "    free(...);\n",
        "    free(...);\n",
        "    free(...);\n",
        "\n",
        "    return 0;\n",
        "}"
      ],
      "execution_count": null,
      "outputs": [
        {
          "output_type": "execute_result",
          "data": {
            "application/vnd.google.colaboratory.intrinsic+json": {
              "type": "string"
            },
            "text/plain": [
              "'File written in /content/src/vector_add.cu'"
            ]
          },
          "metadata": {},
          "execution_count": 160
        }
      ]
    },
    {
      "cell_type": "markdown",
      "metadata": {
        "id": "9dAQTHlsCxJl"
      },
      "source": [
        "### Scenario 1: Establishing a baseline (`vector_add_baseline.cu`)"
      ]
    },
    {
      "cell_type": "markdown",
      "metadata": {
        "id": "ekkpzDzZCxOb"
      },
      "source": [
        "\n",
        "Using the UNIX command `time`, measure the `real` time it takes for `vector_add.c` to run. Here's an example using `divide.cu` and the corresponding executable: "
      ]
    },
    {
      "cell_type": "code",
      "metadata": {
        "colab": {
          "base_uri": "https://localhost:8080/"
        },
        "id": "dcq9tICLBT8H",
        "outputId": "eb3de4c4-479a-49ab-9ff0-81d683b776e4"
      },
      "source": [
        "!time ./divide-cuda"
      ],
      "execution_count": null,
      "outputs": [
        {
          "output_type": "stream",
          "name": "stdout",
          "text": [
            "42 / 7 = 6\n",
            "real\t0m0.154s\n",
            "user\t0m0.011s\n",
            "sys\t0m0.132s\n"
          ]
        }
      ]
    },
    {
      "cell_type": "markdown",
      "metadata": {
        "id": "l01nCTdyCxTB"
      },
      "source": [
        "Repeat this process once more, but this time give your CUDA exectuable.\n",
        "\n",
        "After obtaining both of these values, put them in the table below:\n",
        "\n",
        "| Implementation | Time (seconds) | \n",
        "| :--- | :--- |\n",
        "|`C` (`vector_add.c`) | **TODO: Your answer here** |\n",
        "|`CUDA` (`vector_add_baseline.cu`) | **TODO: Your answer here** |"
      ]
    },
    {
      "cell_type": "markdown",
      "metadata": {
        "id": "o9GQsxmTDy2x"
      },
      "source": [
        "> What do the times look like for each program? Is one implementation slower than the other? If so, explain the reason for the resulting discrepancy.\\\n",
        "**TODO: Your answer here**\n",
        "\n",
        "> Using [`nvprof`](https://docs.nvidia.com/cuda/profiler-users-guide/index.html#nvprof-overview) (a tool that lets you look at the metrics for CUDA kernels), find the `Avg` amount of time spent within the kernel. What CUDA `API` call was called the most?\\\n",
        "**TODO: Your answer here**"
      ]
    },
    {
      "cell_type": "markdown",
      "metadata": {
        "id": "KIHCQN6hD3YS"
      },
      "source": [
        "`nvprof`, the NVIDIA profiler, can help us to gain more insight into our CUDA programs:"
      ]
    },
    {
      "cell_type": "code",
      "metadata": {
        "colab": {
          "base_uri": "https://localhost:8080/"
        },
        "id": "1KRpxE_2D9ln",
        "outputId": "c930b00d-7244-47d7-f14e-82dfa7d88c1d"
      },
      "source": [
        "!nvprof ./divide-cuda"
      ],
      "execution_count": null,
      "outputs": [
        {
          "output_type": "stream",
          "name": "stdout",
          "text": [
            "==2975== NVPROF is profiling process 2975, command: ./divide-cuda\n",
            "==2975== Warning: Auto boost enabled on device 0. Profiling results may be inconsistent.\n",
            "42 / 7 = 6==2975== Profiling application: ./divide-cuda\n",
            "==2975== Profiling result:\n",
            "            Type  Time(%)      Time     Calls       Avg       Min       Max  Name\n",
            " GPU activities:   52.63%  3.5200us         1  3.5200us  3.5200us  3.5200us  divide(int, int, int*)\n",
            "                   47.37%  3.1680us         1  3.1680us  3.1680us  3.1680us  [CUDA memcpy DtoH]\n",
            "      API calls:   99.66%  268.36ms         1  268.36ms  268.36ms  268.36ms  cudaMalloc\n",
            "                    0.18%  471.37us         1  471.37us  471.37us  471.37us  cuDeviceTotalMem\n",
            "                    0.07%  185.62us       101  1.8370us     147ns  77.449us  cuDeviceGetAttribute\n",
            "                    0.05%  121.25us         1  121.25us  121.25us  121.25us  cudaFree\n",
            "                    0.02%  42.165us         1  42.165us  42.165us  42.165us  cuDeviceGetName\n",
            "                    0.01%  37.665us         1  37.665us  37.665us  37.665us  cudaLaunchKernel\n",
            "                    0.01%  33.734us         1  33.734us  33.734us  33.734us  cudaMemcpy\n",
            "                    0.00%  5.8470us         1  5.8470us  5.8470us  5.8470us  cuDeviceGetPCIBusId\n",
            "                    0.00%  2.2660us         3     755ns     233ns  1.0250us  cuDeviceGetCount\n",
            "                    0.00%  1.9750us         2     987ns     649ns  1.3260us  cuDeviceGet\n",
            "                    0.00%     282ns         1     282ns     282ns     282ns  cuDeviceGetUuid\n"
          ]
        }
      ]
    },
    {
      "cell_type": "markdown",
      "metadata": {
        "id": "tiQwPOdfEwQm"
      },
      "source": [
        "### Scenario 2: Single Block, Many Threads (`vector_add_threads.cu`)"
      ]
    },
    {
      "cell_type": "markdown",
      "metadata": {
        "id": "gTKGM-edEwXU"
      },
      "source": [
        "Now that we have established our baseline measurement with `N` = `1000000` elements, let's see how we can speed things up. We'll make use of SIMT (Single Instruction, Multiple Threads) to achieve high parallel performance for our vector computation. This time, create `vector_add_threads.cu` where you spawn `1` block with `256` threads. Define a constant `T` to represent the number of threads. The idea here is that in parallel, each thread will be responsible for performing a step of the vector addition."
      ]
    },
    {
      "cell_type": "markdown",
      "metadata": {
        "id": "BfPwZe-hEwbX"
      },
      "source": [
        "Note that you will now have to make some changes to your `vector_add` kernel. If we only changed the number of threads in our memory arguments, we would be repeating the same computation once per thread instead of spreading it across multiple, parallel threads.\n",
        "\n",
        "For example, we want Thread ID `0` to be responsible for adding the first element of both vectors. Once it has done its job, it should start solving a new portion of the problem--ideally, the 256th element of both vectors. \n",
        "\n",
        "Modify your existing kernel's loop to account for this behavior (ideally, spawning a new thread every iteration that solves a different portion of the problem). `blockIdx.x` and `threadIdx.x` might be helpful here."
      ]
    },
    {
      "cell_type": "markdown",
      "metadata": {
        "id": "qwXR8uZeEwe6"
      },
      "source": [
        "Refer to the pseudocode below:\n",
        "```c\n",
        "__global__ void vector_add(int* a, int* b, int* c) {\n",
        "    /* Find the unqiue ThreadID of each thread that we spawn */\n",
        "    ...\n",
        "    /* Find the value we need to increment by to work on a new\n",
        "       portion of the problem each time */\n",
        "    ...\n",
        "    /* Logic to add vectors together */\n",
        "    ...\n",
        "}\n",
        "```"
      ]
    },
    {
      "cell_type": "code",
      "metadata": {
        "id": "9DNvNjHVFWVG"
      },
      "source": [
        "%%cuda --name vector_add_threads.cu\n",
        "\n",
        "#include <stdio.h>\n",
        "#include <stdlib.h>\n",
        "\n",
        "/* Number of elements in each vector */\n",
        " #define N 1000000\n",
        "\n",
        "__global__ void vector_add(...)\n",
        "{\n",
        "    /* TODO */\n",
        "}\n",
        "\n",
        "int main()\n",
        "{\n",
        "    /* Allocate space for vectors a, b, and c */\n",
        "    int* a = (int*)malloc(sizeof(int) * N);\n",
        "    int* b = (int*)malloc(sizeof(int) * N);\n",
        "    int* c = (int*)malloc(sizeof(int) * N);\n",
        "\n",
        "    /* Populate vectors a and b with values */\n",
        "     ...\n",
        " \n",
        "    /* TODO */\n",
        "\n",
        "    /* Perform the addition */\n",
        "     ...\n",
        "    /* Free memory when done (both host and device) */\n",
        "    free(...);\n",
        "    free(...);\n",
        "    free(...);\n",
        "\n",
        "    return 0;\n",
        "}"
      ],
      "execution_count": null,
      "outputs": []
    },
    {
      "cell_type": "markdown",
      "metadata": {
        "id": "gumtbwI3FV2w"
      },
      "source": [
        "Use `nvprof` to run your implementation on a vector with `N` = `1000000` elements. Note down the time spent in the kernel."
      ]
    },
    {
      "cell_type": "markdown",
      "metadata": {
        "id": "l2kXibXaFOon"
      },
      "source": [
        "### Scenario 3: Introducing Blocks (`vector_add_blocks.cu`)\n"
      ]
    },
    {
      "cell_type": "markdown",
      "metadata": {
        "id": "K6RNOg4hFftl"
      },
      "source": [
        "Finally, we are going to see the impact on performance when adding multiple blocks and threads. The idea is to split up the work of addition between different blocks, each with `N` threads. Each thread will process a single row operation for the vector addition. Once again, launch `256` threads. Define a constant `T` to represent the number of threads.\n",
        "\n",
        "When determining the number of blocks you need, note that each block is reserved completely. Functions like `ceil` and `(int)` type-casting might be helpful here."
      ]
    },
    {
      "cell_type": "markdown",
      "metadata": {
        "id": "ll0kcKe5Fmre"
      },
      "source": [
        "> Write the memory arguments that you would pass in to your kernel call. Your answer should be in terms of `N` (number of elements in your vector) and `T` (number of threads we are spawning).\\\n",
        "**TODO: Your answer here**\n",
        "\n",
        "In addition to changing your memory arguments, you will need to re-calculate the Thread ID within your kernel call (`vector_add`). You now need to compute the **Global** Thread ID with respect to the block you are in as well.\n",
        "\n",
        "> Write the snippet for calculating the Global Thread ID. Feel free to make use of CUDA's built-in variables, such as `threadIdx.x`, etc.\\\n",
        "**TODO: Your answer here**\n"
      ]
    },
    {
      "cell_type": "markdown",
      "metadata": {
        "id": "w6Tpxm41Ft2v"
      },
      "source": [
        "Finally, modify the kernel by adding a bounds check so writes beyond the bounds of allocated memory are not allowed. Ensure that threads with a given Thread ID do not exceed `N`.\n",
        "\n",
        "Use `nvprof` to run your implementation on a vector with `N` = `1000000` elements. Note down the time spent in the kernel."
      ]
    },
    {
      "cell_type": "code",
      "metadata": {
        "id": "JomqaERNH2nT"
      },
      "source": [
        "%%cuda --name vector_add_blocks.cuda\n",
        "\n",
        "#include <stdio.h>\n",
        "#include <stdlib.h>\n",
        "\n",
        "/* Number of elements in each vector */\n",
        " #define N 1000000\n",
        "\n",
        "__global__ void vector_add(...)\n",
        "{\n",
        "    /* TODO */\n",
        "}\n",
        "\n",
        "int main()\n",
        "{\n",
        "    /* Allocate space for vectors a, b, and c */\n",
        "    int* a = (int*)malloc(sizeof(int) * N);\n",
        "    int* b = (int*)malloc(sizeof(int) * N);\n",
        "    int* c = (int*)malloc(sizeof(int) * N);\n",
        "\n",
        "    /* Populate vectors a and b with values */\n",
        "     ...\n",
        " \n",
        "    /* TODO */\n",
        "\n",
        "    /* Perform the addition */\n",
        "     ...\n",
        "    /* Free memory when done (both host and device) */\n",
        "    free(...);\n",
        "    free(...);\n",
        "    free(...);\n",
        "\n",
        "    return 0;\n",
        "}"
      ],
      "execution_count": null,
      "outputs": []
    },
    {
      "cell_type": "markdown",
      "metadata": {
        "id": "ejBBFqCNFxGH"
      },
      "source": [
        "### Analysis"
      ]
    },
    {
      "cell_type": "markdown",
      "metadata": {
        "id": "qiHkhlpJFynP"
      },
      "source": [
        "Fill in the table with your results from Scenarios 1-3:\n",
        "\n",
        "| Scenario | Time (ms) | Speedup |\n",
        "| :--- | :--- | :--- |\n",
        "|1: Baseline | **TODO** | 1.00x|\n",
        "|2: Threads | **TODO** | **TODO** |\n",
        "|3: Blocks and Threads | **TODO** | **TODO**|\n",
        "\n",
        "> What do your observations show? What effect do threads and blocks have on the performance of vector addition?\\\n",
        "**TODO: Your answer here**"
      ]
    },
    {
      "cell_type": "markdown",
      "metadata": {
        "id": "Qtgd7nDOFyqT"
      },
      "source": [
        "### Tasks"
      ]
    },
    {
      "cell_type": "markdown",
      "metadata": {
        "id": "vkKmDBAwFyuA"
      },
      "source": [
        "* Implement `vector_add.c`\n",
        "* Complete the **short answer questions** and **tables** in Scenarios 1-3, and implement the following files:\n",
        "    * `vector_add_baseline.cu`\n",
        "    * `vector_add_threads.cu`\n",
        "    * `vector_add_blocks.cu` "
      ]
    },
    {
      "cell_type": "markdown",
      "metadata": {
        "id": "ra-MFTInGJZG"
      },
      "source": [
        "## Part 3: Matrix Addition"
      ]
    },
    {
      "cell_type": "markdown",
      "metadata": {
        "id": "ay9ILlXMHlJI"
      },
      "source": [
        "### Introduction"
      ]
    },
    {
      "cell_type": "markdown",
      "metadata": {
        "id": "BAHvw9yMHlMD"
      },
      "source": [
        "In this module, we will continue to explore GPU performance when it comes to matrix operations. Specifically, we will focus on matrix addition.\n",
        "\n"
      ]
    },
    {
      "cell_type": "markdown",
      "metadata": {
        "id": "zV6_xAyrHlPw"
      },
      "source": [
        "### C implementation (matrix_add.c) and a quick refresher\n"
      ]
    },
    {
      "cell_type": "markdown",
      "metadata": {
        "id": "oudJSw3sHv91"
      },
      "source": [
        "Before you start implementing `matrix_add.c`, briefly recall the thought process behind matrix addition for two `N` X `N` matrices (building off of our previous implementation of vector addition).\n",
        "\n",
        "![image.png](data:image/png;base64,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)"
      ]
    },
    {
      "cell_type": "markdown",
      "metadata": {
        "id": "hfYCQqOxIHHP"
      },
      "source": [
        "### Matrix representation"
      ]
    },
    {
      "cell_type": "markdown",
      "metadata": {
        "id": "RKpn-eGiIHLV"
      },
      "source": [
        "In general, dynamically allocated memory on the device (our GPU) doesn't allow for two-dimension row-column indexing (`my_matrix[row][col]`) to access 2-D arrays. C uses [**row-major**](https://en.wikipedia.org/wiki/Row-_and_column-major_order) order when storing our matrices--each row ends up being stored one after the other:\n",
        "\n",
        "![image.png](data:image/png;base64,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)"
      ]
    },
    {
      "cell_type": "markdown",
      "metadata": {
        "id": "w1wlFXSXIHPy"
      },
      "source": [
        "> Write an expression that gets you the element`(row,col)` in an `N` x `N` matrix `M`. Your answer should be in terms of `row`, `col`, and `N`.\\\n",
        "**TODO: Your answer here**\n"
      ]
    },
    {
      "cell_type": "markdown",
      "metadata": {
        "id": "hEk_O_oVIHVC"
      },
      "source": [
        "Provided is some starter code for the **C** implementation of matrix addition (`matrix_add.c`)."
      ]
    },
    {
      "cell_type": "code",
      "metadata": {
        "id": "NZ7JnKIiGMOo"
      },
      "source": [
        "%%writefile matrix_add.c\n",
        "\n",
        "#include <stdio.h>\n",
        "#include <stdlib.h>\n",
        "\n",
        "/*\n",
        " * matrix_add.c\n",
        " * \n",
        " * Adds two matrices and displays the result. \n",
        " */\n",
        "\n",
        "/* Dimensions of square matrix N */\n",
        "#define N 5\n",
        "\n",
        "void matrixAdd(int* a, int* b, int* c) {\n",
        "    /*...TODO...*/\n",
        "    ...\n",
        "}\n",
        "\n",
        "int main() {\n",
        "    /* Allocate space for matrices a, b, and c */ \n",
        "    int* a = malloc(N * N * sizeof(int));\n",
        "    int* b = malloc(N * N * sizeof(int));\n",
        "    int* c = malloc(N * N * sizeof(int));\n",
        "    \n",
        "    /* Populate each matrix with values */\n",
        "    ...\n",
        "\n",
        "    /* Perform addition */\n",
        "    ...\n",
        "\n",
        "    /* Free memory when done */\n",
        "    ...\n",
        "}\n"
      ],
      "execution_count": null,
      "outputs": []
    },
    {
      "cell_type": "markdown",
      "metadata": {
        "id": "Id2l-7IWIkxw"
      },
      "source": [
        "### Hints"
      ]
    },
    {
      "cell_type": "markdown",
      "metadata": {
        "id": "HKx8dr0bIoGO"
      },
      "source": [
        "**A Note on Dimensions**\n",
        "\n",
        "In comparison to `vector_add.cu`, note that we are now dealing with 2 dimensions. Recall from lecture that CUDA has built-in variables and structures to represent the current block and thread in each dimension. Just like before, you should only need a certain number of blocks to cover your problem space--using `ceil` and `(int)` will be helpful here when finding your `dim3 grid`."
      ]
    },
    {
      "cell_type": "markdown",
      "metadata": {
        "id": "9XQCovucIy9t"
      },
      "source": [
        "### CUDA Implementation \n"
      ]
    },
    {
      "cell_type": "markdown",
      "metadata": {
        "id": "aferiNdBI0QM"
      },
      "source": [
        "Create the corresponding CUDA implementation (`matrix_add.cu`). When making your call to the kernel, add a bounds check to make sure you are never accessing elements that are outside of the bounds of `N`. Use the provided `BLOCK_DIM` of 32."
      ]
    },
    {
      "cell_type": "markdown",
      "metadata": {
        "id": "Pa25PqoFI0W_"
      },
      "source": [
        "> You should have a variable of `dim3` which represents the number of threads within each block. What is the maximum value for this variable? Why is this the case?\\\n",
        "**TODO: Your answer here**\n",
        "\n",
        "You might find a tool like [`cuda-memcheck`](https://docs.nvidia.com/cuda/cuda-memcheck/index.html) to be helpful here."
      ]
    },
    {
      "cell_type": "code",
      "metadata": {
        "id": "gtXtTHC4dxOk"
      },
      "source": [
        "%%cuda --name matrix_add.cu\n",
        "\n",
        "#define N 5\n",
        "#define BLOCK_DIM 32\n",
        "\n",
        "__global__ void matrixAdd(...)\n",
        "{\n",
        "    int row = ...\n",
        "    int col = ...\n",
        " \n",
        "    int index = ...\n",
        " \n",
        "    if (row < N && col < N)\n",
        "    {\n",
        "        /* TODO */\n",
        "    }\n",
        " \n",
        "}\n",
        "\n",
        "int main()\n",
        "{ \n",
        "    /* Allocate space for matrices a, b, and c */\n",
        "    int* a = malloc(N * N * sizeof(int));\n",
        "    int* b = malloc(N * N * sizeof(int));\n",
        "    int* c = malloc(N * N * sizeof(int));\n",
        " \n",
        "    /* Populate elements */\n",
        "    ...\n",
        " \n",
        "    dim3 dimBlock = ( /* TODO */ );\n",
        "    dim3 dimGrid = ( /* TODO */ );\n",
        " \n",
        "    /* Perform addition */\n",
        "    ...\n",
        " \n",
        "    /* Free memory when done (host and device) */\n",
        "    ...\n",
        "}"
      ],
      "execution_count": null,
      "outputs": []
    },
    {
      "cell_type": "markdown",
      "metadata": {
        "id": "zw4aKMTHI0b6"
      },
      "source": [
        "### Performance Case Study"
      ]
    },
    {
      "cell_type": "markdown",
      "metadata": {
        "id": "TEJHHULQN89W"
      },
      "source": [
        "We'll now perform a small case study on performance using the two implementations you just created: `matrix_add.c` and `matrix_add.cu`. When gathering your data, **don't** print the result of your calculated matrix--this will cause the runtime to be quite slow."
      ]
    },
    {
      "cell_type": "markdown",
      "metadata": {
        "id": "nCkVOZXfN9B5"
      },
      "source": [
        "> **TODO**: Use the UNIX [`time`](https://man7.org/linux/man-pages/man1/time.1.html) utility to fill in as many values as you can for N below:\n",
        "\n",
        "| N (# of elements)| `matrix_add.c` (sec) | `matrix_add.cu` (sec) |\n",
        "| :--- | :--- | :--- |\n",
        "| 5 | -- | -- |\n",
        "| 50 | -- | -- |\n",
        "| 500 | -- | -- |\n",
        "| 5000 | -- | -- |\n",
        "| 10000 | -- | -- |\n",
        "| 15000 | -- | -- |\n",
        "| 20000 | -- | -- |\n",
        "| 25000 | -- | -- |\n",
        "| 30000 | -- | -- |\n",
        "| 32000 | -- | -- |"
      ]
    },
    {
      "cell_type": "markdown",
      "metadata": {
        "id": "ThqPAHGsOEpg"
      },
      "source": [
        "Once you have filled in the above values, make a graph to better visualize your findings. Use [Google Colab](https://colab.research.google.com/) to make a quick visualization, following the template for a similar graph below:\n",
        "\n",
        "```python\n",
        "import pandas as pd\n",
        "import matplotlib.pyplot as plt\n",
        "from google.colab import files\n",
        "\n",
        "N = [...#TODO...]\n",
        "matrix_add_perf_C = [...#TODO...]\n",
        "matrix_add_perf_CUDA = [...#TODO...]\n",
        "\n",
        "plt.plot(N, ...#TODO..., label='...#TODO...')\n",
        "plt.plot(N, ...#TODO..., label='...#TODO...')\n",
        "plt.xlabel(...#TODO...)\n",
        "plt.ylabel(...#TODO...)\n",
        "plt.title('Matrix Addition')\n",
        "plt.legend()\n",
        "plt.savefig('matrix_add_perf.png')\n",
        "files.download('matrix_add_perf.png')\n",
        "```"
      ]
    },
    {
      "cell_type": "markdown",
      "metadata": {
        "id": "_Vrdxri0OMBa"
      },
      "source": [
        "> **TODO: Paste your version of `matrix_add_perf.png` below:**\n",
        "\n",
        "**...**\n",
        "\n",
        "> What conclusions can you draw from your graph? What happens to the performance of both implementations as the size of `N` gets larger?\\\n",
        "**TODO: Your answer here**"
      ]
    },
    {
      "cell_type": "markdown",
      "metadata": {
        "id": "VELKcQRkOUSQ"
      },
      "source": [
        "Here is a sample graph for your reference:\n",
        "\n",
        "![image.png](data:image/png;base64,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)"
      ]
    },
    {
      "cell_type": "markdown",
      "metadata": {
        "id": "dKh1B8PFOO1z"
      },
      "source": [
        "### Tasks"
      ]
    },
    {
      "cell_type": "markdown",
      "metadata": {
        "id": "wGLXNMpOOQJj"
      },
      "source": [
        "* Implement `matrix_add.c` and `matrix_add.cu`\n",
        "* Complete the **short answer questions** and populate the **table** with the data you collected\n",
        "* Attach a picture of your performance graph (`matrix_add_perf.png`)"
      ]
    },
    {
      "cell_type": "markdown",
      "metadata": {
        "id": "hpXRqAxITj3u"
      },
      "source": [
        "## All Done?\n",
        "Navigate to `File` > `Download` > `Download .ipynb`. You can later submit this `.ipynb` file as an attachment after running each of your cells in the [Course Feedback survey](https://docs.google.com/forms/d/e/1FAIpQLSfAYjrJ04aurqE96z-OdUVWsLwdlq14oPKBUJRkShzfZtn6Gg/viewform)."
      ]
    }
  ]
}
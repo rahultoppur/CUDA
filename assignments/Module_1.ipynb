{
  "nbformat": 4,
  "nbformat_minor": 0,
  "metadata": {
    "colab": {
      "name": "Module_1.ipynb",
      "provenance": [],
      "collapsed_sections": []
    },
    "kernelspec": {
      "name": "python3",
      "display_name": "Python 3"
    },
    "language_info": {
      "name": "python"
    }
  },
  "cells": [
    {
      "cell_type": "markdown",
      "metadata": {
        "id": "BitIBA1rpKHU"
      },
      "source": [
        "# Module 1: C Programming\n",
        "---\n",
        "## Introduction\n",
        "Welcome to the course! Before we jump in and start writing programs that utilize our GPU, it's important to have a strong understanding of C.\n",
        "\n",
        "This assignment will cover:\n",
        "* C syntax, pointers, and memory allocation\n",
        "* Data structures (Linked List)\n",
        "* File I/O\n",
        "---\n",
        "## Assignment\n",
        "There are three parts to this assignment:\n",
        "* Part 0: Colab Basics\n",
        "* Part 1: Stock Portfolio\n",
        "* Part 2: The Caesar Shift Cipher\n",
        "---\n",
        "## Module Learning Objectives\n",
        "* Becoming familiar with C syntax\n",
        "* Reviewing the usage of pointers, data structures, and linked lists\n",
        "* Reviewing dynamic memory allocation\n",
        "* File I/O\n",
        "* Introduce ciphers, encryption, and decryption"
      ]
    },
    {
      "cell_type": "markdown",
      "metadata": {
        "id": "FMgk0qtBqR8z"
      },
      "source": [
        "## Part 0: Colab Basics"
      ]
    },
    {
      "cell_type": "markdown",
      "metadata": {
        "id": "-Ae02P40vErW"
      },
      "source": [
        "### Git and `UNIX` commands"
      ]
    },
    {
      "cell_type": "markdown",
      "metadata": {
        "id": "Srx2uMxXv3Tw"
      },
      "source": [
        "We can use Colab to run both our C and CUDA programs. Before starting each module, you'll need to do a `git clone` in order to obtain repository containing the resources for each module."
      ]
    },
    {
      "cell_type": "code",
      "metadata": {
        "colab": {
          "base_uri": "https://localhost:8080/"
        },
        "id": "X1f00G6YpQjI",
        "outputId": "d534b01f-e75e-44f6-fcfb-1918bac5491a"
      },
      "source": [
        "!git clone https://github.com/rahultoppur/CUDA"
      ],
      "execution_count": null,
      "outputs": [
        {
          "output_type": "stream",
          "name": "stdout",
          "text": [
            "Cloning into 'CUDA'...\n",
            "remote: Enumerating objects: 378, done.\u001b[K\n",
            "remote: Counting objects: 100% (378/378), done.\u001b[K\n",
            "remote: Compressing objects: 100% (261/261), done.\u001b[K\n",
            "remote: Total 378 (delta 164), reused 249 (delta 80), pack-reused 0\u001b[K\n",
            "Receiving objects: 100% (378/378), 4.44 MiB | 9.61 MiB/s, done.\n",
            "Resolving deltas: 100% (164/164), done.\n"
          ]
        }
      ]
    },
    {
      "cell_type": "markdown",
      "metadata": {
        "id": "eoM7v8Eoq9Gk"
      },
      "source": [
        "Once you run the above cell, you'll see the \"Files\" section on the left populated with the corresponding directories. Each module has the required files you need to complete each part of the assignment. If the notebook becomes inactive for a period of time, you may need to re-run this cell (along with other cells that contain your code) to re-populate your local files."
      ]
    },
    {
      "cell_type": "markdown",
      "metadata": {
        "id": "C79Gn7v6rTEZ"
      },
      "source": [
        "We can also run UNIX commands within Colab. For example, here's a small snippet of running `ls` and `pwd` to see the contents of our current directory. We can either run both of these commands directly be prefacing each with a `!` character (such as `!ls` or `!pwd`) or by using `%%sh` within the cell."
      ]
    },
    {
      "cell_type": "code",
      "metadata": {
        "colab": {
          "base_uri": "https://localhost:8080/"
        },
        "id": "dgCYM7jqrmbs",
        "outputId": "0f5f9ab9-d4e5-4cb3-b951-eb954141cd21"
      },
      "source": [
        "!pwd"
      ],
      "execution_count": null,
      "outputs": [
        {
          "output_type": "stream",
          "name": "stdout",
          "text": [
            "/content\n"
          ]
        }
      ]
    },
    {
      "cell_type": "code",
      "metadata": {
        "colab": {
          "base_uri": "https://localhost:8080/"
        },
        "id": "iWSkCQxOrxLV",
        "outputId": "47741674-522b-4cde-9393-35670d2ccfdb"
      },
      "source": [
        "%%sh\n",
        "\n",
        "ls\n",
        "echo \"My current directory is: \" $(pwd)"
      ],
      "execution_count": null,
      "outputs": [
        {
          "output_type": "stream",
          "name": "stdout",
          "text": [
            "CUDA\n",
            "test\n",
            "test.c\n",
            "My current directory is:  /content\n"
          ]
        }
      ]
    },
    {
      "cell_type": "markdown",
      "metadata": {
        "id": "RwU3nGuiu_u-"
      },
      "source": [
        "### Writing our own programs"
      ]
    },
    {
      "cell_type": "markdown",
      "metadata": {
        "id": "3FvMs-3zs3GG"
      },
      "source": [
        "Now let's try creating and running our own simple C program. Make sure to place `%%writefile <your-filename.c>` at the top of the cell. We'll do something similar in order to run our CUDA programs, but we'll see how to do that in the next module."
      ]
    },
    {
      "cell_type": "code",
      "metadata": {
        "colab": {
          "base_uri": "https://localhost:8080/"
        },
        "id": "M60yje8jsyCo",
        "outputId": "84fa0532-17e6-45cf-e587-b25ff339e2d0"
      },
      "source": [
        "%%writefile hello.c\n",
        "\n",
        "#include <stdio.h>\n",
        "\n",
        "int main()\n",
        "{\n",
        "  printf(\"Hello, World!\\n\");\n",
        " \n",
        "  return 0;\n",
        "}"
      ],
      "execution_count": null,
      "outputs": [
        {
          "output_type": "stream",
          "name": "stdout",
          "text": [
            "Overwriting hello.c\n"
          ]
        }
      ]
    },
    {
      "cell_type": "markdown",
      "metadata": {
        "id": "6AfGrtKrtv8P"
      },
      "source": [
        "Once you're ready to compile, we can use `gcc` like normal to produce and run our executable."
      ]
    },
    {
      "cell_type": "code",
      "metadata": {
        "colab": {
          "base_uri": "https://localhost:8080/"
        },
        "id": "D0lhzyQft9Pp",
        "outputId": "860a5c14-7db4-4351-d6ef-460045b9d2f3"
      },
      "source": [
        "# Compile our program using gcc\n",
        "!gcc hello.c -o hello\n",
        "\n",
        "# Run our executable\n",
        "!./hello"
      ],
      "execution_count": null,
      "outputs": [
        {
          "output_type": "stream",
          "name": "stdout",
          "text": [
            "Hello, World!\n"
          ]
        }
      ]
    },
    {
      "cell_type": "markdown",
      "metadata": {
        "id": "3WuImMZPuXro"
      },
      "source": [
        "You now can write and compile your own C programs--you're all set to complete Module 1!"
      ]
    },
    {
      "cell_type": "markdown",
      "metadata": {
        "id": "oF6I37mJsjuQ"
      },
      "source": [
        "## Part 1: Stock Portfolio"
      ]
    },
    {
      "cell_type": "markdown",
      "metadata": {
        "id": "vXAUakUeuzx4"
      },
      "source": [
        "### Introduction"
      ]
    },
    {
      "cell_type": "markdown",
      "metadata": {
        "id": "PKYDIBLdwhJ4"
      },
      "source": [
        "It's nearing April 15th, and after a year of investing it's time to do your taxes. You've made quite a few risky investments in the stock market, and you need to find the total value of your portfolio. Throughout the year, you have noted down each of your trades in a file named `portfolio.txt`. The complete filepath should be: `/content/CUDA/module_1_C/stocks/portfolio.txt`. You can also obtain it by clicking the three dots and selecting `Copy path`. This file has the following format:\n",
        "\n",
        "```txt\n",
        "GOOG 2000 2080 1\n",
        "TSLA 600 572 4\n",
        "FB 255 261 4\n",
        "```\n",
        "Each row contains:\n",
        "* Ticker-tape symbol (`GOOG`)\n",
        "* Purchase price (`2000`)\n",
        "* Current price (`2080`)\n",
        "* Number of shares (`1`)"
      ]
    },
    {
      "cell_type": "markdown",
      "metadata": {
        "id": "Y5BzR9Rzw-lK"
      },
      "source": [
        "### Linked List"
      ]
    },
    {
      "cell_type": "markdown",
      "metadata": {
        "id": "G8HhdJVJxIxV"
      },
      "source": [
        "Your task is to create a Linked List populated with the stocks from `portfolio.txt`.\n",
        "\n",
        "Recall that a Linked List has the following structure:\n",
        "\n",
        "```c\n",
        "typedef struct node {\n",
        "    int data;\n",
        "    struct node* next;\n",
        "} node_t;\n",
        "```\n",
        "\n",
        "Each node has some value associated with it, as well as a pointer to the next node in the list. In this assignment, you'll need to allocate memory using `malloc` and make sure you `free` that memory before your program terminates. Each node will be represented by a stock `struct`."
      ]
    },
    {
      "cell_type": "markdown",
      "metadata": {
        "id": "pSMPvq8Xxcrw"
      },
      "source": [
        "### Hints"
      ]
    },
    {
      "cell_type": "markdown",
      "metadata": {
        "id": "FmnBaaxUxk_2"
      },
      "source": [
        "* Remember that a string in an array of characters, so when allocating memory for your struct, you'll also need to allocate memory for each of the strings. Functions like `strlen` (remember to add 1 for the null terminator) and `strcpy` would be useful here."
      ]
    },
    {
      "cell_type": "markdown",
      "metadata": {
        "id": "EKhlwcwWxqkN"
      },
      "source": [
        "### File I/O"
      ]
    },
    {
      "cell_type": "markdown",
      "metadata": {
        "id": "fKp8QZpSxz0O"
      },
      "source": [
        "You will have to read from a file in order to populate your Linked List. `fscanf` can help with this:\n",
        "```c\n",
        "int fscanf(FILE* fp, char* format, ...)\n",
        "```\n",
        "`fscanf` is identical to other C functions like `scanf` and `printf`, except that the first argument is a file pointer and the second argument is the desired format string. Note that the arguments to `fscanf` must be pointers: `fscanf(myfile, &n)` vs. `fscanf(myfile, n)`."
      ]
    },
    {
      "cell_type": "markdown",
      "metadata": {
        "id": "y5-uf5-Cxsat"
      },
      "source": [
        "### Tasks"
      ]
    },
    {
      "cell_type": "markdown",
      "metadata": {
        "id": "2uVy3ScKx0ol"
      },
      "source": [
        "* The defintion for a `stock` struct in the starter code is incomplete--go ahead and fix this.\n",
        "* Implement the following functions:\n",
        "  * `create_portfolio`: Creates a Linked List (where each element is a stock)\n",
        "  * `free_portfolio`: Frees your Linked List (free every node that you have allocated memory for)\n",
        "  * `print_portfolio`: Prints your Linked List in the following format:\n",
        "  ```\n",
        "  GOOG  | 2000  | 2080  | 1     |\n",
        "  TSLA  | 600   | 572   | 4     |\n",
        "  FB    | 255   | 261   | 4     |\n",
        "  ```\n",
        "You can use the \"left-justify\" option of printf to obtain the format above `printf(\"%-5d\", baz)`\n",
        "  * `total_value`: Finds the total value of the portfolio"
      ]
    },
    {
      "cell_type": "markdown",
      "metadata": {
        "id": "Y-5AXK5kyfbu"
      },
      "source": [
        "### Starter Code\n",
        "Some starter code has been provided for you."
      ]
    },
    {
      "cell_type": "code",
      "metadata": {
        "colab": {
          "base_uri": "https://localhost:8080/"
        },
        "id": "3P_hNSa9yeeN",
        "outputId": "2cb97411-0428-421f-c942-88256b1d39a7"
      },
      "source": [
        "%%writefile stocks.c\n",
        "\n",
        "/* \n",
        " * stocks.c \n",
        " *\n",
        " * Read the contents of portfolio.txt and store each \n",
        " * entry as a Linked List of stocks.\n",
        " *\n",
        " * Compile with: !gcc -o stocks stocks.c\n",
        " * Run with: !./stocks\n",
        " */\n",
        "\n",
        "#include <stdio.h>\n",
        "#include <stdlib.h>\n",
        "\n",
        "/* TODO: Finish implementing the stock_t type */\n",
        "typedef struct stock {\n",
        "    char* symbol;       /* Ticker-tape symbol (i.e., GOOG) */\n",
        "    ...\n",
        "    ...\n",
        "\n",
        "}stock_t;\n",
        "\n",
        "/* TODO: Declare your function prototypes here */\n",
        "/* Note that you may need to change the signatures provided */\n",
        "void print_portfolio(...);\n",
        "void create_portfolio(...);\n",
        "void free_portfolio(...);\n",
        "void total_value(...);\n",
        "\n",
        "/* Add any other helper functions you would like */\n",
        "\n",
        "int main() {\n",
        "    ...\n",
        "    return 0;\n",
        "}"
      ],
      "execution_count": null,
      "outputs": [
        {
          "output_type": "stream",
          "name": "stdout",
          "text": [
            "Overwriting stocks.c\n"
          ]
        }
      ]
    },
    {
      "cell_type": "markdown",
      "metadata": {
        "id": "yvkUycGay858"
      },
      "source": [
        "## Part 2: Caesar Shift Cipher"
      ]
    },
    {
      "cell_type": "markdown",
      "metadata": {
        "id": "a3DrzGGCzW5E"
      },
      "source": [
        "### Introduction"
      ]
    },
    {
      "cell_type": "markdown",
      "metadata": {
        "id": "R7E1sA7Qze2j"
      },
      "source": [
        "The Caesar shift cipher was introduced during the Gallic Wars during Rome's conquest of Gaul (modern-day France). The cipher is based on a cipher alphabet that was shifted a certain number of places (we'll call this the key, `k`) relative to the plain alphabet.\n",
        "\n",
        "![image.png](data:image/png;base64,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)\n",
        "\n",
        "> A Caesar shift of 3.\n",
        "\n",
        "Suetonius, a Roman historian, mentioned that Caesar only used a shift of three places. But, it's clear to see that any shift between 1 and 25 would result in 25 distinct cipher alphabets.\n",
        "\n",
        "One of the main drawbacks of the Caesar shift is that it is extremely vulnerable to brute-force attacks. An attacker can simply try all possible values for `k` and would be able to decrypt the resulting message.\n",
        "\n",
        "In this assignment, you are given a ciphertext `c` (all in lowercase). You will need to brute-force all possible keys `k` in order to crack the code!"
      ]
    },
    {
      "cell_type": "markdown",
      "metadata": {
        "id": "jfeUHmEzzW9j"
      },
      "source": [
        "### Hints"
      ]
    },
    {
      "cell_type": "markdown",
      "metadata": {
        "id": "4ytKB7F46GNo"
      },
      "source": [
        "* It can be helpful to think of the \"wrap-around\" behavior of the Caesar shift with regards to the modulo function. Also, every `char` can be converted to its corresponding `int` for the `ASCII` character set."
      ]
    },
    {
      "cell_type": "markdown",
      "metadata": {
        "id": "us-nYgl-zXBv"
      },
      "source": [
        "### Tasks"
      ]
    },
    {
      "cell_type": "markdown",
      "metadata": {
        "id": "T_t0_hbU6SGA"
      },
      "source": [
        "* Brute-force all possible keys `k` in order to crack the Caesar shift cipher.\n",
        "\n",
        "* When writing your solution, display each attempt for `k` on a separate line:\n",
        "```txt\n",
        "cclzmlu\n",
        "bbkylkt\n",
        "aajxkjs\n",
        "...\n",
        "```\n",
        "Out of the 25 possiblities, one message should make sense!\n"
      ]
    },
    {
      "cell_type": "markdown",
      "metadata": {
        "id": "ETQmU_FL6bhH"
      },
      "source": [
        "> Which value of `k` decrypted the message? What does the message say?\n",
        "\n",
        "> **TODO:** Your answer here\n",
        "\n"
      ]
    },
    {
      "cell_type": "markdown",
      "metadata": {
        "id": "FyaHO31wzdKv"
      },
      "source": [
        "### Starter Code"
      ]
    },
    {
      "cell_type": "markdown",
      "metadata": {
        "id": "z2zyj3h261w4"
      },
      "source": [
        "Some starter code has been provided for you."
      ]
    },
    {
      "cell_type": "code",
      "metadata": {
        "colab": {
          "base_uri": "https://localhost:8080/"
        },
        "id": "Kv0n3UKIy_hu",
        "outputId": "ca8c55e1-59d9-49ef-f41a-2a918052d95e"
      },
      "source": [
        "%%writefile caesar.c\n",
        "\n",
        "/* \n",
        " * caesar.c\n",
        " *\n",
        " * Decrypt the given ciphertext to find the encrypted plaintext. \n",
        " *\n",
        " * Compile with: !gcc -o caesar caesar.c\n",
        " * Run with: !./caesar\n",
        " */\n",
        "\n",
        "#include <stdio.h>\n",
        "\n",
        "int main() {\n",
        "    char msg[] = \"dahhk pdana cajanwh gajkxe\";\n",
        "\n",
        "    /* TODO: Decrypt the ciphertext. */\n",
        "\n",
        "    return 0;\n",
        "}\n"
      ],
      "execution_count": null,
      "outputs": [
        {
          "output_type": "stream",
          "name": "stdout",
          "text": [
            "Writing caesar.c\n"
          ]
        }
      ]
    },
    {
      "cell_type": "markdown",
      "metadata": {
        "id": "9_cOxT_gS01u"
      },
      "source": [
        "## All Done?\n",
        "Navigate to `File` > `Download` > `Download .ipynb`. You can later submit this `.ipynb` file as an attachment after running each of your cells in the [Course Feedback survey](https://docs.google.com/forms/d/e/1FAIpQLSfAYjrJ04aurqE96z-OdUVWsLwdlq14oPKBUJRkShzfZtn6Gg/viewform)."
      ]
    }
  ]
}